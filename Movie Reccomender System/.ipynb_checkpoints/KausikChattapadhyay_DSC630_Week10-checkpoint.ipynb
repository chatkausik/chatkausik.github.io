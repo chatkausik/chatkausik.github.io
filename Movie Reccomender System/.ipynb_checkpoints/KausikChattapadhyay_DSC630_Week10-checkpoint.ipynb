{
 "cells": [
  {
   "cell_type": "markdown",
   "id": "4cdfc285",
   "metadata": {
    "id": "4cdfc285"
   },
   "source": [
    "# 10.2 Exercise: Recommender System Movie Lens Dataset"
   ]
  },
  {
   "cell_type": "markdown",
   "id": "9de5d82f",
   "metadata": {
    "id": "9de5d82f"
   },
   "source": [
    "# Kausik Chattapadhyay"
   ]
  },
  {
   "cell_type": "markdown",
   "id": "6e8959d9",
   "metadata": {
    "id": "6e8959d9"
   },
   "source": [
    "# 05/16/2023"
   ]
  },
  {
   "cell_type": "markdown",
   "id": "81acb574",
   "metadata": {
    "id": "81acb574"
   },
   "source": [
    "Using the small MovieLens data set, create a recommender system that allows users to input a movie they like (in the data set) and recommends ten other movies for them to watch. In your write-up, clearly explain the recommender system process and all steps performed. If you are using a method found online, be sure to reference the source.\n",
    "You can use R or Python to complete this assignment. Submit your code and output to the submission link. Make sure to add comments to all of your code and to document your steps, process, and analysis."
   ]
  },
  {
   "cell_type": "code",
   "execution_count": 1,
   "id": "93261f86",
   "metadata": {
    "id": "93261f86"
   },
   "outputs": [],
   "source": [
    "# Importinng libraries\n",
    "import os\n",
    "import numpy as np\n",
    "import pandas as pd\n",
    "import matplotlib.pyplot as plt"
   ]
  },
  {
   "cell_type": "markdown",
   "id": "63344e2c",
   "metadata": {},
   "source": [
    "**About Dataset used**\n",
    "\n",
    "MovieLens 100K dataset has been used for this project. MovieLens is a rating dataset from the MovieLens website, which has been collected over some period. Stable benchmark dataset. 100,000 ratings from 1000 users on 1700 movies. Released on 4/1998. Further information regarding this dataset can be found here.\n",
    "\n",
    "**A little about the dataset:**\n",
    "\n",
    "MovieLens data sets were collected by the GroupLens Research Project at the University of Minnesota.\n",
    "\n",
    "This data set consists of:\n",
    "\n",
    "100,000 ratings (1-5) from 943 users on 1682 movies.\n",
    "Each user has rated at least 20 movies.\n",
    "Simple demographic info for the users (age, gender, occupation, zip)\n",
    "About few components loaded from the package which are used in this project:\n",
    "\n",
    "u.data -- The full u data set, 100000 ratings by 943 users on 1682 items. Each user has rated at least 20 movies. Users and items are numbered consecutively from 1. The data is randomly ordered. This is a tab separated list of user id | item id | rating | timestamp.\n",
    "\n",
    "u.info -- The number of users, items, and ratings in the u data set.\n",
    "\n",
    "u.item -- Information about the items (movies); this is a tab separated list of movie id | movie title | release date | video release date | IMDb URL | unknown | Action | Adventure | Animation | Children's | Comedy | Crime | Documentary | Drama | Fantasy | Film-Noir | Horror | Musical | Mystery | Romance | Sci-Fi | Thriller | War | Western |\n",
    "The last 19 fields are the genres, a 1 indicates the movie is of that genre, a 0 indicates it is not; movies can be in several genres at once.The movie ids are the ones used in the u.data data set.\n",
    "\n",
    "u.genre -- A list of the genres."
   ]
  },
  {
   "cell_type": "code",
   "execution_count": 3,
   "id": "d9147672",
   "metadata": {
    "colab": {
     "base_uri": "https://localhost:8080/"
    },
    "id": "d9147672",
    "outputId": "b8736aac-1d92-4132-cf7f-3fdcc2561cf6"
   },
   "outputs": [
    {
     "name": "stdout",
     "output_type": "stream",
     "text": [
      "Details of users, items and ratings involved in the loaded movielens dataset:  ['943 users', '1682 items', '100000 ratings']\n"
     ]
    }
   ],
   "source": [
    "# Loading MovieLens dataset\n",
    "# Loading u.info -- The number of users, items, and ratings in the u data set.\n",
    "\n",
    "overall_stats = pd.read_csv('/u.info', header=None)\n",
    "print(\"Details of users, items and ratings involved in the loaded movielens dataset: \",list(overall_stats[0]))"
   ]
  },
  {
   "cell_type": "markdown",
   "id": "030c09ba",
   "metadata": {
    "id": "030c09ba"
   },
   "source": [
    "Loading u.data -- The full u data set, 100000 ratings by 943 users on 1682 items.\n",
    "\n",
    "          Each user has rated at least 20 movies.  Users and items are\n",
    "          numbered consecutively from 1.  The data is randomly ordered. This is a tab separated list of \n",
    "         user id | item id | rating | timestamp. \n",
    "          The time stamps are unix seconds since 1/1/1970 UTC "
   ]
  },
  {
   "cell_type": "markdown",
   "id": "Z3_qpecXfFxr",
   "metadata": {
    "id": "Z3_qpecXfFxr"
   },
   "source": [
    "# New Section"
   ]
  },
  {
   "cell_type": "code",
   "execution_count": 4,
   "id": "8d667143",
   "metadata": {
    "colab": {
     "base_uri": "https://localhost:8080/",
     "height": 206
    },
    "id": "8d667143",
    "outputId": "0da27d26-7d41-46bf-e546-e969fcde5c35"
   },
   "outputs": [
    {
     "data": {
      "text/html": [
       "\n",
       "  <div id=\"df-15b09715-5681-4b47-b38e-77ae1a7d7151\">\n",
       "    <div class=\"colab-df-container\">\n",
       "      <div>\n",
       "<style scoped>\n",
       "    .dataframe tbody tr th:only-of-type {\n",
       "        vertical-align: middle;\n",
       "    }\n",
       "\n",
       "    .dataframe tbody tr th {\n",
       "        vertical-align: top;\n",
       "    }\n",
       "\n",
       "    .dataframe thead th {\n",
       "        text-align: right;\n",
       "    }\n",
       "</style>\n",
       "<table border=\"1\" class=\"dataframe\">\n",
       "  <thead>\n",
       "    <tr style=\"text-align: right;\">\n",
       "      <th></th>\n",
       "      <th>user id</th>\n",
       "      <th>movie id</th>\n",
       "      <th>rating</th>\n",
       "      <th>timestamp</th>\n",
       "    </tr>\n",
       "  </thead>\n",
       "  <tbody>\n",
       "    <tr>\n",
       "      <th>0</th>\n",
       "      <td>196</td>\n",
       "      <td>242</td>\n",
       "      <td>3</td>\n",
       "      <td>881250949</td>\n",
       "    </tr>\n",
       "    <tr>\n",
       "      <th>1</th>\n",
       "      <td>186</td>\n",
       "      <td>302</td>\n",
       "      <td>3</td>\n",
       "      <td>891717742</td>\n",
       "    </tr>\n",
       "    <tr>\n",
       "      <th>2</th>\n",
       "      <td>22</td>\n",
       "      <td>377</td>\n",
       "      <td>1</td>\n",
       "      <td>878887116</td>\n",
       "    </tr>\n",
       "    <tr>\n",
       "      <th>3</th>\n",
       "      <td>244</td>\n",
       "      <td>51</td>\n",
       "      <td>2</td>\n",
       "      <td>880606923</td>\n",
       "    </tr>\n",
       "    <tr>\n",
       "      <th>4</th>\n",
       "      <td>166</td>\n",
       "      <td>346</td>\n",
       "      <td>1</td>\n",
       "      <td>886397596</td>\n",
       "    </tr>\n",
       "  </tbody>\n",
       "</table>\n",
       "</div>\n",
       "      <button class=\"colab-df-convert\" onclick=\"convertToInteractive('df-15b09715-5681-4b47-b38e-77ae1a7d7151')\"\n",
       "              title=\"Convert this dataframe to an interactive table.\"\n",
       "              style=\"display:none;\">\n",
       "        \n",
       "  <svg xmlns=\"http://www.w3.org/2000/svg\" height=\"24px\"viewBox=\"0 0 24 24\"\n",
       "       width=\"24px\">\n",
       "    <path d=\"M0 0h24v24H0V0z\" fill=\"none\"/>\n",
       "    <path d=\"M18.56 5.44l.94 2.06.94-2.06 2.06-.94-2.06-.94-.94-2.06-.94 2.06-2.06.94zm-11 1L8.5 8.5l.94-2.06 2.06-.94-2.06-.94L8.5 2.5l-.94 2.06-2.06.94zm10 10l.94 2.06.94-2.06 2.06-.94-2.06-.94-.94-2.06-.94 2.06-2.06.94z\"/><path d=\"M17.41 7.96l-1.37-1.37c-.4-.4-.92-.59-1.43-.59-.52 0-1.04.2-1.43.59L10.3 9.45l-7.72 7.72c-.78.78-.78 2.05 0 2.83L4 21.41c.39.39.9.59 1.41.59.51 0 1.02-.2 1.41-.59l7.78-7.78 2.81-2.81c.8-.78.8-2.07 0-2.86zM5.41 20L4 18.59l7.72-7.72 1.47 1.35L5.41 20z\"/>\n",
       "  </svg>\n",
       "      </button>\n",
       "      \n",
       "  <style>\n",
       "    .colab-df-container {\n",
       "      display:flex;\n",
       "      flex-wrap:wrap;\n",
       "      gap: 12px;\n",
       "    }\n",
       "\n",
       "    .colab-df-convert {\n",
       "      background-color: #E8F0FE;\n",
       "      border: none;\n",
       "      border-radius: 50%;\n",
       "      cursor: pointer;\n",
       "      display: none;\n",
       "      fill: #1967D2;\n",
       "      height: 32px;\n",
       "      padding: 0 0 0 0;\n",
       "      width: 32px;\n",
       "    }\n",
       "\n",
       "    .colab-df-convert:hover {\n",
       "      background-color: #E2EBFA;\n",
       "      box-shadow: 0px 1px 2px rgba(60, 64, 67, 0.3), 0px 1px 3px 1px rgba(60, 64, 67, 0.15);\n",
       "      fill: #174EA6;\n",
       "    }\n",
       "\n",
       "    [theme=dark] .colab-df-convert {\n",
       "      background-color: #3B4455;\n",
       "      fill: #D2E3FC;\n",
       "    }\n",
       "\n",
       "    [theme=dark] .colab-df-convert:hover {\n",
       "      background-color: #434B5C;\n",
       "      box-shadow: 0px 1px 3px 1px rgba(0, 0, 0, 0.15);\n",
       "      filter: drop-shadow(0px 1px 2px rgba(0, 0, 0, 0.3));\n",
       "      fill: #FFFFFF;\n",
       "    }\n",
       "  </style>\n",
       "\n",
       "      <script>\n",
       "        const buttonEl =\n",
       "          document.querySelector('#df-15b09715-5681-4b47-b38e-77ae1a7d7151 button.colab-df-convert');\n",
       "        buttonEl.style.display =\n",
       "          google.colab.kernel.accessAllowed ? 'block' : 'none';\n",
       "\n",
       "        async function convertToInteractive(key) {\n",
       "          const element = document.querySelector('#df-15b09715-5681-4b47-b38e-77ae1a7d7151');\n",
       "          const dataTable =\n",
       "            await google.colab.kernel.invokeFunction('convertToInteractive',\n",
       "                                                     [key], {});\n",
       "          if (!dataTable) return;\n",
       "\n",
       "          const docLinkHtml = 'Like what you see? Visit the ' +\n",
       "            '<a target=\"_blank\" href=https://colab.research.google.com/notebooks/data_table.ipynb>data table notebook</a>'\n",
       "            + ' to learn more about interactive tables.';\n",
       "          element.innerHTML = '';\n",
       "          dataTable['output_type'] = 'display_data';\n",
       "          await google.colab.output.renderOutput(dataTable, element);\n",
       "          const docLink = document.createElement('div');\n",
       "          docLink.innerHTML = docLinkHtml;\n",
       "          element.appendChild(docLink);\n",
       "        }\n",
       "      </script>\n",
       "    </div>\n",
       "  </div>\n",
       "  "
      ],
      "text/plain": [
       "   user id  movie id  rating  timestamp\n",
       "0      196       242       3  881250949\n",
       "1      186       302       3  891717742\n",
       "2       22       377       1  878887116\n",
       "3      244        51       2  880606923\n",
       "4      166       346       1  886397596"
      ]
     },
     "execution_count": 4,
     "metadata": {},
     "output_type": "execute_result"
    }
   ],
   "source": [
    "## same item id is same as movie id, item id column is renamed as movie id\n",
    "column_names1 = ['user id','movie id','rating','timestamp']\n",
    "dataset = pd.read_csv('/u.data', sep='\\t',header=None,names=column_names1)\n",
    "dataset.head() "
   ]
  },
  {
   "cell_type": "code",
   "execution_count": 5,
   "id": "802ef983",
   "metadata": {
    "colab": {
     "base_uri": "https://localhost:8080/"
    },
    "id": "802ef983",
    "outputId": "19fb3292-c84f-424f-83e5-94b462c80577"
   },
   "outputs": [
    {
     "data": {
      "text/plain": [
       "(100000, 1682, 1)"
      ]
     },
     "execution_count": 5,
     "metadata": {},
     "output_type": "execute_result"
    }
   ],
   "source": [
    "len(dataset), max(dataset['movie id']),min(dataset['movie id'])"
   ]
  },
  {
   "cell_type": "markdown",
   "id": "593bc79f",
   "metadata": {
    "id": "593bc79f"
   },
   "source": [
    "Loading u.item -- Information about the items (movies); this is a tab separated\n",
    "\n",
    "          list of\n",
    "          movie id | movie title | release date | video release date |\n",
    "          IMDb URL | unknown | Action | Adventure | Animation |\n",
    "          Children's | Comedy | Crime | Documentary | Drama | Fantasy |\n",
    "          Film-Noir | Horror | Musical | Mystery | Romance | Sci-Fi |\n",
    "          Thriller | War | Western |\n",
    "          The last 19 fields are the genres, a 1 indicates the movie\n",
    "          is of that genre, a 0 indicates it is not; movies can be in\n",
    "          several genres at once.\n",
    "          The movie ids are the ones used in the u.data data set."
   ]
  },
  {
   "cell_type": "code",
   "execution_count": 6,
   "id": "78636f1b",
   "metadata": {
    "colab": {
     "base_uri": "https://localhost:8080/"
    },
    "id": "78636f1b",
    "outputId": "c89f0af0-75a5-402d-96c9-33a8f36f2751"
   },
   "outputs": [
    {
     "name": "stdout",
     "output_type": "stream",
     "text": [
      "['movie id', 'movie title', 'release date', 'video release date', 'IMDb URL', 'unknown', 'Action', 'Adventure', 'Animation', 'Children', 'Comedy', 'Crime', 'Documentary', 'Drama', 'Fantasy', 'Film-Noir', 'Horror', 'Musical', 'Mystery', 'Romance', 'Sci-Fi', 'Thriller', 'War', 'Western']\n"
     ]
    }
   ],
   "source": [
    "\n",
    "d = 'movie id | movie title | release date | video release date | IMDb URL | unknown | Action | Adventure | Animation | Children | Comedy | Crime | Documentary | Drama | Fantasy | Film-Noir | Horror | Musical | Mystery | Romance | Sci-Fi | Thriller | War | Western'\n",
    "column_names2 = d.split(' | ')\n",
    "print(column_names2)"
   ]
  },
  {
   "cell_type": "code",
   "execution_count": 8,
   "id": "215e5e56",
   "metadata": {
    "colab": {
     "base_uri": "https://localhost:8080/",
     "height": 800
    },
    "id": "215e5e56",
    "outputId": "4b2010f6-5e68-4468-c1a4-38c24f994c93"
   },
   "outputs": [
    {
     "data": {
      "text/html": [
       "\n",
       "  <div id=\"df-85d9e455-9194-40a9-8d28-d260558137f1\">\n",
       "    <div class=\"colab-df-container\">\n",
       "      <div>\n",
       "<style scoped>\n",
       "    .dataframe tbody tr th:only-of-type {\n",
       "        vertical-align: middle;\n",
       "    }\n",
       "\n",
       "    .dataframe tbody tr th {\n",
       "        vertical-align: top;\n",
       "    }\n",
       "\n",
       "    .dataframe thead th {\n",
       "        text-align: right;\n",
       "    }\n",
       "</style>\n",
       "<table border=\"1\" class=\"dataframe\">\n",
       "  <thead>\n",
       "    <tr style=\"text-align: right;\">\n",
       "      <th></th>\n",
       "      <th>movie id</th>\n",
       "      <th>movie title</th>\n",
       "      <th>release date</th>\n",
       "      <th>video release date</th>\n",
       "      <th>IMDb URL</th>\n",
       "      <th>unknown</th>\n",
       "      <th>Action</th>\n",
       "      <th>Adventure</th>\n",
       "      <th>Animation</th>\n",
       "      <th>Children</th>\n",
       "      <th>...</th>\n",
       "      <th>Fantasy</th>\n",
       "      <th>Film-Noir</th>\n",
       "      <th>Horror</th>\n",
       "      <th>Musical</th>\n",
       "      <th>Mystery</th>\n",
       "      <th>Romance</th>\n",
       "      <th>Sci-Fi</th>\n",
       "      <th>Thriller</th>\n",
       "      <th>War</th>\n",
       "      <th>Western</th>\n",
       "    </tr>\n",
       "  </thead>\n",
       "  <tbody>\n",
       "    <tr>\n",
       "      <th>0</th>\n",
       "      <td>1</td>\n",
       "      <td>Toy Story (1995)</td>\n",
       "      <td>01-Jan-1995</td>\n",
       "      <td>NaN</td>\n",
       "      <td>http://us.imdb.com/M/title-exact?Toy%20Story%2...</td>\n",
       "      <td>0</td>\n",
       "      <td>0</td>\n",
       "      <td>0</td>\n",
       "      <td>1</td>\n",
       "      <td>1</td>\n",
       "      <td>...</td>\n",
       "      <td>0</td>\n",
       "      <td>0</td>\n",
       "      <td>0</td>\n",
       "      <td>0</td>\n",
       "      <td>0</td>\n",
       "      <td>0</td>\n",
       "      <td>0</td>\n",
       "      <td>0</td>\n",
       "      <td>0</td>\n",
       "      <td>0</td>\n",
       "    </tr>\n",
       "    <tr>\n",
       "      <th>1</th>\n",
       "      <td>2</td>\n",
       "      <td>GoldenEye (1995)</td>\n",
       "      <td>01-Jan-1995</td>\n",
       "      <td>NaN</td>\n",
       "      <td>http://us.imdb.com/M/title-exact?GoldenEye%20(...</td>\n",
       "      <td>0</td>\n",
       "      <td>1</td>\n",
       "      <td>1</td>\n",
       "      <td>0</td>\n",
       "      <td>0</td>\n",
       "      <td>...</td>\n",
       "      <td>0</td>\n",
       "      <td>0</td>\n",
       "      <td>0</td>\n",
       "      <td>0</td>\n",
       "      <td>0</td>\n",
       "      <td>0</td>\n",
       "      <td>0</td>\n",
       "      <td>1</td>\n",
       "      <td>0</td>\n",
       "      <td>0</td>\n",
       "    </tr>\n",
       "    <tr>\n",
       "      <th>2</th>\n",
       "      <td>3</td>\n",
       "      <td>Four Rooms (1995)</td>\n",
       "      <td>01-Jan-1995</td>\n",
       "      <td>NaN</td>\n",
       "      <td>http://us.imdb.com/M/title-exact?Four%20Rooms%...</td>\n",
       "      <td>0</td>\n",
       "      <td>0</td>\n",
       "      <td>0</td>\n",
       "      <td>0</td>\n",
       "      <td>0</td>\n",
       "      <td>...</td>\n",
       "      <td>0</td>\n",
       "      <td>0</td>\n",
       "      <td>0</td>\n",
       "      <td>0</td>\n",
       "      <td>0</td>\n",
       "      <td>0</td>\n",
       "      <td>0</td>\n",
       "      <td>1</td>\n",
       "      <td>0</td>\n",
       "      <td>0</td>\n",
       "    </tr>\n",
       "    <tr>\n",
       "      <th>3</th>\n",
       "      <td>4</td>\n",
       "      <td>Get Shorty (1995)</td>\n",
       "      <td>01-Jan-1995</td>\n",
       "      <td>NaN</td>\n",
       "      <td>http://us.imdb.com/M/title-exact?Get%20Shorty%...</td>\n",
       "      <td>0</td>\n",
       "      <td>1</td>\n",
       "      <td>0</td>\n",
       "      <td>0</td>\n",
       "      <td>0</td>\n",
       "      <td>...</td>\n",
       "      <td>0</td>\n",
       "      <td>0</td>\n",
       "      <td>0</td>\n",
       "      <td>0</td>\n",
       "      <td>0</td>\n",
       "      <td>0</td>\n",
       "      <td>0</td>\n",
       "      <td>0</td>\n",
       "      <td>0</td>\n",
       "      <td>0</td>\n",
       "    </tr>\n",
       "    <tr>\n",
       "      <th>4</th>\n",
       "      <td>5</td>\n",
       "      <td>Copycat (1995)</td>\n",
       "      <td>01-Jan-1995</td>\n",
       "      <td>NaN</td>\n",
       "      <td>http://us.imdb.com/M/title-exact?Copycat%20(1995)</td>\n",
       "      <td>0</td>\n",
       "      <td>0</td>\n",
       "      <td>0</td>\n",
       "      <td>0</td>\n",
       "      <td>0</td>\n",
       "      <td>...</td>\n",
       "      <td>0</td>\n",
       "      <td>0</td>\n",
       "      <td>0</td>\n",
       "      <td>0</td>\n",
       "      <td>0</td>\n",
       "      <td>0</td>\n",
       "      <td>0</td>\n",
       "      <td>1</td>\n",
       "      <td>0</td>\n",
       "      <td>0</td>\n",
       "    </tr>\n",
       "    <tr>\n",
       "      <th>...</th>\n",
       "      <td>...</td>\n",
       "      <td>...</td>\n",
       "      <td>...</td>\n",
       "      <td>...</td>\n",
       "      <td>...</td>\n",
       "      <td>...</td>\n",
       "      <td>...</td>\n",
       "      <td>...</td>\n",
       "      <td>...</td>\n",
       "      <td>...</td>\n",
       "      <td>...</td>\n",
       "      <td>...</td>\n",
       "      <td>...</td>\n",
       "      <td>...</td>\n",
       "      <td>...</td>\n",
       "      <td>...</td>\n",
       "      <td>...</td>\n",
       "      <td>...</td>\n",
       "      <td>...</td>\n",
       "      <td>...</td>\n",
       "      <td>...</td>\n",
       "    </tr>\n",
       "    <tr>\n",
       "      <th>1677</th>\n",
       "      <td>1678</td>\n",
       "      <td>Mat' i syn (1997)</td>\n",
       "      <td>06-Feb-1998</td>\n",
       "      <td>NaN</td>\n",
       "      <td>http://us.imdb.com/M/title-exact?Mat%27+i+syn+...</td>\n",
       "      <td>0</td>\n",
       "      <td>0</td>\n",
       "      <td>0</td>\n",
       "      <td>0</td>\n",
       "      <td>0</td>\n",
       "      <td>...</td>\n",
       "      <td>0</td>\n",
       "      <td>0</td>\n",
       "      <td>0</td>\n",
       "      <td>0</td>\n",
       "      <td>0</td>\n",
       "      <td>0</td>\n",
       "      <td>0</td>\n",
       "      <td>0</td>\n",
       "      <td>0</td>\n",
       "      <td>0</td>\n",
       "    </tr>\n",
       "    <tr>\n",
       "      <th>1678</th>\n",
       "      <td>1679</td>\n",
       "      <td>B. Monkey (1998)</td>\n",
       "      <td>06-Feb-1998</td>\n",
       "      <td>NaN</td>\n",
       "      <td>http://us.imdb.com/M/title-exact?B%2E+Monkey+(...</td>\n",
       "      <td>0</td>\n",
       "      <td>0</td>\n",
       "      <td>0</td>\n",
       "      <td>0</td>\n",
       "      <td>0</td>\n",
       "      <td>...</td>\n",
       "      <td>0</td>\n",
       "      <td>0</td>\n",
       "      <td>0</td>\n",
       "      <td>0</td>\n",
       "      <td>0</td>\n",
       "      <td>1</td>\n",
       "      <td>0</td>\n",
       "      <td>1</td>\n",
       "      <td>0</td>\n",
       "      <td>0</td>\n",
       "    </tr>\n",
       "    <tr>\n",
       "      <th>1679</th>\n",
       "      <td>1680</td>\n",
       "      <td>Sliding Doors (1998)</td>\n",
       "      <td>01-Jan-1998</td>\n",
       "      <td>NaN</td>\n",
       "      <td>http://us.imdb.com/Title?Sliding+Doors+(1998)</td>\n",
       "      <td>0</td>\n",
       "      <td>0</td>\n",
       "      <td>0</td>\n",
       "      <td>0</td>\n",
       "      <td>0</td>\n",
       "      <td>...</td>\n",
       "      <td>0</td>\n",
       "      <td>0</td>\n",
       "      <td>0</td>\n",
       "      <td>0</td>\n",
       "      <td>0</td>\n",
       "      <td>1</td>\n",
       "      <td>0</td>\n",
       "      <td>0</td>\n",
       "      <td>0</td>\n",
       "      <td>0</td>\n",
       "    </tr>\n",
       "    <tr>\n",
       "      <th>1680</th>\n",
       "      <td>1681</td>\n",
       "      <td>You So Crazy (1994)</td>\n",
       "      <td>01-Jan-1994</td>\n",
       "      <td>NaN</td>\n",
       "      <td>http://us.imdb.com/M/title-exact?You%20So%20Cr...</td>\n",
       "      <td>0</td>\n",
       "      <td>0</td>\n",
       "      <td>0</td>\n",
       "      <td>0</td>\n",
       "      <td>0</td>\n",
       "      <td>...</td>\n",
       "      <td>0</td>\n",
       "      <td>0</td>\n",
       "      <td>0</td>\n",
       "      <td>0</td>\n",
       "      <td>0</td>\n",
       "      <td>0</td>\n",
       "      <td>0</td>\n",
       "      <td>0</td>\n",
       "      <td>0</td>\n",
       "      <td>0</td>\n",
       "    </tr>\n",
       "    <tr>\n",
       "      <th>1681</th>\n",
       "      <td>1682</td>\n",
       "      <td>Scream of Stone (Schrei aus Stein) (1991)</td>\n",
       "      <td>08-Mar-1996</td>\n",
       "      <td>NaN</td>\n",
       "      <td>http://us.imdb.com/M/title-exact?Schrei%20aus%...</td>\n",
       "      <td>0</td>\n",
       "      <td>0</td>\n",
       "      <td>0</td>\n",
       "      <td>0</td>\n",
       "      <td>0</td>\n",
       "      <td>...</td>\n",
       "      <td>0</td>\n",
       "      <td>0</td>\n",
       "      <td>0</td>\n",
       "      <td>0</td>\n",
       "      <td>0</td>\n",
       "      <td>0</td>\n",
       "      <td>0</td>\n",
       "      <td>0</td>\n",
       "      <td>0</td>\n",
       "      <td>0</td>\n",
       "    </tr>\n",
       "  </tbody>\n",
       "</table>\n",
       "<p>1682 rows × 24 columns</p>\n",
       "</div>\n",
       "      <button class=\"colab-df-convert\" onclick=\"convertToInteractive('df-85d9e455-9194-40a9-8d28-d260558137f1')\"\n",
       "              title=\"Convert this dataframe to an interactive table.\"\n",
       "              style=\"display:none;\">\n",
       "        \n",
       "  <svg xmlns=\"http://www.w3.org/2000/svg\" height=\"24px\"viewBox=\"0 0 24 24\"\n",
       "       width=\"24px\">\n",
       "    <path d=\"M0 0h24v24H0V0z\" fill=\"none\"/>\n",
       "    <path d=\"M18.56 5.44l.94 2.06.94-2.06 2.06-.94-2.06-.94-.94-2.06-.94 2.06-2.06.94zm-11 1L8.5 8.5l.94-2.06 2.06-.94-2.06-.94L8.5 2.5l-.94 2.06-2.06.94zm10 10l.94 2.06.94-2.06 2.06-.94-2.06-.94-.94-2.06-.94 2.06-2.06.94z\"/><path d=\"M17.41 7.96l-1.37-1.37c-.4-.4-.92-.59-1.43-.59-.52 0-1.04.2-1.43.59L10.3 9.45l-7.72 7.72c-.78.78-.78 2.05 0 2.83L4 21.41c.39.39.9.59 1.41.59.51 0 1.02-.2 1.41-.59l7.78-7.78 2.81-2.81c.8-.78.8-2.07 0-2.86zM5.41 20L4 18.59l7.72-7.72 1.47 1.35L5.41 20z\"/>\n",
       "  </svg>\n",
       "      </button>\n",
       "      \n",
       "  <style>\n",
       "    .colab-df-container {\n",
       "      display:flex;\n",
       "      flex-wrap:wrap;\n",
       "      gap: 12px;\n",
       "    }\n",
       "\n",
       "    .colab-df-convert {\n",
       "      background-color: #E8F0FE;\n",
       "      border: none;\n",
       "      border-radius: 50%;\n",
       "      cursor: pointer;\n",
       "      display: none;\n",
       "      fill: #1967D2;\n",
       "      height: 32px;\n",
       "      padding: 0 0 0 0;\n",
       "      width: 32px;\n",
       "    }\n",
       "\n",
       "    .colab-df-convert:hover {\n",
       "      background-color: #E2EBFA;\n",
       "      box-shadow: 0px 1px 2px rgba(60, 64, 67, 0.3), 0px 1px 3px 1px rgba(60, 64, 67, 0.15);\n",
       "      fill: #174EA6;\n",
       "    }\n",
       "\n",
       "    [theme=dark] .colab-df-convert {\n",
       "      background-color: #3B4455;\n",
       "      fill: #D2E3FC;\n",
       "    }\n",
       "\n",
       "    [theme=dark] .colab-df-convert:hover {\n",
       "      background-color: #434B5C;\n",
       "      box-shadow: 0px 1px 3px 1px rgba(0, 0, 0, 0.15);\n",
       "      filter: drop-shadow(0px 1px 2px rgba(0, 0, 0, 0.3));\n",
       "      fill: #FFFFFF;\n",
       "    }\n",
       "  </style>\n",
       "\n",
       "      <script>\n",
       "        const buttonEl =\n",
       "          document.querySelector('#df-85d9e455-9194-40a9-8d28-d260558137f1 button.colab-df-convert');\n",
       "        buttonEl.style.display =\n",
       "          google.colab.kernel.accessAllowed ? 'block' : 'none';\n",
       "\n",
       "        async function convertToInteractive(key) {\n",
       "          const element = document.querySelector('#df-85d9e455-9194-40a9-8d28-d260558137f1');\n",
       "          const dataTable =\n",
       "            await google.colab.kernel.invokeFunction('convertToInteractive',\n",
       "                                                     [key], {});\n",
       "          if (!dataTable) return;\n",
       "\n",
       "          const docLinkHtml = 'Like what you see? Visit the ' +\n",
       "            '<a target=\"_blank\" href=https://colab.research.google.com/notebooks/data_table.ipynb>data table notebook</a>'\n",
       "            + ' to learn more about interactive tables.';\n",
       "          element.innerHTML = '';\n",
       "          dataTable['output_type'] = 'display_data';\n",
       "          await google.colab.output.renderOutput(dataTable, element);\n",
       "          const docLink = document.createElement('div');\n",
       "          docLink.innerHTML = docLinkHtml;\n",
       "          element.appendChild(docLink);\n",
       "        }\n",
       "      </script>\n",
       "    </div>\n",
       "  </div>\n",
       "  "
      ],
      "text/plain": [
       "      movie id                                movie title release date  \\\n",
       "0            1                           Toy Story (1995)  01-Jan-1995   \n",
       "1            2                           GoldenEye (1995)  01-Jan-1995   \n",
       "2            3                          Four Rooms (1995)  01-Jan-1995   \n",
       "3            4                          Get Shorty (1995)  01-Jan-1995   \n",
       "4            5                             Copycat (1995)  01-Jan-1995   \n",
       "...        ...                                        ...          ...   \n",
       "1677      1678                          Mat' i syn (1997)  06-Feb-1998   \n",
       "1678      1679                           B. Monkey (1998)  06-Feb-1998   \n",
       "1679      1680                       Sliding Doors (1998)  01-Jan-1998   \n",
       "1680      1681                        You So Crazy (1994)  01-Jan-1994   \n",
       "1681      1682  Scream of Stone (Schrei aus Stein) (1991)  08-Mar-1996   \n",
       "\n",
       "      video release date                                           IMDb URL  \\\n",
       "0                    NaN  http://us.imdb.com/M/title-exact?Toy%20Story%2...   \n",
       "1                    NaN  http://us.imdb.com/M/title-exact?GoldenEye%20(...   \n",
       "2                    NaN  http://us.imdb.com/M/title-exact?Four%20Rooms%...   \n",
       "3                    NaN  http://us.imdb.com/M/title-exact?Get%20Shorty%...   \n",
       "4                    NaN  http://us.imdb.com/M/title-exact?Copycat%20(1995)   \n",
       "...                  ...                                                ...   \n",
       "1677                 NaN  http://us.imdb.com/M/title-exact?Mat%27+i+syn+...   \n",
       "1678                 NaN  http://us.imdb.com/M/title-exact?B%2E+Monkey+(...   \n",
       "1679                 NaN      http://us.imdb.com/Title?Sliding+Doors+(1998)   \n",
       "1680                 NaN  http://us.imdb.com/M/title-exact?You%20So%20Cr...   \n",
       "1681                 NaN  http://us.imdb.com/M/title-exact?Schrei%20aus%...   \n",
       "\n",
       "      unknown  Action  Adventure  Animation  Children  ...  Fantasy  \\\n",
       "0           0       0          0          1         1  ...        0   \n",
       "1           0       1          1          0         0  ...        0   \n",
       "2           0       0          0          0         0  ...        0   \n",
       "3           0       1          0          0         0  ...        0   \n",
       "4           0       0          0          0         0  ...        0   \n",
       "...       ...     ...        ...        ...       ...  ...      ...   \n",
       "1677        0       0          0          0         0  ...        0   \n",
       "1678        0       0          0          0         0  ...        0   \n",
       "1679        0       0          0          0         0  ...        0   \n",
       "1680        0       0          0          0         0  ...        0   \n",
       "1681        0       0          0          0         0  ...        0   \n",
       "\n",
       "      Film-Noir  Horror  Musical  Mystery  Romance  Sci-Fi  Thriller  War  \\\n",
       "0             0       0        0        0        0       0         0    0   \n",
       "1             0       0        0        0        0       0         1    0   \n",
       "2             0       0        0        0        0       0         1    0   \n",
       "3             0       0        0        0        0       0         0    0   \n",
       "4             0       0        0        0        0       0         1    0   \n",
       "...         ...     ...      ...      ...      ...     ...       ...  ...   \n",
       "1677          0       0        0        0        0       0         0    0   \n",
       "1678          0       0        0        0        1       0         1    0   \n",
       "1679          0       0        0        0        1       0         0    0   \n",
       "1680          0       0        0        0        0       0         0    0   \n",
       "1681          0       0        0        0        0       0         0    0   \n",
       "\n",
       "      Western  \n",
       "0           0  \n",
       "1           0  \n",
       "2           0  \n",
       "3           0  \n",
       "4           0  \n",
       "...       ...  \n",
       "1677        0  \n",
       "1678        0  \n",
       "1679        0  \n",
       "1680        0  \n",
       "1681        0  \n",
       "\n",
       "[1682 rows x 24 columns]"
      ]
     },
     "execution_count": 8,
     "metadata": {},
     "output_type": "execute_result"
    }
   ],
   "source": [
    "items_dataset = pd.read_csv('/u.item', sep='|',header=None,names=column_names2,encoding='latin-1')\n",
    "items_dataset"
   ]
  },
  {
   "cell_type": "code",
   "execution_count": 9,
   "id": "fd5cd902",
   "metadata": {
    "colab": {
     "base_uri": "https://localhost:8080/",
     "height": 206
    },
    "id": "fd5cd902",
    "outputId": "40bfd1ca-753c-48c0-ee8e-9d1d1697dad0"
   },
   "outputs": [
    {
     "data": {
      "text/html": [
       "\n",
       "  <div id=\"df-16f4feca-2bc2-4c94-9d09-b24f02fa9456\">\n",
       "    <div class=\"colab-df-container\">\n",
       "      <div>\n",
       "<style scoped>\n",
       "    .dataframe tbody tr th:only-of-type {\n",
       "        vertical-align: middle;\n",
       "    }\n",
       "\n",
       "    .dataframe tbody tr th {\n",
       "        vertical-align: top;\n",
       "    }\n",
       "\n",
       "    .dataframe thead th {\n",
       "        text-align: right;\n",
       "    }\n",
       "</style>\n",
       "<table border=\"1\" class=\"dataframe\">\n",
       "  <thead>\n",
       "    <tr style=\"text-align: right;\">\n",
       "      <th></th>\n",
       "      <th>movie id</th>\n",
       "      <th>movie title</th>\n",
       "    </tr>\n",
       "  </thead>\n",
       "  <tbody>\n",
       "    <tr>\n",
       "      <th>0</th>\n",
       "      <td>1</td>\n",
       "      <td>Toy Story (1995)</td>\n",
       "    </tr>\n",
       "    <tr>\n",
       "      <th>1</th>\n",
       "      <td>2</td>\n",
       "      <td>GoldenEye (1995)</td>\n",
       "    </tr>\n",
       "    <tr>\n",
       "      <th>2</th>\n",
       "      <td>3</td>\n",
       "      <td>Four Rooms (1995)</td>\n",
       "    </tr>\n",
       "    <tr>\n",
       "      <th>3</th>\n",
       "      <td>4</td>\n",
       "      <td>Get Shorty (1995)</td>\n",
       "    </tr>\n",
       "    <tr>\n",
       "      <th>4</th>\n",
       "      <td>5</td>\n",
       "      <td>Copycat (1995)</td>\n",
       "    </tr>\n",
       "  </tbody>\n",
       "</table>\n",
       "</div>\n",
       "      <button class=\"colab-df-convert\" onclick=\"convertToInteractive('df-16f4feca-2bc2-4c94-9d09-b24f02fa9456')\"\n",
       "              title=\"Convert this dataframe to an interactive table.\"\n",
       "              style=\"display:none;\">\n",
       "        \n",
       "  <svg xmlns=\"http://www.w3.org/2000/svg\" height=\"24px\"viewBox=\"0 0 24 24\"\n",
       "       width=\"24px\">\n",
       "    <path d=\"M0 0h24v24H0V0z\" fill=\"none\"/>\n",
       "    <path d=\"M18.56 5.44l.94 2.06.94-2.06 2.06-.94-2.06-.94-.94-2.06-.94 2.06-2.06.94zm-11 1L8.5 8.5l.94-2.06 2.06-.94-2.06-.94L8.5 2.5l-.94 2.06-2.06.94zm10 10l.94 2.06.94-2.06 2.06-.94-2.06-.94-.94-2.06-.94 2.06-2.06.94z\"/><path d=\"M17.41 7.96l-1.37-1.37c-.4-.4-.92-.59-1.43-.59-.52 0-1.04.2-1.43.59L10.3 9.45l-7.72 7.72c-.78.78-.78 2.05 0 2.83L4 21.41c.39.39.9.59 1.41.59.51 0 1.02-.2 1.41-.59l7.78-7.78 2.81-2.81c.8-.78.8-2.07 0-2.86zM5.41 20L4 18.59l7.72-7.72 1.47 1.35L5.41 20z\"/>\n",
       "  </svg>\n",
       "      </button>\n",
       "      \n",
       "  <style>\n",
       "    .colab-df-container {\n",
       "      display:flex;\n",
       "      flex-wrap:wrap;\n",
       "      gap: 12px;\n",
       "    }\n",
       "\n",
       "    .colab-df-convert {\n",
       "      background-color: #E8F0FE;\n",
       "      border: none;\n",
       "      border-radius: 50%;\n",
       "      cursor: pointer;\n",
       "      display: none;\n",
       "      fill: #1967D2;\n",
       "      height: 32px;\n",
       "      padding: 0 0 0 0;\n",
       "      width: 32px;\n",
       "    }\n",
       "\n",
       "    .colab-df-convert:hover {\n",
       "      background-color: #E2EBFA;\n",
       "      box-shadow: 0px 1px 2px rgba(60, 64, 67, 0.3), 0px 1px 3px 1px rgba(60, 64, 67, 0.15);\n",
       "      fill: #174EA6;\n",
       "    }\n",
       "\n",
       "    [theme=dark] .colab-df-convert {\n",
       "      background-color: #3B4455;\n",
       "      fill: #D2E3FC;\n",
       "    }\n",
       "\n",
       "    [theme=dark] .colab-df-convert:hover {\n",
       "      background-color: #434B5C;\n",
       "      box-shadow: 0px 1px 3px 1px rgba(0, 0, 0, 0.15);\n",
       "      filter: drop-shadow(0px 1px 2px rgba(0, 0, 0, 0.3));\n",
       "      fill: #FFFFFF;\n",
       "    }\n",
       "  </style>\n",
       "\n",
       "      <script>\n",
       "        const buttonEl =\n",
       "          document.querySelector('#df-16f4feca-2bc2-4c94-9d09-b24f02fa9456 button.colab-df-convert');\n",
       "        buttonEl.style.display =\n",
       "          google.colab.kernel.accessAllowed ? 'block' : 'none';\n",
       "\n",
       "        async function convertToInteractive(key) {\n",
       "          const element = document.querySelector('#df-16f4feca-2bc2-4c94-9d09-b24f02fa9456');\n",
       "          const dataTable =\n",
       "            await google.colab.kernel.invokeFunction('convertToInteractive',\n",
       "                                                     [key], {});\n",
       "          if (!dataTable) return;\n",
       "\n",
       "          const docLinkHtml = 'Like what you see? Visit the ' +\n",
       "            '<a target=\"_blank\" href=https://colab.research.google.com/notebooks/data_table.ipynb>data table notebook</a>'\n",
       "            + ' to learn more about interactive tables.';\n",
       "          element.innerHTML = '';\n",
       "          dataTable['output_type'] = 'display_data';\n",
       "          await google.colab.output.renderOutput(dataTable, element);\n",
       "          const docLink = document.createElement('div');\n",
       "          docLink.innerHTML = docLinkHtml;\n",
       "          element.appendChild(docLink);\n",
       "        }\n",
       "      </script>\n",
       "    </div>\n",
       "  </div>\n",
       "  "
      ],
      "text/plain": [
       "   movie id        movie title\n",
       "0         1   Toy Story (1995)\n",
       "1         2   GoldenEye (1995)\n",
       "2         3  Four Rooms (1995)\n",
       "3         4  Get Shorty (1995)\n",
       "4         5     Copycat (1995)"
      ]
     },
     "execution_count": 9,
     "metadata": {},
     "output_type": "execute_result"
    }
   ],
   "source": [
    "movie_dataset = items_dataset[['movie id','movie title']]\n",
    "movie_dataset.head()"
   ]
  },
  {
   "cell_type": "markdown",
   "id": "74c5515c",
   "metadata": {
    "id": "74c5515c"
   },
   "source": [
    "Looking at length of original items_dataset and length of unique combination of rows in items_dataset after removing movie id column"
   ]
  },
  {
   "cell_type": "code",
   "execution_count": 10,
   "id": "be2a361f",
   "metadata": {
    "colab": {
     "base_uri": "https://localhost:8080/"
    },
    "id": "be2a361f",
    "outputId": "762c0fc1-316d-4714-9413-f292928f00c2"
   },
   "outputs": [
    {
     "data": {
      "text/plain": [
       "(1664, 1682)"
      ]
     },
     "execution_count": 10,
     "metadata": {},
     "output_type": "execute_result"
    }
   ],
   "source": [
    "\n",
    "## looking at length of original items_dataset and length of unique combination of rows in items_dataset after removing movie id column\n",
    "len(items_dataset.groupby(by=column_names2[1:])),len(items_dataset)"
   ]
  },
  {
   "cell_type": "markdown",
   "id": "8312492d",
   "metadata": {
    "id": "8312492d"
   },
   "source": [
    "I can see there are 18 extra movie id's for already mapped movie title and the same duplicate movie id is assigned to the user in the user-item dataset."
   ]
  },
  {
   "cell_type": "code",
   "execution_count": 11,
   "id": "d40db766",
   "metadata": {
    "colab": {
     "base_uri": "https://localhost:8080/",
     "height": 206
    },
    "id": "d40db766",
    "outputId": "7ce06622-b291-46e0-fbc5-7a926fb18c31"
   },
   "outputs": [
    {
     "data": {
      "text/html": [
       "\n",
       "  <div id=\"df-bf754a72-b0dc-4c40-a53b-24fb246e43dc\">\n",
       "    <div class=\"colab-df-container\">\n",
       "      <div>\n",
       "<style scoped>\n",
       "    .dataframe tbody tr th:only-of-type {\n",
       "        vertical-align: middle;\n",
       "    }\n",
       "\n",
       "    .dataframe tbody tr th {\n",
       "        vertical-align: top;\n",
       "    }\n",
       "\n",
       "    .dataframe thead th {\n",
       "        text-align: right;\n",
       "    }\n",
       "</style>\n",
       "<table border=\"1\" class=\"dataframe\">\n",
       "  <thead>\n",
       "    <tr style=\"text-align: right;\">\n",
       "      <th></th>\n",
       "      <th>user id</th>\n",
       "      <th>movie id</th>\n",
       "      <th>rating</th>\n",
       "      <th>timestamp</th>\n",
       "      <th>movie title</th>\n",
       "    </tr>\n",
       "  </thead>\n",
       "  <tbody>\n",
       "    <tr>\n",
       "      <th>0</th>\n",
       "      <td>196</td>\n",
       "      <td>242</td>\n",
       "      <td>3</td>\n",
       "      <td>881250949</td>\n",
       "      <td>Kolya (1996)</td>\n",
       "    </tr>\n",
       "    <tr>\n",
       "      <th>1</th>\n",
       "      <td>63</td>\n",
       "      <td>242</td>\n",
       "      <td>3</td>\n",
       "      <td>875747190</td>\n",
       "      <td>Kolya (1996)</td>\n",
       "    </tr>\n",
       "    <tr>\n",
       "      <th>2</th>\n",
       "      <td>226</td>\n",
       "      <td>242</td>\n",
       "      <td>5</td>\n",
       "      <td>883888671</td>\n",
       "      <td>Kolya (1996)</td>\n",
       "    </tr>\n",
       "    <tr>\n",
       "      <th>3</th>\n",
       "      <td>154</td>\n",
       "      <td>242</td>\n",
       "      <td>3</td>\n",
       "      <td>879138235</td>\n",
       "      <td>Kolya (1996)</td>\n",
       "    </tr>\n",
       "    <tr>\n",
       "      <th>4</th>\n",
       "      <td>306</td>\n",
       "      <td>242</td>\n",
       "      <td>5</td>\n",
       "      <td>876503793</td>\n",
       "      <td>Kolya (1996)</td>\n",
       "    </tr>\n",
       "  </tbody>\n",
       "</table>\n",
       "</div>\n",
       "      <button class=\"colab-df-convert\" onclick=\"convertToInteractive('df-bf754a72-b0dc-4c40-a53b-24fb246e43dc')\"\n",
       "              title=\"Convert this dataframe to an interactive table.\"\n",
       "              style=\"display:none;\">\n",
       "        \n",
       "  <svg xmlns=\"http://www.w3.org/2000/svg\" height=\"24px\"viewBox=\"0 0 24 24\"\n",
       "       width=\"24px\">\n",
       "    <path d=\"M0 0h24v24H0V0z\" fill=\"none\"/>\n",
       "    <path d=\"M18.56 5.44l.94 2.06.94-2.06 2.06-.94-2.06-.94-.94-2.06-.94 2.06-2.06.94zm-11 1L8.5 8.5l.94-2.06 2.06-.94-2.06-.94L8.5 2.5l-.94 2.06-2.06.94zm10 10l.94 2.06.94-2.06 2.06-.94-2.06-.94-.94-2.06-.94 2.06-2.06.94z\"/><path d=\"M17.41 7.96l-1.37-1.37c-.4-.4-.92-.59-1.43-.59-.52 0-1.04.2-1.43.59L10.3 9.45l-7.72 7.72c-.78.78-.78 2.05 0 2.83L4 21.41c.39.39.9.59 1.41.59.51 0 1.02-.2 1.41-.59l7.78-7.78 2.81-2.81c.8-.78.8-2.07 0-2.86zM5.41 20L4 18.59l7.72-7.72 1.47 1.35L5.41 20z\"/>\n",
       "  </svg>\n",
       "      </button>\n",
       "      \n",
       "  <style>\n",
       "    .colab-df-container {\n",
       "      display:flex;\n",
       "      flex-wrap:wrap;\n",
       "      gap: 12px;\n",
       "    }\n",
       "\n",
       "    .colab-df-convert {\n",
       "      background-color: #E8F0FE;\n",
       "      border: none;\n",
       "      border-radius: 50%;\n",
       "      cursor: pointer;\n",
       "      display: none;\n",
       "      fill: #1967D2;\n",
       "      height: 32px;\n",
       "      padding: 0 0 0 0;\n",
       "      width: 32px;\n",
       "    }\n",
       "\n",
       "    .colab-df-convert:hover {\n",
       "      background-color: #E2EBFA;\n",
       "      box-shadow: 0px 1px 2px rgba(60, 64, 67, 0.3), 0px 1px 3px 1px rgba(60, 64, 67, 0.15);\n",
       "      fill: #174EA6;\n",
       "    }\n",
       "\n",
       "    [theme=dark] .colab-df-convert {\n",
       "      background-color: #3B4455;\n",
       "      fill: #D2E3FC;\n",
       "    }\n",
       "\n",
       "    [theme=dark] .colab-df-convert:hover {\n",
       "      background-color: #434B5C;\n",
       "      box-shadow: 0px 1px 3px 1px rgba(0, 0, 0, 0.15);\n",
       "      filter: drop-shadow(0px 1px 2px rgba(0, 0, 0, 0.3));\n",
       "      fill: #FFFFFF;\n",
       "    }\n",
       "  </style>\n",
       "\n",
       "      <script>\n",
       "        const buttonEl =\n",
       "          document.querySelector('#df-bf754a72-b0dc-4c40-a53b-24fb246e43dc button.colab-df-convert');\n",
       "        buttonEl.style.display =\n",
       "          google.colab.kernel.accessAllowed ? 'block' : 'none';\n",
       "\n",
       "        async function convertToInteractive(key) {\n",
       "          const element = document.querySelector('#df-bf754a72-b0dc-4c40-a53b-24fb246e43dc');\n",
       "          const dataTable =\n",
       "            await google.colab.kernel.invokeFunction('convertToInteractive',\n",
       "                                                     [key], {});\n",
       "          if (!dataTable) return;\n",
       "\n",
       "          const docLinkHtml = 'Like what you see? Visit the ' +\n",
       "            '<a target=\"_blank\" href=https://colab.research.google.com/notebooks/data_table.ipynb>data table notebook</a>'\n",
       "            + ' to learn more about interactive tables.';\n",
       "          element.innerHTML = '';\n",
       "          dataTable['output_type'] = 'display_data';\n",
       "          await google.colab.output.renderOutput(dataTable, element);\n",
       "          const docLink = document.createElement('div');\n",
       "          docLink.innerHTML = docLinkHtml;\n",
       "          element.appendChild(docLink);\n",
       "        }\n",
       "      </script>\n",
       "    </div>\n",
       "  </div>\n",
       "  "
      ],
      "text/plain": [
       "   user id  movie id  rating  timestamp   movie title\n",
       "0      196       242       3  881250949  Kolya (1996)\n",
       "1       63       242       3  875747190  Kolya (1996)\n",
       "2      226       242       5  883888671  Kolya (1996)\n",
       "3      154       242       3  879138235  Kolya (1996)\n",
       "4      306       242       5  876503793  Kolya (1996)"
      ]
     },
     "execution_count": 11,
     "metadata": {},
     "output_type": "execute_result"
    }
   ],
   "source": [
    "# Merging required datasets\n",
    "\n",
    "merged_dataset = pd.merge(dataset, movie_dataset, how='inner', on='movie id')\n",
    "merged_dataset.head()"
   ]
  },
  {
   "cell_type": "markdown",
   "id": "262b2ad3",
   "metadata": {
    "id": "262b2ad3"
   },
   "source": [
    "A dataset is created from the existing merged dataset by grouping the unique user id and movie title combination and the ratings by a user to the same movie in different instances (timestamps) are averaged and stored in the new dataset.\n",
    "\n",
    "Example of a multiple rating scenario by an user to a specific movie:"
   ]
  },
  {
   "cell_type": "code",
   "execution_count": 12,
   "id": "1eb94d24",
   "metadata": {
    "colab": {
     "base_uri": "https://localhost:8080/",
     "height": 112
    },
    "id": "1eb94d24",
    "outputId": "55c8cac8-cfe8-4891-c61e-3c49ce2f6a62"
   },
   "outputs": [
    {
     "data": {
      "text/html": [
       "\n",
       "  <div id=\"df-5e1e03f8-bd7c-425e-b829-06b043e943d4\">\n",
       "    <div class=\"colab-df-container\">\n",
       "      <div>\n",
       "<style scoped>\n",
       "    .dataframe tbody tr th:only-of-type {\n",
       "        vertical-align: middle;\n",
       "    }\n",
       "\n",
       "    .dataframe tbody tr th {\n",
       "        vertical-align: top;\n",
       "    }\n",
       "\n",
       "    .dataframe thead th {\n",
       "        text-align: right;\n",
       "    }\n",
       "</style>\n",
       "<table border=\"1\" class=\"dataframe\">\n",
       "  <thead>\n",
       "    <tr style=\"text-align: right;\">\n",
       "      <th></th>\n",
       "      <th>user id</th>\n",
       "      <th>movie id</th>\n",
       "      <th>rating</th>\n",
       "      <th>timestamp</th>\n",
       "      <th>movie title</th>\n",
       "    </tr>\n",
       "  </thead>\n",
       "  <tbody>\n",
       "    <tr>\n",
       "      <th>4800</th>\n",
       "      <td>894</td>\n",
       "      <td>246</td>\n",
       "      <td>4</td>\n",
       "      <td>882404137</td>\n",
       "      <td>Chasing Amy (1997)</td>\n",
       "    </tr>\n",
       "    <tr>\n",
       "      <th>22340</th>\n",
       "      <td>894</td>\n",
       "      <td>268</td>\n",
       "      <td>3</td>\n",
       "      <td>879896041</td>\n",
       "      <td>Chasing Amy (1997)</td>\n",
       "    </tr>\n",
       "  </tbody>\n",
       "</table>\n",
       "</div>\n",
       "      <button class=\"colab-df-convert\" onclick=\"convertToInteractive('df-5e1e03f8-bd7c-425e-b829-06b043e943d4')\"\n",
       "              title=\"Convert this dataframe to an interactive table.\"\n",
       "              style=\"display:none;\">\n",
       "        \n",
       "  <svg xmlns=\"http://www.w3.org/2000/svg\" height=\"24px\"viewBox=\"0 0 24 24\"\n",
       "       width=\"24px\">\n",
       "    <path d=\"M0 0h24v24H0V0z\" fill=\"none\"/>\n",
       "    <path d=\"M18.56 5.44l.94 2.06.94-2.06 2.06-.94-2.06-.94-.94-2.06-.94 2.06-2.06.94zm-11 1L8.5 8.5l.94-2.06 2.06-.94-2.06-.94L8.5 2.5l-.94 2.06-2.06.94zm10 10l.94 2.06.94-2.06 2.06-.94-2.06-.94-.94-2.06-.94 2.06-2.06.94z\"/><path d=\"M17.41 7.96l-1.37-1.37c-.4-.4-.92-.59-1.43-.59-.52 0-1.04.2-1.43.59L10.3 9.45l-7.72 7.72c-.78.78-.78 2.05 0 2.83L4 21.41c.39.39.9.59 1.41.59.51 0 1.02-.2 1.41-.59l7.78-7.78 2.81-2.81c.8-.78.8-2.07 0-2.86zM5.41 20L4 18.59l7.72-7.72 1.47 1.35L5.41 20z\"/>\n",
       "  </svg>\n",
       "      </button>\n",
       "      \n",
       "  <style>\n",
       "    .colab-df-container {\n",
       "      display:flex;\n",
       "      flex-wrap:wrap;\n",
       "      gap: 12px;\n",
       "    }\n",
       "\n",
       "    .colab-df-convert {\n",
       "      background-color: #E8F0FE;\n",
       "      border: none;\n",
       "      border-radius: 50%;\n",
       "      cursor: pointer;\n",
       "      display: none;\n",
       "      fill: #1967D2;\n",
       "      height: 32px;\n",
       "      padding: 0 0 0 0;\n",
       "      width: 32px;\n",
       "    }\n",
       "\n",
       "    .colab-df-convert:hover {\n",
       "      background-color: #E2EBFA;\n",
       "      box-shadow: 0px 1px 2px rgba(60, 64, 67, 0.3), 0px 1px 3px 1px rgba(60, 64, 67, 0.15);\n",
       "      fill: #174EA6;\n",
       "    }\n",
       "\n",
       "    [theme=dark] .colab-df-convert {\n",
       "      background-color: #3B4455;\n",
       "      fill: #D2E3FC;\n",
       "    }\n",
       "\n",
       "    [theme=dark] .colab-df-convert:hover {\n",
       "      background-color: #434B5C;\n",
       "      box-shadow: 0px 1px 3px 1px rgba(0, 0, 0, 0.15);\n",
       "      filter: drop-shadow(0px 1px 2px rgba(0, 0, 0, 0.3));\n",
       "      fill: #FFFFFF;\n",
       "    }\n",
       "  </style>\n",
       "\n",
       "      <script>\n",
       "        const buttonEl =\n",
       "          document.querySelector('#df-5e1e03f8-bd7c-425e-b829-06b043e943d4 button.colab-df-convert');\n",
       "        buttonEl.style.display =\n",
       "          google.colab.kernel.accessAllowed ? 'block' : 'none';\n",
       "\n",
       "        async function convertToInteractive(key) {\n",
       "          const element = document.querySelector('#df-5e1e03f8-bd7c-425e-b829-06b043e943d4');\n",
       "          const dataTable =\n",
       "            await google.colab.kernel.invokeFunction('convertToInteractive',\n",
       "                                                     [key], {});\n",
       "          if (!dataTable) return;\n",
       "\n",
       "          const docLinkHtml = 'Like what you see? Visit the ' +\n",
       "            '<a target=\"_blank\" href=https://colab.research.google.com/notebooks/data_table.ipynb>data table notebook</a>'\n",
       "            + ' to learn more about interactive tables.';\n",
       "          element.innerHTML = '';\n",
       "          dataTable['output_type'] = 'display_data';\n",
       "          await google.colab.output.renderOutput(dataTable, element);\n",
       "          const docLink = document.createElement('div');\n",
       "          docLink.innerHTML = docLinkHtml;\n",
       "          element.appendChild(docLink);\n",
       "        }\n",
       "      </script>\n",
       "    </div>\n",
       "  </div>\n",
       "  "
      ],
      "text/plain": [
       "       user id  movie id  rating  timestamp         movie title\n",
       "4800       894       246       4  882404137  Chasing Amy (1997)\n",
       "22340      894       268       3  879896041  Chasing Amy (1997)"
      ]
     },
     "execution_count": 12,
     "metadata": {},
     "output_type": "execute_result"
    }
   ],
   "source": [
    "\n",
    "merged_dataset[(merged_dataset['movie title'] == 'Chasing Amy (1997)') & (merged_dataset['user id'] == 894)]"
   ]
  },
  {
   "cell_type": "code",
   "execution_count": 13,
   "id": "80190daf",
   "metadata": {
    "colab": {
     "base_uri": "https://localhost:8080/",
     "height": 206
    },
    "id": "80190daf",
    "outputId": "73d8ad3f-4089-46a8-e913-6894c27c82a9"
   },
   "outputs": [
    {
     "data": {
      "text/html": [
       "\n",
       "  <div id=\"df-62856616-9388-46a0-8a26-a469c07ffaa7\">\n",
       "    <div class=\"colab-df-container\">\n",
       "      <div>\n",
       "<style scoped>\n",
       "    .dataframe tbody tr th:only-of-type {\n",
       "        vertical-align: middle;\n",
       "    }\n",
       "\n",
       "    .dataframe tbody tr th {\n",
       "        vertical-align: top;\n",
       "    }\n",
       "\n",
       "    .dataframe thead th {\n",
       "        text-align: right;\n",
       "    }\n",
       "</style>\n",
       "<table border=\"1\" class=\"dataframe\">\n",
       "  <thead>\n",
       "    <tr style=\"text-align: right;\">\n",
       "      <th></th>\n",
       "      <th>user id</th>\n",
       "      <th>movie title</th>\n",
       "      <th>rating</th>\n",
       "    </tr>\n",
       "  </thead>\n",
       "  <tbody>\n",
       "    <tr>\n",
       "      <th>0</th>\n",
       "      <td>1</td>\n",
       "      <td>101 Dalmatians (1996)</td>\n",
       "      <td>2.0</td>\n",
       "    </tr>\n",
       "    <tr>\n",
       "      <th>1</th>\n",
       "      <td>1</td>\n",
       "      <td>12 Angry Men (1957)</td>\n",
       "      <td>5.0</td>\n",
       "    </tr>\n",
       "    <tr>\n",
       "      <th>2</th>\n",
       "      <td>1</td>\n",
       "      <td>20,000 Leagues Under the Sea (1954)</td>\n",
       "      <td>3.0</td>\n",
       "    </tr>\n",
       "    <tr>\n",
       "      <th>3</th>\n",
       "      <td>1</td>\n",
       "      <td>2001: A Space Odyssey (1968)</td>\n",
       "      <td>4.0</td>\n",
       "    </tr>\n",
       "    <tr>\n",
       "      <th>4</th>\n",
       "      <td>1</td>\n",
       "      <td>Abyss, The (1989)</td>\n",
       "      <td>3.0</td>\n",
       "    </tr>\n",
       "  </tbody>\n",
       "</table>\n",
       "</div>\n",
       "      <button class=\"colab-df-convert\" onclick=\"convertToInteractive('df-62856616-9388-46a0-8a26-a469c07ffaa7')\"\n",
       "              title=\"Convert this dataframe to an interactive table.\"\n",
       "              style=\"display:none;\">\n",
       "        \n",
       "  <svg xmlns=\"http://www.w3.org/2000/svg\" height=\"24px\"viewBox=\"0 0 24 24\"\n",
       "       width=\"24px\">\n",
       "    <path d=\"M0 0h24v24H0V0z\" fill=\"none\"/>\n",
       "    <path d=\"M18.56 5.44l.94 2.06.94-2.06 2.06-.94-2.06-.94-.94-2.06-.94 2.06-2.06.94zm-11 1L8.5 8.5l.94-2.06 2.06-.94-2.06-.94L8.5 2.5l-.94 2.06-2.06.94zm10 10l.94 2.06.94-2.06 2.06-.94-2.06-.94-.94-2.06-.94 2.06-2.06.94z\"/><path d=\"M17.41 7.96l-1.37-1.37c-.4-.4-.92-.59-1.43-.59-.52 0-1.04.2-1.43.59L10.3 9.45l-7.72 7.72c-.78.78-.78 2.05 0 2.83L4 21.41c.39.39.9.59 1.41.59.51 0 1.02-.2 1.41-.59l7.78-7.78 2.81-2.81c.8-.78.8-2.07 0-2.86zM5.41 20L4 18.59l7.72-7.72 1.47 1.35L5.41 20z\"/>\n",
       "  </svg>\n",
       "      </button>\n",
       "      \n",
       "  <style>\n",
       "    .colab-df-container {\n",
       "      display:flex;\n",
       "      flex-wrap:wrap;\n",
       "      gap: 12px;\n",
       "    }\n",
       "\n",
       "    .colab-df-convert {\n",
       "      background-color: #E8F0FE;\n",
       "      border: none;\n",
       "      border-radius: 50%;\n",
       "      cursor: pointer;\n",
       "      display: none;\n",
       "      fill: #1967D2;\n",
       "      height: 32px;\n",
       "      padding: 0 0 0 0;\n",
       "      width: 32px;\n",
       "    }\n",
       "\n",
       "    .colab-df-convert:hover {\n",
       "      background-color: #E2EBFA;\n",
       "      box-shadow: 0px 1px 2px rgba(60, 64, 67, 0.3), 0px 1px 3px 1px rgba(60, 64, 67, 0.15);\n",
       "      fill: #174EA6;\n",
       "    }\n",
       "\n",
       "    [theme=dark] .colab-df-convert {\n",
       "      background-color: #3B4455;\n",
       "      fill: #D2E3FC;\n",
       "    }\n",
       "\n",
       "    [theme=dark] .colab-df-convert:hover {\n",
       "      background-color: #434B5C;\n",
       "      box-shadow: 0px 1px 3px 1px rgba(0, 0, 0, 0.15);\n",
       "      filter: drop-shadow(0px 1px 2px rgba(0, 0, 0, 0.3));\n",
       "      fill: #FFFFFF;\n",
       "    }\n",
       "  </style>\n",
       "\n",
       "      <script>\n",
       "        const buttonEl =\n",
       "          document.querySelector('#df-62856616-9388-46a0-8a26-a469c07ffaa7 button.colab-df-convert');\n",
       "        buttonEl.style.display =\n",
       "          google.colab.kernel.accessAllowed ? 'block' : 'none';\n",
       "\n",
       "        async function convertToInteractive(key) {\n",
       "          const element = document.querySelector('#df-62856616-9388-46a0-8a26-a469c07ffaa7');\n",
       "          const dataTable =\n",
       "            await google.colab.kernel.invokeFunction('convertToInteractive',\n",
       "                                                     [key], {});\n",
       "          if (!dataTable) return;\n",
       "\n",
       "          const docLinkHtml = 'Like what you see? Visit the ' +\n",
       "            '<a target=\"_blank\" href=https://colab.research.google.com/notebooks/data_table.ipynb>data table notebook</a>'\n",
       "            + ' to learn more about interactive tables.';\n",
       "          element.innerHTML = '';\n",
       "          dataTable['output_type'] = 'display_data';\n",
       "          await google.colab.output.renderOutput(dataTable, element);\n",
       "          const docLink = document.createElement('div');\n",
       "          docLink.innerHTML = docLinkHtml;\n",
       "          element.appendChild(docLink);\n",
       "        }\n",
       "      </script>\n",
       "    </div>\n",
       "  </div>\n",
       "  "
      ],
      "text/plain": [
       "   user id                          movie title  rating\n",
       "0        1                101 Dalmatians (1996)     2.0\n",
       "1        1                  12 Angry Men (1957)     5.0\n",
       "2        1  20,000 Leagues Under the Sea (1954)     3.0\n",
       "3        1         2001: A Space Odyssey (1968)     4.0\n",
       "4        1                    Abyss, The (1989)     3.0"
      ]
     },
     "execution_count": 13,
     "metadata": {},
     "output_type": "execute_result"
    }
   ],
   "source": [
    "# Creating a final refined dataset with unique user id, movie name combination and their ratings:\n",
    "refined_dataset = merged_dataset.groupby(by=['user id','movie title'], as_index=False).agg({\"rating\":\"mean\"})\n",
    "\n",
    "refined_dataset.head()"
   ]
  },
  {
   "cell_type": "code",
   "execution_count": 14,
   "id": "fa67bea2",
   "metadata": {
    "colab": {
     "base_uri": "https://localhost:8080/"
    },
    "id": "fa67bea2",
    "outputId": "7864967d-d785-400a-f4d6-04e45efb0bc7"
   },
   "outputs": [
    {
     "data": {
      "text/plain": [
       "(1664, 943)"
      ]
     },
     "execution_count": 14,
     "metadata": {},
     "output_type": "execute_result"
    }
   ],
   "source": [
    "# Creating lists for unique user id's and movie names:\n",
    "\n",
    "\n",
    "#list of all users\n",
    "unique_users = refined_dataset['user id'].unique() \n",
    "#creating a list of all movie names in it\n",
    "unique_movies = refined_dataset['movie title'].unique()\n",
    "len(unique_movies),len(unique_users)"
   ]
  },
  {
   "cell_type": "code",
   "execution_count": 15,
   "id": "bfe83ad1",
   "metadata": {
    "colab": {
     "base_uri": "https://localhost:8080/"
    },
    "id": "bfe83ad1",
    "outputId": "7c35db54-8b58-4a7d-9bb3-a40e2cdcd983"
   },
   "outputs": [
    {
     "data": {
      "text/plain": [
       "(99693, 99693)"
      ]
     },
     "execution_count": 15,
     "metadata": {},
     "output_type": "execute_result"
    }
   ],
   "source": [
    "# Converting user id, movie name column of refined dataset to respective lists:\n",
    "\n",
    "users_list = refined_dataset['user id'].tolist()\n",
    "movie_list = refined_dataset['movie title'].tolist()\n",
    "len(users_list),len(movie_list)"
   ]
  },
  {
   "cell_type": "code",
   "execution_count": 16,
   "id": "d317b838",
   "metadata": {
    "colab": {
     "base_uri": "https://localhost:8080/"
    },
    "id": "d317b838",
    "outputId": "3728d337-0205-4c29-ce18-5764c06bce26"
   },
   "outputs": [
    {
     "data": {
      "text/plain": [
       "99693"
      ]
     },
     "execution_count": 16,
     "metadata": {},
     "output_type": "execute_result"
    }
   ],
   "source": [
    "# Extracting ratings into a list:\n",
    "\n",
    "\n",
    "ratings_list = refined_dataset['rating'].tolist()\n",
    "#print(ratings_list)\n",
    "len(ratings_list)"
   ]
  },
  {
   "cell_type": "code",
   "execution_count": 17,
   "id": "ca6ca113",
   "metadata": {
    "colab": {
     "base_uri": "https://localhost:8080/"
    },
    "id": "ca6ca113",
    "outputId": "9b4dc05d-5bf7-4b3e-b11c-aef27f37afec"
   },
   "outputs": [
    {
     "name": "stdout",
     "output_type": "stream",
     "text": [
      "{'101 Dalmatians (1996)': 0, '12 Angry Men (1957)': 1, '20,000 Leagues Under the Sea (1954)': 2, '2001: A Space Odyssey (1968)': 3, 'Abyss, The (1989)': 4, 'Ace Ventura: Pet Detective (1994)': 5, 'Air Bud (1997)': 6, 'Akira (1988)': 7, 'Aladdin (1992)': 8, 'Alien (1979)': 9, 'Aliens (1986)': 10, 'All Dogs Go to Heaven 2 (1996)': 11, 'Amadeus (1984)': 12, 'Angels and Insects (1995)': 13, \"Antonia's Line (1995)\": 14, 'Apocalypse Now (1979)': 15, 'Apollo 13 (1995)': 16, 'Aristocats, The (1970)': 17, 'Army of Darkness (1993)': 18, 'Austin Powers: International Man of Mystery (1997)': 19, 'Babe (1995)': 20, 'Back to the Future (1985)': 21, 'Bad Boys (1995)': 22, 'Basic Instinct (1992)': 23, 'Batman & Robin (1997)': 24, 'Batman Forever (1995)': 25, 'Batman Returns (1992)': 26, 'Beavis and Butt-head Do America (1996)': 27, 'Bedknobs and Broomsticks (1971)': 28, 'Belle de jour (1967)': 29, 'Big Night (1996)': 30, 'Billy Madison (1995)': 31, 'Birdcage, The (1996)': 32, 'Blade Runner (1982)': 33, 'Blues Brothers, The (1980)': 34, 'Bound (1996)': 35, \"Bram Stoker's Dracula (1992)\": 36, 'Braveheart (1995)': 37, 'Brazil (1985)': 38, \"Breakfast at Tiffany's (1961)\": 39, 'Breaking the Waves (1996)': 40, 'Bridge on the River Kwai, The (1957)': 41, 'Brother Minister: The Assassination of Malcolm X (1994)': 42, 'Brothers McMullen, The (1995)': 43, 'Cable Guy, The (1996)': 44, 'Cape Fear (1991)': 45, \"Carlito's Way (1993)\": 46, 'Chasing Amy (1997)': 47, 'Cinema Paradiso (1988)': 48, 'Citizen Kane (1941)': 49, 'Citizen Ruth (1996)': 50, 'Clerks (1994)': 51, 'Clockwork Orange, A (1971)': 52, 'Cold Comfort Farm (1995)': 53, 'Contact (1997)': 54, 'Copycat (1995)': 55, 'Crimson Tide (1995)': 56, 'Crow, The (1994)': 57, 'Crumb (1994)': 58, 'Cyrano de Bergerac (1990)': 59, 'D3: The Mighty Ducks (1996)': 60, 'Dances with Wolves (1990)': 61, 'Dead Man Walking (1995)': 62, 'Dead Poets Society (1989)': 63, 'Delicatessen (1991)': 64, 'Desperado (1995)': 65, \"Devil's Own, The (1997)\": 66, 'Diabolique (1996)': 67, 'Die Hard (1988)': 68, 'Die Hard 2 (1990)': 69, 'Dirty Dancing (1987)': 70, 'Disclosure (1994)': 71, 'Dolores Claiborne (1994)': 72, 'Doom Generation, The (1995)': 73, 'Eat Drink Man Woman (1994)': 74, 'Ed Wood (1994)': 75, 'Empire Strikes Back, The (1980)': 76, 'Event Horizon (1997)': 77, 'Evil Dead II (1987)': 78, 'Exotica (1994)': 79, 'Fargo (1996)': 80, 'Faster Pussycat! Kill! Kill! (1965)': 81, 'Field of Dreams (1989)': 82, 'Fifth Element, The (1997)': 83, 'Firm, The (1993)': 84, 'Fish Called Wanda, A (1988)': 85, 'Flipper (1996)': 86, 'Forrest Gump (1994)': 87, 'Four Rooms (1995)': 88, 'Four Weddings and a Funeral (1994)': 89, 'Free Willy (1993)': 90, 'Free Willy 2: The Adventure Home (1995)': 91, 'French Twist (Gazon maudit) (1995)': 92, 'Frighteners, The (1996)': 93, 'From Dusk Till Dawn (1996)': 94, 'Fugitive, The (1993)': 95, 'Full Metal Jacket (1987)': 96, 'Full Monty, The (1997)': 97, 'Gattaca (1997)': 98, 'George of the Jungle (1997)': 99, 'Get Shorty (1995)': 100, 'Ghost and the Darkness, The (1996)': 101, 'Glengarry Glen Ross (1992)': 102, 'Godfather, The (1972)': 103, 'Godfather: Part II, The (1974)': 104, 'GoldenEye (1995)': 105, 'Gone with the Wind (1939)': 106, 'Good Will Hunting (1997)': 107, 'Good, The Bad and The Ugly, The (1966)': 108, 'GoodFellas (1990)': 109, 'Graduate, The (1967)': 110, 'Grand Day Out, A (1992)': 111, 'Grosse Pointe Blank (1997)': 112, 'Groundhog Day (1993)': 113, 'Haunted World of Edward D. Wood Jr., The (1995)': 114, 'Heavy Metal (1981)': 115, 'Henry V (1989)': 116, 'Home Alone (1990)': 117, 'Homeward Bound: The Incredible Journey (1993)': 118, 'Hoop Dreams (1994)': 119, 'Horseman on the Roof, The (Hussard sur le toit, Le) (1995)': 120, 'Hot Shots! Part Deux (1993)': 121, 'Hudsucker Proxy, The (1994)': 122, 'Hunt for Red October, The (1990)': 123, 'I.Q. (1994)': 124, 'In the Company of Men (1997)': 125, 'Independence Day (ID4) (1996)': 126, 'Indiana Jones and the Last Crusade (1989)': 127, 'Jaws (1975)': 128, 'Jean de Florette (1986)': 129, 'Jerry Maguire (1996)': 130, 'Jude (1996)': 131, 'Jungle2Jungle (1997)': 132, 'Jurassic Park (1993)': 133, 'Kansas City (1996)': 134, 'Kids in the Hall: Brain Candy (1996)': 135, 'Kolya (1996)': 136, 'Kull the Conqueror (1997)': 137, 'Last of the Mohicans, The (1992)': 138, 'Lawnmower Man, The (1992)': 139, 'Legends of the Fall (1994)': 140, 'Lion King, The (1994)': 141, 'Lone Star (1996)': 142, 'Long Kiss Goodnight, The (1996)': 143, 'Lost World: Jurassic Park, The (1997)': 144, 'Love Bug, The (1969)': 145, 'M*A*S*H (1970)': 146, 'Mad Love (1995)': 147, 'Madness of King George, The (1994)': 148, 'Manon of the Spring (Manon des sources) (1986)': 149, 'Mars Attacks! (1996)': 150, 'Mask, The (1994)': 151, 'Maverick (1994)': 152, 'Maya Lin: A Strong Clear Vision (1994)': 153, 'Men in Black (1997)': 154, 'Mighty Aphrodite (1995)': 155, 'Mimic (1997)': 156, 'Mirror Has Two Faces, The (1996)': 157, 'Moll Flanders (1996)': 158, 'Monty Python and the Holy Grail (1974)': 159, \"Monty Python's Life of Brian (1979)\": 160, \"Mr. Holland's Opus (1995)\": 161, 'Mr. Smith Goes to Washington (1939)': 162, 'Much Ado About Nothing (1993)': 163, 'Muppet Treasure Island (1996)': 164, \"My Best Friend's Wedding (1997)\": 165, 'Mystery Science Theater 3000: The Movie (1996)': 166, 'Nadja (1994)': 167, 'Natural Born Killers (1994)': 168, 'Net, The (1995)': 169, 'Nightmare Before Christmas, The (1993)': 170, 'Nightmare on Elm Street, A (1984)': 171, 'Nikita (La Femme Nikita) (1990)': 172, 'On Golden Pond (1981)': 173, 'Operation Dumbo Drop (1995)': 174, 'Outbreak (1995)': 175, 'Patton (1970)': 176, 'Phenomenon (1996)': 177, 'Pillow Book, The (1995)': 178, 'Pink Floyd - The Wall (1982)': 179, 'Platoon (1986)': 180, 'Postino, Il (1994)': 181, 'Priest (1994)': 182, 'Princess Bride, The (1987)': 183, 'Private Benjamin (1980)': 184, 'Professional, The (1994)': 185, 'Psycho (1960)': 186, 'Pulp Fiction (1994)': 187, 'Quiz Show (1994)': 188, 'Raging Bull (1980)': 189, 'Raiders of the Lost Ark (1981)': 190, 'Raising Arizona (1987)': 191, 'Ref, The (1994)': 192, 'Remains of the Day, The (1993)': 193, 'Reservoir Dogs (1992)': 194, 'Return of the Jedi (1983)': 195, 'Return of the Pink Panther, The (1974)': 196, 'Richard III (1995)': 197, 'Ridicule (1996)': 198, 'Right Stuff, The (1983)': 199, \"Robert A. Heinlein's The Puppet Masters (1994)\": 200, 'Rock, The (1996)': 201, 'Room with a View, A (1986)': 202, 'Rumble in the Bronx (1995)': 203, 'Santa Clause, The (1994)': 204, 'Searching for Bobby Fischer (1993)': 205, 'Seven (Se7en) (1995)': 206, 'Sgt. Bilko (1996)': 207, 'Shall We Dance? (1996)': 208, 'Shanghai Triad (Yao a yao yao dao waipo qiao) (1995)': 209, 'Shawshank Redemption, The (1994)': 210, 'Shining, The (1980)': 211, 'Silence of the Lambs, The (1991)': 212, 'Sleeper (1973)': 213, 'Sleepless in Seattle (1993)': 214, 'Sling Blade (1996)': 215, \"Smilla's Sense of Snow (1997)\": 216, 'Sneakers (1992)': 217, 'Snow White and the Seven Dwarfs (1937)': 218, 'So I Married an Axe Murderer (1993)': 219, 'Sound of Music, The (1965)': 220, 'Spitfire Grill, The (1996)': 221, 'Star Trek III: The Search for Spock (1984)': 222, 'Star Trek IV: The Voyage Home (1986)': 223, 'Star Trek VI: The Undiscovered Country (1991)': 224, 'Star Trek: First Contact (1996)': 225, 'Star Trek: The Wrath of Khan (1982)': 226, 'Star Wars (1977)': 227, 'Stargate (1994)': 228, 'Starship Troopers (1997)': 229, 'Steel (1997)': 230, 'Sting, The (1973)': 231, 'Strange Days (1995)': 232, 'Striptease (1996)': 233, 'Supercop (1992)': 234, 'Swingers (1996)': 235, 'Taxi Driver (1976)': 236, 'Terminator 2: Judgment Day (1991)': 237, 'Terminator, The (1984)': 238, 'Theodore Rex (1995)': 239, 'This Is Spinal Tap (1984)': 240, 'Three Colors: Blue (1993)': 241, 'Three Colors: Red (1994)': 242, 'Three Colors: White (1994)': 243, 'To Wong Foo, Thanks for Everything! Julie Newmar (1995)': 244, 'Top Gun (1986)': 245, 'Toy Story (1995)': 246, 'True Romance (1993)': 247, 'Truth About Cats & Dogs, The (1996)': 248, 'Turbo: A Power Rangers Movie (1997)': 249, 'Twelve Monkeys (1995)': 250, 'Twister (1996)': 251, 'Unbearable Lightness of Being, The (1988)': 252, 'Under Siege (1992)': 253, 'Unforgiven (1992)': 254, 'Unhook the Stars (1996)': 255, 'Usual Suspects, The (1995)': 256, 'Wallace & Gromit: The Best of Aardman Animation (1996)': 257, \"Weekend at Bernie's (1989)\": 258, 'Welcome to the Dollhouse (1995)': 259, \"What's Eating Gilbert Grape (1993)\": 260, 'When Harry Met Sally... (1989)': 261, 'When the Cats Away (Chacun cherche son chat) (1996)': 262, 'While You Were Sleeping (1995)': 263, 'White Balloon, The (1995)': 264, 'Willy Wonka and the Chocolate Factory (1971)': 265, 'Wizard of Oz, The (1939)': 266, 'Wrong Trousers, The (1993)': 267, 'Young Frankenstein (1974)': 268, 'Young Guns (1988)': 269, 'unknown': 270, '3 Ninjas: High Noon At Mega Mountain (1998)': 271, 'Absolute Power (1997)': 272, 'Air Force One (1997)': 273, 'Apt Pupil (1998)': 274, 'As Good As It Gets (1997)': 275, 'Bed of Roses (1996)': 276, 'Breakdown (1997)': 277, 'Deceiver (1997)': 278, \"Devil's Advocate, The (1997)\": 279, 'Donnie Brasco (1997)': 280, 'Emma (1996)': 281, 'English Patient, The (1996)': 282, 'Evita (1996)': 283, 'Face/Off (1997)': 284, 'FairyTale: A True Story (1997)': 285, 'Fierce Creatures (1997)': 286, 'Fly Away Home (1996)': 287, 'Heat (1995)': 288, 'Hoodlum (1997)': 289, 'Ice Storm, The (1997)': 290, 'In & Out (1997)': 291, 'L.A. Confidential (1997)': 292, 'Leaving Las Vegas (1995)': 293, 'Liar Liar (1997)': 294, \"Marvin's Room (1996)\": 295, 'Midnight in the Garden of Good and Evil (1997)': 296, 'Mrs. Brown (Her Majesty, Mrs. Brown) (1997)': 297, 'Once Upon a Time... When We Were Colored (1995)': 298, 'Promesse, La (1996)': 299, 'Rainmaker, The (1997)': 300, 'Restoration (1995)': 301, 'River Wild, The (1994)': 302, 'Rosewood (1997)': 303, 'Sabrina (1995)': 304, 'Scream (1996)': 305, 'Secrets & Lies (1996)': 306, 'Sense and Sensibility (1995)': 307, 'Time to Kill, A (1996)': 308, 'Tin Cup (1996)': 309, 'Titanic (1997)': 310, \"Ulee's Gold (1997)\": 311, 'Up Close and Personal (1996)': 312, 'Wings of the Dove, The (1997)': 313, '187 (1997)': 314, 'Alien: Resurrection (1997)': 315, 'Apostle, The (1997)': 316, 'Bean (1997)': 317, 'Boogie Nights (1997)': 318, 'Conspiracy Theory (1997)': 319, 'Cop Land (1997)': 320, 'Crash (1996)': 321, 'Critical Care (1997)': 322, \"Dante's Peak (1997)\": 323, 'Deconstructing Harry (1997)': 324, 'Deep Rising (1998)': 325, 'Desperate Measures (1998)': 326, 'Edge, The (1997)': 327, 'Everyone Says I Love You (1996)': 328, 'Fallen (1998)': 329, 'G.I. Jane (1997)': 330, 'Game, The (1997)': 331, 'Hard Rain (1998)': 332, 'House of Yes, The (1997)': 333, 'How to Be a Player (1997)': 334, 'In the Name of the Father (1993)': 335, 'Jackie Brown (1997)': 336, 'Kiss the Girls (1997)': 337, 'Lost Highway (1997)': 338, 'Mad City (1997)': 339, 'Man Who Knew Too Little, The (1997)': 340, 'Mother (1996)': 341, 'Murder at 1600 (1997)': 342, 'Paradise Lost: The Child Murders at Robin Hood Hills (1996)': 343, 'Playing God (1997)': 344, 'Prophecy II, The (1998)': 345, \"Schindler's List (1993)\": 346, 'Sphere (1998)': 347, 'Spice World (1997)': 348, 'U Turn (1997)': 349, 'Wag the Dog (1997)': 350, 'Wedding Singer, The (1998)': 351, 'Assignment, The (1997)': 352, 'Blues Brothers 2000 (1998)': 353, 'Client, The (1994)': 354, 'Incognito (1997)': 355, \"One Flew Over the Cuckoo's Nest (1975)\": 356, 'Spawn (1997)': 357, 'Wonderland (1997)': 358, 'Ace Ventura: When Nature Calls (1995)': 359, 'Addams Family Values (1993)': 360, 'Adventures of Priscilla, Queen of the Desert, The (1994)': 361, 'Age of Innocence, The (1993)': 362, 'Aladdin and the King of Thieves (1996)': 363, 'Alice in Wonderland (1951)': 364, 'American Werewolf in London, An (1981)': 365, \"Amityville 1992: It's About Time (1992)\": 366, 'Amityville 3-D (1983)': 367, 'Amityville Curse, The (1990)': 368, 'Amityville Horror, The (1979)': 369, 'Amityville II: The Possession (1982)': 370, 'Amityville: A New Generation (1993)': 371, 'Apple Dumpling Gang, The (1975)': 372, 'Bastard Out of Carolina (1996)': 373, 'Batman (1989)': 374, 'Beverly Hills Cop III (1994)': 375, 'Beverly Hills Ninja (1997)': 376, 'Bio-Dome (1996)': 377, 'Birds, The (1963)': 378, 'Black Beauty (1994)': 379, 'Black Sheep (1996)': 380, 'Blob, The (1958)': 381, 'Bob Roberts (1992)': 382, 'Body Snatcher, The (1945)': 383, 'Brady Bunch Movie, The (1995)': 384, 'Bridges of Madison County, The (1995)': 385, 'Burnt Offerings (1976)': 386, 'Butch Cassidy and the Sundance Kid (1969)': 387, 'Carrie (1976)': 388, 'Children of the Corn: The Gathering (1996)': 389, 'Cinderella (1950)': 390, 'Close Shave, A (1995)': 391, 'Clueless (1995)': 392, 'Dangerous Minds (1995)': 393, 'Day the Earth Stood Still, The (1951)': 394, 'Duck Soup (1933)': 395, 'E.T. the Extra-Terrestrial (1982)': 396, 'Fantasia (1940)': 397, 'Fear of a Black Hat (1993)': 398, 'Flintstones, The (1994)': 399, 'Forbidden Planet (1956)': 400, 'Free Willy 3: The Rescue (1997)': 401, 'Ghost (1990)': 402, 'Grease (1978)': 403, 'Harold and Maude (1971)': 404, 'Heathers (1989)': 405, 'Heavyweights (1994)': 406, 'Highlander (1986)': 407, 'Houseguest (1994)': 408, 'Jack (1996)': 409, \"Jackie Chan's First Strike (1996)\": 410, 'Jaws 2 (1978)': 411, 'Jaws 3-D (1983)': 412, 'Jeffrey (1995)': 413, 'Judge Dredd (1995)': 414, 'Kingpin (1996)': 415, 'Last Action Hero (1993)': 416, 'Little Rascals, The (1994)': 417, 'Man Without a Face, The (1993)': 418, 'Mary Poppins (1964)': 419, 'Mary Reilly (1996)': 420, 'Mighty Morphin Power Rangers: The Movie (1995)': 421, 'Miracle on 34th Street (1994)': 422, 'Mission: Impossible (1996)': 423, 'Mrs. Doubtfire (1993)': 424, \"Muriel's Wedding (1994)\": 425, 'My Favorite Year (1982)': 426, 'Naked Gun 33 1/3: The Final Insult (1994)': 427, 'Nutty Professor, The (1996)': 428, 'Old Yeller (1957)': 429, 'Omen, The (1976)': 430, 'Parent Trap, The (1961)': 431, 'Pinocchio (1940)': 432, 'Powder (1995)': 433, 'Radioland Murders (1994)': 434, 'Robin Hood: Men in Tights (1993)': 435, 'Serial Mom (1994)': 436, 'Showgirls (1995)': 437, 'Spy Hard (1996)': 438, 'Star Trek V: The Final Frontier (1989)': 439, 'Star Trek: Generations (1994)': 440, 'Star Trek: The Motion Picture (1979)': 441, 'Striking Distance (1993)': 442, 'Sudden Death (1995)': 443, 'Super Mario Bros. (1993)': 444, 'Tales From the Crypt Presents: Demon Knight (1995)': 445, 'Tales from the Crypt Presents: Bordello of Blood (1996)': 446, 'Thinner (1996)': 447, 'Three Musketeers, The (1993)': 448, 'To Kill a Mockingbird (1962)': 449, 'Transformers: The Movie, The (1986)': 450, 'True Lies (1994)': 451, 'Very Brady Sequel, A (1996)': 452, \"William Shakespeare's Romeo and Juliet (1996)\": 453, 'Addicted to Love (1997)': 454, 'Adventures of Robin Hood, The (1938)': 455, 'African Queen, The (1951)': 456, 'Anastasia (1997)': 457, 'Annie Hall (1977)': 458, 'Apartment, The (1960)': 459, 'Around the World in 80 Days (1956)': 460, 'Bananas (1971)': 461, 'Ben-Hur (1959)': 462, 'Big Sleep, The (1946)': 463, 'Bonnie and Clyde (1967)': 464, 'Boot, Das (1981)': 465, 'Bringing Up Baby (1938)': 466, 'Bronx Tale, A (1993)': 467, 'Candidate, The (1972)': 468, 'Casablanca (1942)': 469, 'Cat on a Hot Tin Roof (1958)': 470, 'Cool Hand Luke (1967)': 471, 'Courage Under Fire (1996)': 472, 'Crossing Guard, The (1995)': 473, 'Cry, the Beloved Country (1995)': 474, 'Daytrippers, The (1996)': 475, 'Deer Hunter, The (1978)': 476, 'Dial M for Murder (1954)': 477, 'Down by Law (1986)': 478, 'Dr. Strangelove or: How I Learned to Stop Worrying and Love the Bomb (1963)': 479, 'Dragonheart (1996)': 480, 'Dumbo (1941)': 481, 'East of Eden (1955)': 482, 'First Wives Club, The (1996)': 483, 'Gandhi (1982)': 484, 'Great Dictator, The (1940)': 485, 'Great Escape, The (1963)': 486, 'His Girl Friday (1940)': 487, \"It's a Wonderful Life (1946)\": 488, 'James and the Giant Peach (1996)': 489, 'Jungle Book, The (1994)': 490, 'Kama Sutra: A Tale of Love (1996)': 491, 'Killing Fields, The (1984)': 492, 'Lawrence of Arabia (1962)': 493, 'Like Water For Chocolate (Como agua para chocolate) (1992)': 494, 'Local Hero (1983)': 495, 'Magnificent Seven, The (1954)': 496, 'Maltese Falcon, The (1941)': 497, 'Man Who Would Be King, The (1975)': 498, 'Manhattan (1979)': 499, 'Matilda (1996)': 500, \"Miller's Crossing (1990)\": 501, 'Mouse Hunt (1997)': 502, 'My Fair Lady (1964)': 503, 'My Left Foot (1989)': 504, 'My Life as a Dog (Mitt liv som hund) (1985)': 505, 'My Own Private Idaho (1991)': 506, 'Nixon (1995)': 507, 'North by Northwest (1959)': 508, 'Notorious (1946)': 509, 'People vs. Larry Flynt, The (1996)': 510, 'Philadelphia Story, The (1940)': 511, 'Ponette (1996)': 512, 'Rebel Without a Cause (1955)': 513, 'Red Rock West (1992)': 514, 'Roman Holiday (1953)': 515, 'Rudy (1993)': 516, 'Sabrina (1954)': 517, 'Secret of Roan Inish, The (1994)': 518, 'Shine (1996)': 519, 'Short Cuts (1993)': 520, 'Smoke (1995)': 521, 'Some Like It Hot (1959)': 522, 'Streetcar Named Desire, A (1951)': 523, 'Sunset Blvd. (1950)': 524, 'Thin Man, The (1934)': 525, 'Third Man, The (1949)': 526, 'To Catch a Thief (1955)': 527, 'Tombstone (1993)': 528, 'Trainspotting (1996)': 529, 'Traveller (1997)': 530, 'Treasure of the Sierra Madre, The (1948)': 531, 'Vanya on 42nd Street (1994)': 532, 'Vertigo (1958)': 533, 'Wings of Desire (1987)': 534, '39 Steps, The (1935)': 535, 'Alien 3 (1992)': 536, 'All About Eve (1950)': 537, 'American in Paris, An (1951)': 538, 'Angels in the Outfield (1994)': 539, 'Another Stakeout (1993)': 540, 'Arsenic and Old Lace (1944)': 541, 'Audrey Rose (1977)': 542, 'Beauty and the Beast (1991)': 543, 'Being There (1979)': 544, 'Big Squeeze, The (1996)': 545, 'Blood Beach (1981)': 546, \"Blood For Dracula (Andy Warhol's Dracula) (1974)\": 547, 'Blown Away (1994)': 548, 'Blue Angel, The (Blaue Engel, Der) (1930)': 549, 'Body Parts (1991)': 550, 'Body Snatchers (1993)': 551, 'Boxing Helena (1993)': 552, 'Bride of Frankenstein (1935)': 553, 'Broken Arrow (1996)': 554, 'Candyman (1992)': 555, 'Cape Fear (1962)': 556, 'Cat People (1982)': 557, 'Chamber, The (1996)': 558, 'Chinatown (1974)': 559, 'Christmas Carol, A (1938)': 560, \"City Slickers II: The Legend of Curly's Gold (1994)\": 561, 'Clear and Present Danger (1994)': 562, 'Cliffhanger (1993)': 563, 'Conan the Barbarian (1981)': 564, 'Coneheads (1993)': 565, 'Cook the Thief His Wife & Her Lover, The (1989)': 566, 'Crucible, The (1996)': 567, 'Crying Game, The (1992)': 568, \"Daniel Defoe's Robinson Crusoe (1996)\": 569, 'Davy Crockett, King of the Wild Frontier (1955)': 570, 'Demolition Man (1993)': 571, 'Die Hard: With a Vengeance (1995)': 572, 'Englishman Who Went Up a Hill, But Came Down a Mountain, The (1995)': 573, 'Eraser (1996)': 574, 'Escape from New York (1981)': 575, 'Extreme Measures (1996)': 576, 'Fan, The (1996)': 577, 'Farinelli: il castrato (1994)': 578, 'Fatal Instinct (1993)': 579, 'Father of the Bride (1950)': 580, 'Fire on the Mountain (1996)': 581, 'Fog, The (1980)': 582, 'For Whom the Bell Tolls (1943)': 583, 'Fried Green Tomatoes (1991)': 584, 'Giant (1956)': 585, 'Gigi (1958)': 586, 'Glory (1989)': 587, 'Great Race, The (1965)': 588, 'Grifters, The (1990)': 589, 'Heavenly Creatures (1994)': 590, 'Heavy (1995)': 591, 'Hellraiser: Bloodline (1996)': 592, 'High Noon (1952)': 593, 'Hour of the Pig, The (1993)': 594, 'Howling, The (1981)': 595, 'Hunchback of Notre Dame, The (1996)': 596, 'I Know What You Did Last Summer (1997)': 597, 'Interview with the Vampire (1994)': 598, 'It Happened One Night (1934)': 599, 'Kalifornia (1993)': 600, \"Kid in King Arthur's Court, A (1995)\": 601, 'Laura (1944)': 602, 'Lord of Illusions (1995)': 603, 'Lost Horizon (1937)': 604, 'M (1931)': 605, 'Manchurian Candidate, The (1962)': 606, \"Mary Shelley's Frankenstein (1994)\": 607, 'Meet Me in St. Louis (1944)': 608, \"Microcosmos: Le peuple de l'herbe (1996)\": 609, 'Misérables, Les (1995)': 610, 'Money Train (1995)': 611, 'Mortal Kombat (1995)': 612, 'My Man Godfrey (1936)': 613, 'NeverEnding Story III, The (1994)': 614, 'Night of the Living Dead (1968)': 615, 'Nosferatu (Nosferatu, eine Symphonie des Grauens) (1922)': 616, 'Once Upon a Time in America (1984)': 617, 'Once Upon a Time in the West (1969)': 618, 'Paris Is Burning (1990)': 619, 'Paris, Texas (1984)': 620, 'Paths of Glory (1957)': 621, 'Piano, The (1993)': 622, 'Picnic (1955)': 623, 'Pocahontas (1995)': 624, 'Police Story 4: Project S (Chao ji ji hua) (1993)': 625, 'Primal Fear (1996)': 626, 'Pump Up the Volume (1990)': 627, 'Quick and the Dead, The (1995)': 628, 'Quiet Man, The (1952)': 629, 'Ran (1985)': 630, 'Rear Window (1954)': 631, 'Rebecca (1940)': 632, 'Return of Martin Guerre, The (Retour de Martin Guerre, Le) (1982)': 633, 'Rob Roy (1995)': 634, 'Robin Hood: Prince of Thieves (1991)': 635, 'Rocket Man (1997)': 636, 'Romeo Is Bleeding (1993)': 637, 'Rosencrantz and Guildenstern Are Dead (1990)': 638, 'Secret Garden, The (1993)': 639, 'Seventh Seal, The (Sjunde inseglet, Det) (1957)': 640, 'Sleepers (1996)': 641, 'So Dear to My Heart (1949)': 642, 'Somewhere in Time (1980)': 643, 'Son in Law (1993)': 644, \"Sophie's Choice (1982)\": 645, 'Species (1995)': 646, 'Speed (1994)': 647, 'Spellbound (1945)': 648, 'Stalingrad (1993)': 649, 'Stand by Me (1986)': 650, \"Stephen King's The Langoliers (1995)\": 651, 'Swiss Family Robinson (1960)': 652, 'Sword in the Stone, The (1963)': 653, 'Tales from the Hood (1995)': 654, 'Terminal Velocity (1994)': 655, 'The Innocent (1994)': 656, 'Thin Blue Line, The (1988)': 657, \"Things to Do in Denver when You're Dead (1995)\": 658, 'Three Caballeros, The (1945)': 659, 'Tin Drum, The (Blechtrommel, Die) (1979)': 660, 'Touch of Evil (1958)': 661, 'True Crime (1995)': 662, 'Vampire in Brooklyn (1995)': 663, 'Victor/Victoria (1982)': 664, 'Village of the Damned (1995)': 665, 'Volcano (1997)': 666, 'Walk in the Clouds, A (1995)': 667, 'Waterworld (1995)': 668, \"Wes Craven's New Nightmare (1994)\": 669, \"White Man's Burden (1995)\": 670, 'Wild Bill (1995)': 671, 'Wild Bunch, The (1969)': 672, 'Wishmaster (1997)': 673, 'Wolf (1994)': 674, 'Wyatt Earp (1994)': 675, \"Young Poisoner's Handbook, The (1995)\": 676, 'Executive Decision (1996)': 677, 'In the Line of Fire (1993)': 678, 'Jackal, The (1997)': 679, 'Leave It to Beaver (1997)': 680, \"McHale's Navy (1997)\": 681, 'Perfect World, A (1993)': 682, 'Dark City (1998)': 683, 'Seven Years in Tibet (1997)': 684, 'American President, The (1995)': 685, 'Bad Moon (1996)': 686, 'Barcelona (1994)': 687, 'Basketball Diaries, The (1995)': 688, 'Better Off Dead... (1985)': 689, 'Browning Version, The (1994)': 690, 'Casino (1995)': 691, 'City Hall (1996)': 692, 'Enchanted April (1991)': 693, 'House of the Spirits, The (1993)': 694, 'Kicking and Screaming (1995)': 695, 'Little Women (1994)': 696, 'Miami Rhapsody (1995)': 697, 'Persuasion (1995)': 698, 'Sex, Lies, and Videotape (1989)': 699, \"Singin' in the Rain (1952)\": 700, 'Strictly Ballroom (1992)': 701, 'Substance of Fire, The (1996)': 702, 'Tin Men (1987)': 703, \"Widows' Peak (1994)\": 704, 'Wonderful, Horrible Life of Leni Riefenstahl, The (1993)': 705, 'Amistad (1997)': 706, 'Benny & Joon (1993)': 707, 'Boys on the Side (1995)': 708, 'Canadian Bacon (1994)': 709, 'Carrington (1995)': 710, 'Circle of Friends (1995)': 711, 'Corrina, Corrina (1994)': 712, 'Crow: City of Angels, The (1996)': 713, 'Dave (1993)': 714, 'Exit to Eden (1994)': 715, 'First Knight (1995)': 716, 'Fluke (1995)': 717, 'Go Fish (1994)': 718, 'Home for the Holidays (1995)': 719, 'Immortal Beloved (1994)': 720, 'In the Bleak Midwinter (1995)': 721, 'Jane Eyre (1996)': 722, 'Junior (1994)': 723, 'Juror, The (1996)': 724, 'Last Supper, The (1995)': 725, 'Made in America (1993)': 726, 'Mallrats (1995)': 727, 'MatchMaker, The (1997)': 728, 'Michael Collins (1996)': 729, 'Nell (1994)': 730, 'Nine Months (1995)': 731, 'Othello (1995)': 732, 'Philadelphia (1993)': 733, 'Pretty Woman (1990)': 734, 'Queen Margot (Reine Margot, La) (1994)': 735, 'Ransom (1996)': 736, 'Real Genius (1985)': 737, 'Replacement Killers, The (1998)': 738, 'Ruling Class, The (1972)': 739, 'Saint, The (1997)': 740, 'Shadowlands (1993)': 741, 'Sirens (1994)': 742, 'Threesome (1994)': 743, 'To Die For (1995)': 744, 'Tomorrow Never Dies (1997)': 745, 'Burnt By the Sun (1994)': 746, 'Red Corner (1997)': 747, 'Across the Sea of Time (1995)': 748, 'Addiction, The (1995)': 749, 'Afterglow (1997)': 750, 'Air Up There, The (1994)': 751, 'Alaska (1996)': 752, 'Amityville: Dollhouse (1996)': 753, 'Andre (1994)': 754, \"April Fool's Day (1986)\": 755, 'Arrival, The (1996)': 756, 'Baby-Sitters Club, The (1995)': 757, 'Bad Company (1995)': 758, 'Bad Taste (1987)': 759, 'Beautiful Girls (1996)': 760, 'Believers, The (1987)': 761, 'Bent (1997)': 762, 'Beyond Bedlam (1993)': 763, 'Big Lebowski, The (1998)': 764, 'Bloody Child, The (1996)': 765, 'Bogus (1996)': 766, 'Boomerang (1992)': 767, 'Boys Life (1995)': 768, 'Braindead (1992)': 769, 'Bulletproof (1996)': 770, 'Bullets Over Broadway (1994)': 771, 'Candyman: Farewell to the Flesh (1995)': 772, 'Career Girls (1997)': 773, 'Casper (1995)': 774, 'Castle Freak (1995)': 775, 'Celluloid Closet, The (1995)': 776, 'City of Angels (1998)': 777, 'Congo (1995)': 778, 'Crooklyn (1994)': 779, 'Dangerous Beauty (1998)': 780, 'Daylight (1996)': 781, 'Days of Thunder (1990)': 782, 'Devil in a Blue Dress (1995)': 783, 'Diva (1981)': 784, 'Don Juan DeMarco (1995)': 785, 'Drop Zone (1994)': 786, 'Dumb & Dumber (1994)': 787, 'Eddie (1996)': 788, 'Escape from L.A. (1996)': 789, \"Eve's Bayou (1997)\": 790, 'Excess Baggage (1997)': 791, 'Faces (1968)': 792, 'Fair Game (1995)': 793, 'Father of the Bride Part II (1995)': 794, 'Fled (1996)': 795, 'Flubber (1997)': 796, 'Fools Rush In (1997)': 797, 'For Richer or Poorer (1997)': 798, 'Freeway (1996)': 799, 'French Kiss (1995)': 800, 'Frisk (1995)': 801, 'Garden of Finzi-Contini, The (Giardino dei Finzi-Contini, Il) (1970)': 802, 'Gay Divorcee, The (1934)': 803, 'Girl 6 (1996)': 804, 'Glimmer Man, The (1996)': 805, 'Great Day in Harlem, A (1994)': 806, 'Great Expectations (1998)': 807, 'Great White Hype, The (1996)': 808, 'Half Baked (1998)': 809, 'Halloween: The Curse of Michael Myers (1995)': 810, 'Happy Gilmore (1996)': 811, 'Hard Target (1993)': 812, 'Hearts and Minds (1996)': 813, 'Heaven & Earth (1993)': 814, 'Home Alone 3 (1997)': 815, 'If Lucy Fell (1996)': 816, 'In the Line of Duty 2 (1987)': 817, 'In the Mouth of Madness (1995)': 818, 'It Could Happen to You (1994)': 819, 'Jimmy Hollywood (1994)': 820, 'Jingle All the Way (1996)': 821, 'Johnny Mnemonic (1995)': 822, 'Jumanji (1995)': 823, 'Kids (1995)': 824, 'Kundun (1997)': 825, 'Last Man Standing (1996)': 826, 'Lawnmower Man 2: Beyond Cyberspace (1996)': 827, 'Life Less Ordinary, A (1997)': 828, 'Little Odessa (1994)': 829, 'Loch Ness (1995)': 830, 'Looking for Richard (1996)': 831, 'Lost in Space (1998)': 832, 'Love Jones (1997)': 833, 'Love and Death on Long Island (1997)': 834, 'Ma vie en rose (My Life in Pink) (1997)': 835, 'Man of the Year (1995)': 836, 'Manhattan Murder Mystery (1993)': 837, 'Meet John Doe (1941)': 838, 'Menace II Society (1993)': 839, 'Mercury Rising (1998)': 840, 'Michael (1996)': 841, 'Milk Money (1994)': 842, 'Money Talks (1997)': 843, 'Mortal Kombat: Annihilation (1997)': 844, 'Mr. Magoo (1997)': 845, 'Mrs. Winterbourne (1996)': 846, 'Mulholland Falls (1996)': 847, 'Murder, My Sweet (1944)': 848, 'Mute Witness (1994)': 849, 'My Fellow Americans (1996)': 850, 'Nick of Time (1995)': 851, 'Night on Earth (1991)': 852, 'Nil By Mouth (1997)': 853, 'Ninotchka (1939)': 854, 'Nosferatu a Venezia (1986)': 855, 'One Fine Day (1996)': 856, 'One Night Stand (1997)': 857, 'Only You (1994)': 858, 'Oscar & Lucinda (1997)': 859, 'Paris Was a Woman (1995)': 860, 'Peacemaker, The (1997)': 861, 'Perez Family, The (1995)': 862, 'Perfect Candidate, A (1996)': 863, 'Phantom, The (1996)': 864, 'Phantoms (1998)': 865, 'Picture Perfect (1997)': 866, 'Poetic Justice (1993)': 867, 'Pollyanna (1960)': 868, 'Postman, The (1997)': 869, 'Power 98 (1995)': 870, 'Primary Colors (1998)': 871, 'Program, The (1993)': 872, 'Prophecy, The (1995)': 873, 'Relative Fear (1994)': 874, 'Richie Rich (1994)': 875, 'Rising Sun (1993)': 876, 'Roommates (1995)': 877, 'Scream 2 (1997)': 878, 'Screamers (1995)': 879, 'Shadow, The (1994)': 880, 'Shaggy Dog, The (1959)': 881, \"She's So Lovely (1997)\": 882, 'Something to Talk About (1995)': 883, 'Soul Food (1997)': 884, 'Space Jam (1996)': 885, 'Speechless (1994)': 886, 'Sweet Hereafter, The (1997)': 887, 'Swimming with Sharks (1995)': 888, 'Tango Lesson, The (1997)': 889, 'Telling Lies in America (1997)': 890, 'That Darn Cat! (1997)': 891, 'That Thing You Do! (1996)': 892, 'Thirty-Two Short Films About Glenn Gould (1993)': 893, 'Three Wishes (1995)': 894, 'Time Tracers (1995)': 895, 'Timecop (1994)': 896, 'To Gillian on Her 37th Birthday (1996)': 897, 'Tommy Boy (1995)': 898, 'Touch (1997)': 899, 'Twilight (1998)': 900, 'Two or Three Things I Know About Her (1966)': 901, 'U.S. Marshalls (1998)': 902, 'Vegas Vacation (1997)': 903, 'Vermin (1998)': 904, 'Washington Square (1997)': 905, 'Whole Wide World, The (1996)': 906, 'Wild Things (1998)': 907, 'Winter Guest, The (1997)': 908, 'Year of the Horse (1997)': 909, 'City of Lost Children, The (1995)': 910, 'Dead Man (1995)': 911, 'Farewell My Concubine (1993)': 912, 'Raise the Red Lantern (1991)': 913, 'Two Bits (1995)': 914, 'Brassed Off (1996)': 915, 'Chain Reaction (1996)': 916, 'Craft, The (1996)': 917, 'Down Periscope (1996)': 918, 'First Kid (1996)': 919, 'Flower of My Secret, The (Flor de mi secreto, La) (1995)': 920, 'Funeral, The (1996)': 921, 'Harriet the Spy (1996)': 922, 'Island of Dr. Moreau, The (1996)': 923, 'Paradise Road (1997)': 924, \"Preacher's Wife, The (1996)\": 925, 'Smile Like Yours, A (1997)': 926, 'Thousand Acres, A (1997)': 927, 'Unforgettable (1996)': 928, 'White Squall (1996)': 929, 'Airheads (1994)': 930, 'Big Blue, The (Grand bleu, Le) (1988)': 931, 'Booty Call (1997)': 932, 'Charade (1963)': 933, 'Fox and the Hound, The (1981)': 934, 'Killing Zoe (1994)': 935, 'Murder in the First (1995)': 936, 'Renaissance Man (1994)': 937, \"What's Love Got to Do with It (1993)\": 938, 'With Honors (1994)': 939, 'Affair to Remember, An (1957)': 940, 'Before Sunrise (1995)': 941, 'Blue in the Face (1995)': 942, 'Dazed and Confused (1993)': 943, 'Funny Face (1957)': 944, 'Georgia (1995)': 945, 'Grateful Dead (1995)': 946, 'Hear My Song (1991)': 947, 'How to Make an American Quilt (1995)': 948, 'Indian in the Cupboard, The (1995)': 949, 'Inspector General, The (1949)': 950, 'Little Lord Fauntleroy (1936)': 951, 'Mediterraneo (1991)': 952, 'Month by the Lake, A (1995)': 953, 'Naked (1993)': 954, \"Nobody's Fool (1994)\": 955, 'Orlando (1993)': 956, 'Passion Fish (1992)': 957, 'Pushing Hands (1992)': 958, 'Ruby in Paradise (1993)': 959, 'Some Folks Call It a Sling Blade (1993)': 960, 'To Live (Huozhe) (1994)': 961, 'Unstrung Heroes (1995)': 962, 'Unzipped (1995)': 963, 'Winnie the Pooh and the Blustery Day (1968)': 964, 'Anna Karenina (1997)': 965, 'Beautician and the Beast, The (1997)': 966, 'Blood & Wine (1997)': 967, \"Cats Don't Dance (1997)\": 968, 'Dangerous Ground (1997)': 969, 'Eye for an Eye (1996)': 970, 'Fear (1996)': 971, 'Head Above Water (1996)': 972, \"Heaven's Prisoners (1996)\": 973, 'Hercules (1997)': 974, 'Keys to Tulsa (1997)': 975, 'Kiss Me, Guido (1997)': 976, 'Last Time I Committed Suicide, The (1997)': 977, 'Maximum Risk (1996)': 978, 'Mother Night (1996)': 979, \"Rich Man's Wife, The (1996)\": 980, 'Shadow Conspiracy (1997)': 981, 'Solo (1996)': 982, 'Substitute, The (1996)': 983, 'Trigger Effect, The (1996)': 984, 'Turbulence (1997)': 985, 'Underworld (1997)': 986, 'Big Green, The (1995)': 987, 'Cabin Boy (1994)': 988, 'Clean Slate (1994)': 989, 'Lightning Jack (1994)': 990, 'Pest, The (1997)': 991, 'Stuart Saves His Family (1995)': 992, 'Stupids, The (1996)': 993, 'Double vie de Véronique, La (Double Life of Veronique, The) (1991)': 994, 'Geronimo: An American Legend (1993)': 995, 'Until the End of the World (Bis ans Ende der Welt) (1991)': 996, 'Waiting for Guffman (1996)': 997, '2 Days in the Valley (1996)': 998, 'Anaconda (1997)': 999, 'Basquiat (1996)': 1000, 'Con Air (1997)': 1001, 'I Shot Andy Warhol (1996)': 1002, 'Private Parts (1997)': 1003, \"Romy and Michele's High School Reunion (1997)\": 1004, 'Shiloh (1997)': 1005, 'Stealing Beauty (1996)': 1006, 'Trees Lounge (1996)': 1007, 'Die xue shuang xiong (Killer, The) (1989)': 1008, 'Tie Me Up! Tie Me Down! (1990)': 1009, '8 1/2 (1963)': 1010, 'Fast, Cheap & Out of Control (1997)': 1011, 'Gaslight (1944)': 1012, \"Fathers' Day (1997)\": 1013, 'Mrs. Dalloway (1997)': 1014, 'Fire Down Below (1997)': 1015, 'Lay of the Land, The (1997)': 1016, 'Shooter, The (1995)': 1017, 'Beverly Hillbillies, The (1993)': 1018, 'Cool Runnings (1993)': 1019, 'Drop Dead Fred (1991)': 1020, 'Grease 2 (1982)': 1021, 'Grumpier Old Men (1995)': 1022, 'Homeward Bound II: Lost in San Francisco (1996)': 1023, 'Jury Duty (1995)': 1024, 'Lassie (1994)': 1025, 'Little Big League (1994)': 1026, 'Quest, The (1996)': 1027, 'Switchback (1997)': 1028, 'Hamlet (1996)': 1029, 'Associate, The (1996)': 1030, 'Fearless (1993)': 1031, 'Forget Paris (1995)': 1032, 'Ghost and Mrs. Muir, The (1947)': 1033, 'House Arrest (1996)': 1034, 'Just Cause (1995)': 1035, 'Malice (1993)': 1036, 'Multiplicity (1996)': 1037, 'Paper, The (1994)': 1038, 'Rent-a-Kid (1995)': 1039, \"She's the One (1996)\": 1040, 'Two if by Sea (1996)': 1041, 'Cronos (1992)': 1042, 'Dracula: Dead and Loving It (1995)': 1043, 'Mr. Wrong (1996)': 1044, 'Now and Then (1995)': 1045, 'Pallbearer, The (1996)': 1046, 'Simple Twist of Fate, A (1994)': 1047, 'War, The (1994)': 1048, 'Adventures of Pinocchio, The (1996)': 1049, \"Don't Be a Menace to South Central While Drinking Your Juice in the Hood (1996)\": 1050, 'Evening Star, The (1996)': 1051, 'Four Days in September (1997)': 1052, 'Crossfire (1947)': 1053, 'Koyaanisqatsi (1983)': 1054, 'Little Princess, A (1995)': 1055, 'Albino Alligator (1996)': 1056, 'Amateur (1994)': 1057, 'Balto (1995)': 1058, 'Bottle Rocket (1996)': 1059, 'Celestial Clockwork (1994)': 1060, 'Curdled (1996)': 1061, 'Female Perversions (1996)': 1062, \"Joe's Apartment (1996)\": 1063, 'Living in Oblivion (1995)': 1064, 'Love and a .45 (1994)': 1065, 'Man of No Importance, A (1994)': 1066, 'Oliver & Company (1988)': 1067, 'Pagemaster, The (1994)': 1068, 'Party Girl (1995)': 1069, \"Pyromaniac's Love Story, A (1995)\": 1070, 'Reality Bites (1994)': 1071, 'Shallow Grave (1994)': 1072, \"Star Maker, The (Uomo delle stelle, L') (1995)\": 1073, 'Anne Frank Remembered (1995)': 1074, 'Carried Away (1996)': 1075, \"It's My Party (1995)\": 1076, 'Bloodsport 2 (1995)': 1077, 'Double Team (1997)': 1078, 'Speed 2: Cruise Control (1997)': 1079, 'Dear God (1996)': 1080, \"Pete's Dragon (1977)\": 1081, 'Sliver (1993)': 1082, 'Commandments (1997)': 1083, 'High School High (1996)': 1084, 'Live Nude Girls (1995)': 1085, 'Thin Line Between Love and Hate, A (1996)': 1086, \"C'est arrivé près de chez vous (1992)\": 1087, 'Firestorm (1998)': 1088, 'Flirting With Disaster (1996)': 1089, 'Hate (Haine, La) (1995)': 1090, 'Newton Boys, The (1998)': 1091, 'Red Firecracker, Green Firecracker (1994)': 1092, 'Six Degrees of Separation (1993)': 1093, 'Trust (1990)': 1094, 'Two Much (1996)': 1095, 'What Happened Was... (1994)': 1096, 'Beyond Rangoon (1995)': 1097, 'Cobb (1994)': 1098, 'Death and the Maiden (1994)': 1099, 'Double Happiness (1994)': 1100, 'Faithful (1996)': 1101, 'Feast of July (1995)': 1102, \"I'm Not Rappaport (1996)\": 1103, 'Mark of Zorro, The (1940)': 1104, 'Mrs. Parker and the Vicious Circle (1994)': 1105, 'Some Kind of Wonderful (1987)': 1106, 'Surviving Picasso (1996)': 1107, 'Tank Girl (1995)': 1108, 'Twelfth Night (1996)': 1109, 'Up in Smoke (1978)': 1110, 'Farewell to Arms, A (1932)': 1111, 'Innocents, The (1961)': 1112, 'Last Time I Saw Paris, The (1954)': 1113, 'Old Man and the Sea, The (1958)': 1114, 'They Made Me a Criminal (1939)': 1115, 'Umbrellas of Cherbourg, The (Parapluies de Cherbourg, Les) (1964)': 1116, 'Truman Show, The (1998)': 1117, 'Chungking Express (1994)': 1118, 'Doors, The (1991)': 1119, 'Escape to Witch Mountain (1975)': 1120, 'Feeling Minnesota (1996)': 1121, 'Get on the Bus (1996)': 1122, 'Ghosts of Mississippi (1996)': 1123, 'Heidi Fleiss: Hollywood Madam (1995) ': 1124, \"Jupiter's Wife (1994)\": 1125, 'Safe (1995)': 1126, 'Beautiful Thing (1996)': 1127, 'Best Men (1997)': 1128, 'Hackers (1995)': 1129, 'Road to Wellville, The (1994)': 1130, 'War Room, The (1993)': 1131, 'When We Were Kings (1996)': 1132, 'Hard Eight (1996)': 1133, 'Quiet Room, The (1996)': 1134, 'Blue Chips (1994)': 1135, 'Calendar Girl (1993)': 1136, 'My Family (1995)': 1137, 'Tom & Viv (1994)': 1138, 'Walkabout (1971)': 1139, 'In Love and War (1996)': 1140, 'Last Dance (1996)': 1141, 'Original Gangstas (1996)': 1142, 'Alphaville (1965)': 1143, 'Backbeat (1993)': 1144, 'Cyclo (1995)': 1145, 'Fille seule, La (A Single Girl) (1995)': 1146, 'Relic, The (1997)': 1147, 'Rendezvous in Paris (Rendez-vous de Paris, Les) (1995)': 1148, 'Stalker (1979)': 1149, 'Love! Valour! Compassion! (1997)': 1150, 'Palookaville (1996)': 1151, 'Phat Beach (1996)': 1152, 'Portrait of a Lady, The (1996)': 1153, 'Zeus and Roxanne (1997)': 1154, 'Big Bully (1996)': 1155, 'Bliss (1997)': 1156, 'Caught (1996)': 1157, 'Fresh (1994)': 1158, 'Little Buddha (1993)': 1159, 'Love & Human Remains (1993)': 1160, 'Spanking the Monkey (1994)': 1161, 'Sum of Us, The (1994)': 1162, 'Wild Reeds (1994)': 1163, 'Women, The (1939)': 1164, 'Hugo Pool (1997)': 1165, 'Welcome To Sarajevo (1997)': 1166, 'Cops and Robbersons (1994)': 1167, 'Cowboy Way, The (1994)': 1168, 'Dunston Checks In (1996)': 1169, 'Endless Summer 2, The (1994)': 1170, 'I Love Trouble (1994)': 1171, 'In the Army Now (1994)': 1172, 'Inkwell, The (1994)': 1173, 'Low Down Dirty Shame, A (1994)': 1174, 'Major Payne (1994)': 1175, 'Man of the House (1995)': 1176, 'Prefontaine (1997)': 1177, 'Switchblade Sisters (1975)': 1178, 'That Old Feeling (1997)': 1179, 'Young Guns II (1990)': 1180, 'Letter From Death Row, A (1998)': 1181, 'Amos & Andrew (1993)': 1182, 'Before the Rain (Pred dozhdot) (1994)': 1183, 'Boys of St. Vincent, The (1993)': 1184, 'Cemetery Man (Dellamorte Dellamore) (1994)': 1185, 'Family Thing, A (1996)': 1186, 'Kim (1950)': 1187, 'Marlene Dietrich: Shadow and Light (1996) ': 1188, 'Maybe, Maybe Not (Bewegte Mann, Der) (1994)': 1189, 'Once Were Warriors (1994)': 1190, 'Purple Noon (1960)': 1191, 'Savage Nights (Nuits fauves, Les) (1992)': 1192, 'Secret Agent, The (1996)': 1193, 'Strawberry and Chocolate (Fresa y chocolate) (1993)': 1194, 'To Be or Not to Be (1942)': 1195, 'Top Hat (1935)': 1196, 'Barb Wire (1996)': 1197, 'Blue Sky (1994)': 1198, 'Flesh and Bone (1993)': 1199, 'Guilty as Sin (1993)': 1200, 'In the Realm of the Senses (Ai no corrida) (1976)': 1201, 'Jade (1995)': 1202, 'Kiss of Death (1995)': 1203, 'Kissed (1996)': 1204, 'Mixed Nuts (1994)': 1205, 'Virtuosity (1995)': 1206, 'Angus (1995)': 1207, 'Assassins (1995)': 1208, 'Friday (1995)': 1209, 'Goofy Movie, A (1995)': 1210, 'Higher Learning (1995)': 1211, 'Judgment Night (1993)': 1212, 'King of the Hill (1993)': 1213, 'Night Falls on Manhattan (1997)': 1214, 'Scout, The (1994)': 1215, 'When a Man Loves a Woman (1994)': 1216, 'Awfully Big Adventure, An (1995)': 1217, 'Marked for Death (1990)': 1218, 'Poison Ivy II (1995)': 1219, 'Ready to Wear (Pret-A-Porter) (1994)': 1220, 'Under Siege 2: Dark Territory (1995)': 1221, 'Madonna: Truth or Dare (1991)': 1222, 'Big Bang Theory, The (1994)': 1223, 'Chairman of the Board (1998)': 1224, 'Full Speed (1996)': 1225, 'Nénette et Boni (1996)': 1226, 'Other Voices, Other Rooms (1997)': 1227, 'Twisted (1996)': 1228, 'Cutthroat Island (1995)': 1229, 'Ghost in the Shell (Kokaku kidotai) (1995)': 1230, 'Van, The (1996)': 1231, 'Old Lady Who Walked in the Sea, The (Vieille qui marchait dans la mer, La) (1991)': 1232, 'Night Flier (1997)': 1233, \"Gridlock'd (1997)\": 1234, 'Metro (1997)': 1235, 'Bad Girls (1994)': 1236, 'Best of the Best 3: No Turning Back (1995)': 1237, 'Blink (1994)': 1238, 'Bushwhacked (1995)': 1239, 'For Love or Money (1993)': 1240, 'A Chef in Love (1996)': 1241, 'Contempt (Mépris, Le) (1963)': 1242, 'Broken English (1996)': 1243, 'Designated Mourner, The (1997)': 1244, \"Gone Fishin' (1997)\": 1245, 'Tie That Binds, The (1995)': 1246, 'Trial and Error (1997)': 1247, 'Foxfire (1996)': 1248, 'Nothing to Lose (1994)': 1249, 'Pie in the Sky (1995)': 1250, 'Run of the Country, The (1995)': 1251, 'Star Maps (1997)': 1252, 'Total Eclipse (1995)': 1253, 'Walking and Talking (1996)': 1254, 'Bread and Chocolate (Pane e cioccolata) (1973)': 1255, 'Bitter Moon (1992)': 1256, 'Clockers (1995)': 1257, 'Love in the Afternoon (1957)': 1258, 'Life with Mikey (1993)': 1259, 'North (1994)': 1260, 'Talking About Sex (1994)': 1261, 'Color of Night (1994)': 1262, 'Gang Related (1997)': 1263, 'Killer (Bulletproof Heart) (1994)': 1264, 'Robocop 3 (1993)': 1265, 'Selena (1997)': 1266, 'Set It Off (1996)': 1267, 'Sunset Park (1996)': 1268, 'Wild America (1997)': 1269, 'Manny & Lo (1996)': 1270, 'Grass Harp, The (1995)': 1271, 'Out to Sea (1997)': 1272, 'Before and After (1996)': 1273, 'Princess Caraboo (1994)': 1274, 'Shall We Dance? (1937)': 1275, 'Celtic Pride (1996)': 1276, 'Country Life (1994)': 1277, 'Denise Calls Up (1995)': 1278, 'Ed (1996)': 1279, 'Jack and Sarah (1995)': 1280, 'Simple Wish, A (1997)': 1281, 'Ayn Rand: A Sense of Life (1997)': 1282, 'Star Kid (1997)': 1283, 'Indian Summer (1996)': 1284, 'Kicked in the Head (1997)': 1285, 'Band Wagon, The (1953)': 1286, 'Love Affair (1994)': 1287, 'Penny Serenade (1941)': 1288, \"'Til There Was You (1997)\": 1289, 'Stripes (1981)': 1290, 'Late Bloomers (1996)': 1291, 'Getaway, The (1994)': 1292, 'Babyfever (1994)': 1293, 'Carmen Miranda: Bananas Is My Business (1994)': 1294, 'Delta of Venus (1994)': 1295, \"National Lampoon's Senior Trip (1995)\": 1296, 'New York Cop (1996)': 1297, 'Very Natural Thing, A (1974)': 1298, 'Walk in the Sun, A (1945)': 1299, 'Palmetto (1998)': 1300, 'Pompatus of Love, The (1996)': 1301, 'Waiting to Exhale (1995)': 1302, 'Inventing the Abbotts (1997)': 1303, 'Surviving the Game (1994)': 1304, 'Horse Whisperer, The (1998)': 1305, '1-900 (1994)': 1306, 'American Buffalo (1996)': 1307, 'American Strays (1996)': 1308, 'An Unforgettable Summer (1994)': 1309, 'August (1996)': 1310, 'Ballad of Narayama, The (Narayama Bushiko) (1958)': 1311, 'Bird of Prey (1996)': 1312, 'Bonheur, Le (1965)': 1313, 'Boys (1996)': 1314, 'Boys in Venice (1996)': 1315, 'Captives (1994)': 1316, 'Catwalk (1995)': 1317, 'Cement Garden, The (1993)': 1318, 'Convent, The (Convento, O) (1995)': 1319, 'Crows and Sparrows (1949)': 1320, 'Crude Oasis, The (1995)': 1321, 'Day the Sun Turned Cold, The (Tianguo niezi) (1994)': 1322, 'Dingo (1992)': 1323, \"Ed's Next Move (1996)\": 1324, 'Every Other Weekend (1990)': 1325, 'Fall (1997)': 1326, 'Falling in Love Again (1980)': 1327, 'Faust (1994)': 1328, 'For Ever Mozart (1996)': 1329, 'For the Moment (1994)': 1330, 'Forbidden Christ, The (Cristo proibito, Il) (1950)': 1331, 'Gabbeh (1996)': 1332, 'Good Morning (1971)': 1333, 'Hedd Wyn (1992)': 1334, 'Hollow Reed (1996)': 1335, 'Homage (1995)': 1336, 'Hotel de Love (1996)': 1337, 'Hurricane Streets (1998)': 1338, \"I Can't Sleep (J'ai pas sommeil) (1994)\": 1339, 'Infinity (1996)': 1340, 'Innocent Sleep, The (1995)': 1341, 'JLG/JLG - autoportrait de décembre (1994)': 1342, 'Johnny 100 Pesos (1993)': 1343, 'Journey of August King, The (1995)': 1344, 'Kazaam (1996)': 1345, 'Larger Than Life (1996)': 1346, 'Last Klezmer: Leopold Kozlowski, His Life and Music, The (1995)': 1347, 'Leopard Son, The (1996)': 1348, 'Loaded (1994)': 1349, 'Locusts, The (1997)': 1350, 'Losing Chase (1996)': 1351, 'Lotto Land (1995)': 1352, 'Love and Other Catastrophes (1996)': 1353, \"Lover's Knot (1996)\": 1354, 'Low Life, The (1994)': 1355, 'Machine, The (1994)': 1356, 'Meet Wally Sparks (1997)': 1357, 'Metisse (Café au Lait) (1993)': 1358, 'Midnight Dancers (Sibak) (1994)': 1359, 'Mille bolle blu (1993)': 1360, 'Mina Tannenbaum (1994)': 1361, 'Mondo (1996)': 1362, \"My Life and Times With Antonin Artaud (En compagnie d'Antonin Artaud) (1993)\": 1363, 'Neon Bible, The (1995)': 1364, 'Of Love and Shadows (1994)': 1365, 'Open Season (1996)': 1366, 'Rhyme & Reason (1997)': 1367, \"Roseanna's Grave (For Roseanna) (1997)\": 1368, 'Search for One-eye Jimmy, The (1996)': 1369, 'Second Jungle Book: Mowgli & Baloo, The (1997)': 1370, 'Sexual Life of the Belgians, The (1994)': 1371, 'Shadow of Angels (Schatten der Engel) (1976)': 1372, 'Somebody to Love (1994)': 1373, 'Squeeze (1996)': 1374, 'Stag (1997)': 1375, 'Stefano Quantestorie (1993)': 1376, 'Story of Xinghua, The (1993)': 1377, 'Stranger, The (1994)': 1378, 'Swept from the Sea (1997)': 1379, 'Tetsuo II: Body Hammer (1992)': 1380, 'The Deadly Cure (1996)': 1381, 'Two Deaths (1995)': 1382, 'Venice/Venice (1992)': 1383, \"Wooden Man's Bride, The (Wu Kui) (1994)\": 1384, 'Anna (1996)': 1385, 'Of Human Bondage (1934)': 1386, 'Stonewall (1995)': 1387, 'Stranger in the House (1997)': 1388, 'Caro Diario (Dear Diary) (1994)': 1389, 'Ciao, Professore! (1993)': 1390, 'M. Butterfly (1993)': 1391, 'Picture Bride (1995)': 1392, 'Withnail and I (1987)': 1393, \"Boy's Life 2 (1997)\": 1394, 'Specialist, The (1994)': 1395, 'When Night Is Falling (1995)': 1396, 'Barbarella (1968)': 1397, 'Gordy (1995)': 1398, 'Harlem (1993)': 1399, 'Land Before Time III: The Time of the Great Giving (1995) (V)': 1400, 'Swan Princess, The (1994)': 1401, 'Coldblooded (1995)': 1402, 'Joy Luck Club, The (1993)': 1403, 'Next Karate Kid, The (1994)': 1404, 'No Escape (1994)': 1405, 'Street Fighter (1994)': 1406, 'Turning, The (1992)': 1407, \"Gilligan's Island: The Movie (1998)\": 1408, 'Highlander III: The Sorcerer (1994)': 1409, 'Drunks (1995)': 1410, 'Grace of My Heart (1996)': 1411, 'I Like It Like That (1994)': 1412, \"I'll Do Anything (1994)\": 1413, 'My Crazy Life (Mi vida loca) (1993)': 1414, 'SubUrbia (1997)': 1415, 'Suture (1993)': 1416, 'Walking Dead, The (1995)': 1417, 'Ill Gotten Gains (1997)': 1418, 'Legal Deceit (1997)': 1419, 'Men of Means (1998)': 1420, 'Mighty, The (1998)': 1421, 'Shooting Fish (1997)': 1422, 'Sliding Doors (1998)': 1423, 'Mr. Jones (1993)': 1424, 'Steal Big, Steal Little (1995)': 1425, 'House Party 3 (1994)': 1426, 'Above the Rim (1994)': 1427, \"Jason's Lyric (1994)\": 1428, 'Panther (1995)': 1429, 'Moonlight and Valentino (1995)': 1430, 'Scarlet Letter, The (1995)': 1431, '8 Seconds (1994)': 1432, 'That Darn Cat! (1965)': 1433, 'Angel and the Badman (1947)': 1434, 'Angel on My Shoulder (1946)': 1435, 'Beat the Devil (1954)': 1436, 'Boys, Les (1997)': 1437, 'Bye Bye, Love (1995)': 1438, 'Century (1993)': 1439, 'Damsel in Distress, A (1937)': 1440, 'Foreign Correspondent (1940)': 1441, 'Golden Earrings (1947)': 1442, 'Here Comes Cookie (1935)': 1443, 'Lady of Burlesque (1943)': 1444, 'Ladybird Ladybird (1994)': 1445, 'Love Is All There Is (1996)': 1446, 'Madame Butterfly (1995)': 1447, 'My Favorite Season (1993)': 1448, 'Outlaw, The (1943)': 1449, 'Pather Panchali (1955)': 1450, 'Sleepover (1995)': 1451, 'Thieves (Voleurs, Les) (1996)': 1452, 'Stars Fell on Henrietta, The (1995)': 1453, 'Last Summer in the Hamptons (1995)': 1454, \"Margaret's Museum (1995)\": 1455, 'Saint of Fort Washington, The (1993)': 1456, 'Cure, The (1995)': 1457, 'Gumby: The Movie (1995)': 1458, 'Tom and Huck (1995)': 1459, 'Hideaway (1995)': 1460, 'Visitors, The (Visiteurs, Les) (1993)': 1461, 'Little Princess, The (1939)': 1462, 'Bhaji on the Beach (1993)': 1463, 'Nina Takes a Lover (1994)': 1464, 'Nightwatch (1997)': 1465, 'Raw Deal (1948)': 1466, 'Dead Presidents (1995)': 1467, 'Herbie Rides Again (1974)': 1468, 'Reckless (1995)': 1469, 'Gate of Heavenly Peace, The (1995)': 1470, 'Man in the Iron Mask, The (1998)': 1471, 'S.F.W. (1994)': 1472, 'Carpool (1996)': 1473, 'Chasers (1994)': 1474, 'Colonel Chabert, Le (1994)': 1475, 'Even Cowgirls Get the Blues (1993)': 1476, 'Farmer & Chase (1995)': 1477, 'Fausto (1993)': 1478, 'Flirt (1995)': 1479, 'Germinal (1993)': 1480, 'Girl in the Cadillac (1995)': 1481, 'Grosse Fatigue (1994)': 1482, 'Jerky Boys, The (1994)': 1483, 'Line King: Al Hirschfeld, The (1996)': 1484, 'Modern Affair, A (1995)': 1485, 'Mostro, Il (1994)': 1486, 'Prisoner of the Mountains (Kavkazsky Plennik) (1996)': 1487, 'Santa with Muscles (1996)': 1488, 'Tough and Deadly (1995)': 1489, 'Window to Paris (1994)': 1490, 'Bewegte Mann, Der (1994)': 1491, 'Gold Diggers: The Secret of Bear Mountain (1995)': 1492, 'Naked in New York (1994)': 1493, 'Killer: A Journal of Murder (1995)': 1494, 'Nelly & Monsieur Arnaud (1995)': 1495, 'Three Lives and Only One Death (1996)': 1496, 'Babysitter, The (1995)': 1497, 'Children of the Revolution (1996)': 1498, 'Getting Even with Dad (1994)': 1499, 'Mad Dog Time (1996)': 1500, 'Sprung (1997)': 1501, 'World of Apu, The (Apur Sansar) (1959)': 1502, 'Dream With the Fishes (1997)': 1503, 'Wings of Courage (1995)': 1504, 'Wedding Gift, The (1994)': 1505, 'Fear, The (1995)': 1506, 'Losing Isaiah (1995)': 1507, 'New Jersey Drive (1995)': 1508, 'Race the Sun (1996)': 1509, 'Mr. Wonderful (1993)': 1510, 'Trial by Jury (1994)': 1511, 'Good Man in Africa, A (1994)': 1512, 'Kaspar Hauser (1993)': 1513, 'Object of My Affection, The (1998)': 1514, 'Witness (1985)': 1515, 'Senseless (1998)': 1516, 'Nowhere (1997)': 1517, 'Underground (1995)': 1518, 'Jefferson in Paris (1995)': 1519, 'Far From Home: The Adventures of Yellow Dog (1995)': 1520, 'Foreign Student (1994)': 1521, \"I Don't Want to Talk About It (De eso no se habla) (1993)\": 1522, 'Twin Town (1997)': 1523, 'Aiqing wansui (1994)': 1524, \"Enfer, L' (1994)\": 1525, 'All Over Me (1997)': 1526, 'Cosi (1996)': 1527, 'Being Human (1993)': 1528, 'Amazing Panda Adventure, The (1995)': 1529, 'Beans of Egypt, Maine, The (1994)': 1530, 'Johns (1996)': 1531, 'Scarlet Letter, The (1926)': 1532, 'American Dream (1990)': 1533, 'Aparajito (1956)': 1534, 'Baton Rouge (1988)': 1535, 'Careful (1992)': 1536, 'Clean Slate (Coup de Torchon) (1981)': 1537, 'Collectionneuse, La (1967)': 1538, 'Condition Red (1995)': 1539, 'Daens (1992)': 1540, 'Death in the Garden (Mort en ce jardin, La) (1956)': 1541, 'Destiny Turns on the Radio (1995)': 1542, 'Dream Man (1995)': 1543, 'Duoluo tianshi (1995)': 1544, \"Eye of Vichy, The (Oeil de Vichy, L') (1993)\": 1545, 'Frankie Starlight (1995)': 1546, 'Glass Shield, The (1994)': 1547, 'Hostile Intentions (1994)': 1548, 'Hungarian Fairy Tale, A (1987)': 1549, 'Hunted, The (1995)': 1550, 'I, Worst of All (Yo, la peor de todas) (1990)': 1551, 'Invitation, The (Zaproszenie) (1986)': 1552, 'It Takes Two (1995)': 1553, 'Lashou shentan (1992)': 1554, 'Liebelei (1933)': 1555, 'Magic Hour, The (1998)': 1556, 'Man from Down Under, The (1943)': 1557, \"Pharaoh's Army (1995)\": 1558, 'Promise, The (Versprechen, Das) (1994)': 1559, 'Quartier Mozart (1992)': 1560, 'Safe Passage (1994)': 1561, 'Salut cousin! (1996)': 1562, 'Schizopolis (1996)': 1563, 'Secret Adventures of Tom Thumb, The (1993)': 1564, 'Shadows (Cienie) (1988)': 1565, 'Show, The (1995)': 1566, 'Spirits of the Dead (Tre passi nel delirio) (1968)': 1567, 'Symphonie pastorale, La (1946)': 1568, 'T-Men (1947)': 1569, 'Terror in a Texas Town (1958)': 1570, 'The Courtyard (1995)': 1571, 'Tigrero: A Film That Was Never Made (1994)': 1572, 'To Cross the Rubicon (1991)': 1573, 'To Have, or Not (1995)': 1574, 'Touki Bouki (Journey of the Hyena) (1973)': 1575, 'Underneath, The (1995)': 1576, 'Vermont Is For Lovers (1992)': 1577, 'Vie est belle, La (Life is Rosey) (1987)': 1578, \"Wend Kuuni (God's Gift) (1982)\": 1579, 'Woman in Question, The (1950)': 1580, 'Yankee Zulu (1994)': 1581, 'Death in Brunswick (1991)': 1582, 'Everest (1998)': 1583, 'Nemesis 2: Nebula (1995)': 1584, 'Romper Stomper (1992)': 1585, 'Shopping (1994)': 1586, 'City of Industry (1997)': 1587, \"Someone Else's America (1995)\": 1588, 'Guantanamera (1994)': 1589, 'Office Killer (1997)': 1590, 'Price Above Rubies, A (1998)': 1591, 'Angela (1995)': 1592, 'He Walked by Night (1948)': 1593, 'Love Serenade (1996)': 1594, 'Buddy (1997)': 1595, 'B*A*P*S (1997)': 1596, 'Intimate Relations (1996)': 1597, 'Truth or Consequences, N.M. (1997)': 1598, 'Leading Man, The (1996)': 1599, 'Tokyo Fist (1995)': 1600, 'Reluctant Debutante, The (1958)': 1601, 'Warriors of Virtue (1997)': 1602, 'Desert Winds (1995)': 1603, 'King of New York (1990)': 1604, 'All Things Fair (1996)': 1605, 'Sixth Man, The (1997)': 1606, 'Butterfly Kiss (1995)': 1607, 'Paris, France (1993)': 1608, 'Cérémonie, La (1995)': 1609, 'Hush (1998)': 1610, 'Nobody Loves Me (Keiner liebt mich) (1994)': 1611, 'Wife, The (1995)': 1612, 'Angel Baby (1995)': 1613, 'Big One, The (1997)': 1614, 'Bitter Sugar (Azucar Amargo) (1996)': 1615, 'Brothers in Trouble (1995)': 1616, 'Butcher Boy, The (1998)': 1617, 'Dadetown (1995)': 1618, 'Eighth Day, The (1996)': 1619, 'Etz Hadomim Tafus (Under the Domin Tree) (1994)': 1620, 'Girls Town (1996)': 1621, 'Hana-bi (1997)': 1622, 'Lamerica (1994)': 1623, 'Land and Freedom (Tierra y libertad) (1995)': 1624, 'Men With Guns (1997)': 1625, 'Niagara, Niagara (1997)': 1626, 'Nico Icon (1995)': 1627, 'Normal Life (1996)': 1628, 'Silence of the Palace, The (Saimt el Qusur) (1994)': 1629, 'Slingshot, The (1993)': 1630, \"Some Mother's Son (1996)\": 1631, 'Spanish Prisoner, The (1997)': 1632, 'Sudden Manhattan (1996)': 1633, 'Two Friends (1986) ': 1634, 'Á köldum klaka (Cold Fever) (1994)': 1635, 'Temptress Moon (Feng Yue) (1996)': 1636, 'Entertaining Angels: The Dorothy Day Story (1996)': 1637, 'Favor, The (1994)': 1638, 'Little City (1998)': 1639, 'Target (1995)': 1640, 'Getting Away With Murder (1996)': 1641, 'Small Faces (1995)': 1642, 'New Age, The (1994)': 1643, 'Rough Magic (1995)': 1644, '8 Heads in a Duffel Bag (1997)': 1645, \"Brother's Kiss, A (1997)\": 1646, 'MURDER and murder (1996)': 1647, 'Next Step, The (1995)': 1648, 'Nothing Personal (1995)': 1649, 'Ripe (1996)': 1650, 'Tainted (1998)': 1651, 'Wedding Bell Blues (1996)': 1652, 'Further Gesture, A (1996)': 1653, 'Kika (1993)': 1654, 'Mirage (1995)': 1655, 'Mamma Roma (1962)': 1656, 'Sunchaser, The (1996)': 1657, 'War at Home, The (1996)': 1658, 'Sweet Nothing (1995)': 1659, 'B. Monkey (1998)': 1660, \"Mat' i syn (1997)\": 1661, 'You So Crazy (1994)': 1662, 'Scream of Stone (Schrei aus Stein) (1991)': 1663}\n",
      "1664\n"
     ]
    }
   ],
   "source": [
    "# Creating a dictionary to map movie name to their corresponding index in the unique movie name list\n",
    "\n",
    "\n",
    "movies_dict = {unique_movies[i] : i for i in range(len(unique_movies))}\n",
    "print(movies_dict)\n",
    "print(len(movies_dict))"
   ]
  },
  {
   "cell_type": "markdown",
   "id": "0106fb2c",
   "metadata": {
    "id": "0106fb2c"
   },
   "source": [
    "Creating a Utility matrix with rows as movies, columns as users, to make the refined dataframe compatible for SVD operations"
   ]
  },
  {
   "cell_type": "code",
   "execution_count": 18,
   "id": "c20db7bf",
   "metadata": {
    "colab": {
     "base_uri": "https://localhost:8080/"
    },
    "id": "c20db7bf",
    "outputId": "85e6e686-851e-47e0-9af3-a06e0b08aa00"
   },
   "outputs": [
    {
     "name": "stdout",
     "output_type": "stream",
     "text": [
      "Shape of Utility matrix:  (1664, 943)\n"
     ]
    },
    {
     "data": {
      "text/plain": [
       "array([[ 2., nan, nan, ..., nan, nan, nan],\n",
       "       [ 5., nan, nan, ..., nan, nan, nan],\n",
       "       [ 3., nan, nan, ..., nan, nan, nan],\n",
       "       ...,\n",
       "       [nan, nan, nan, ..., nan, nan, nan],\n",
       "       [nan, nan, nan, ..., nan, nan, nan],\n",
       "       [nan, nan, nan, ..., nan, nan, nan]])"
      ]
     },
     "execution_count": 18,
     "metadata": {},
     "output_type": "execute_result"
    }
   ],
   "source": [
    "\n",
    "## creating a utility matrix for the available data\n",
    "\n",
    "## Creating an empty array with (number of rows = number of movies) and (number of columns = number of users) rows as movies, columns as users\n",
    "\n",
    "utility_matrix = np.asarray([[np.nan for j in range(len(unique_users))] for i in range(len(unique_movies))])\n",
    "print(\"Shape of Utility matrix: \",utility_matrix.shape)\n",
    "\n",
    "for i in range(len(ratings_list)):\n",
    "\n",
    "  ## ith entry in users list and subtract 1 to get the index,I do the same for movies but I already defined a dictionary to get the index.\n",
    "  utility_matrix[movies_dict[movie_list[i]]][users_list[i]-1] = ratings_list[i]\n",
    "\n",
    "utility_matrix"
   ]
  },
  {
   "cell_type": "code",
   "execution_count": 19,
   "id": "2f098b67",
   "metadata": {
    "id": "2f098b67"
   },
   "outputs": [],
   "source": [
    "# Normalizing the utility matrix across movies column\n",
    "mask = np.isnan(utility_matrix)\n",
    "masked_arr = np.ma.masked_array(utility_matrix, mask)\n",
    "temp_mask = masked_arr.T\n",
    "rating_means = np.mean(temp_mask, axis=0)\n",
    "\n",
    "filled_matrix = temp_mask.filled(rating_means)\n",
    "filled_matrix = filled_matrix.T\n",
    "filled_matrix = filled_matrix - rating_means.data[:,np.newaxis]"
   ]
  },
  {
   "cell_type": "code",
   "execution_count": 20,
   "id": "086248d2",
   "metadata": {
    "colab": {
     "base_uri": "https://localhost:8080/"
    },
    "id": "086248d2",
    "outputId": "20353111-0157-48ac-e41d-2733c642a67c"
   },
   "outputs": [
    {
     "data": {
      "text/plain": [
       "array([[-0.02227217,  0.01608636, -0.01226094, ...,  0.        ,\n",
       "         0.        ,  0.        ],\n",
       "       [ 0.        ,  0.        ,  0.        , ...,  0.        ,\n",
       "         0.        ,  0.        ],\n",
       "       [ 0.        ,  0.        ,  0.        , ...,  0.        ,\n",
       "         0.        ,  0.        ],\n",
       "       ...,\n",
       "       [ 0.        ,  0.        ,  0.        , ...,  0.        ,\n",
       "         0.        ,  0.        ],\n",
       "       [ 0.        ,  0.        ,  0.        , ...,  0.        ,\n",
       "         0.        ,  0.        ],\n",
       "       [ 0.        ,  0.        ,  0.        , ...,  0.        ,\n",
       "         0.        ,  0.        ]])"
      ]
     },
     "execution_count": 20,
     "metadata": {},
     "output_type": "execute_result"
    }
   ],
   "source": [
    "filled_matrix = filled_matrix.T / np.sqrt(len(movies_dict)-1)\n",
    "filled_matrix"
   ]
  },
  {
   "cell_type": "markdown",
   "id": "f2b2d1f0",
   "metadata": {
    "id": "f2b2d1f0"
   },
   "source": [
    "Mean values across movies columns are extracted.\n",
    "Nan's of utility matrix are imputed with mean values extracted.\n",
    "Later the utility matrix has been normalized across movies to get all ratings to a standard/normal scale."
   ]
  },
  {
   "cell_type": "code",
   "execution_count": 21,
   "id": "237586bb",
   "metadata": {
    "colab": {
     "base_uri": "https://localhost:8080/"
    },
    "id": "237586bb",
    "outputId": "116044e7-0475-4ef0-f6dd-67e12fc5caf5"
   },
   "outputs": [
    {
     "data": {
      "text/plain": [
       "(943, 1664)"
      ]
     },
     "execution_count": 21,
     "metadata": {},
     "output_type": "execute_result"
    }
   ],
   "source": [
    "\n",
    "filled_matrix.shape"
   ]
  },
  {
   "cell_type": "markdown",
   "id": "b6abd3ad",
   "metadata": {
    "id": "b6abd3ad"
   },
   "source": [
    "Computing SVD (Singular Value Decomposition) of Utility matrix"
   ]
  },
  {
   "cell_type": "code",
   "execution_count": 22,
   "id": "e51b33a7",
   "metadata": {
    "id": "e51b33a7"
   },
   "outputs": [],
   "source": [
    "\n",
    "## Computing the SVD of the input matrix\n",
    "\n",
    "U, S, V = np.linalg.svd(filled_matrix)"
   ]
  },
  {
   "cell_type": "code",
   "execution_count": 23,
   "id": "539f589e",
   "metadata": {
    "id": "539f589e"
   },
   "outputs": [],
   "source": [
    "# Creating a list of Case insensitive movie names for further use\n",
    "\n",
    "\n",
    "case_insensitive_movies_list = [i.lower() for i in unique_movies]"
   ]
  },
  {
   "cell_type": "markdown",
   "id": "51570b3d",
   "metadata": {
    "id": "51570b3d"
   },
   "source": [
    "Defining a function to calculate the cosine similarity on the given dataframe and extracting requesting number of closely matched movie indices with the help of numpy einsum which valuates the Einstein summation convention on the operands."
   ]
  },
  {
   "cell_type": "code",
   "execution_count": 24,
   "id": "9a362d76",
   "metadata": {
    "id": "9a362d76"
   },
   "outputs": [],
   "source": [
    "#Function to calculate the cosine similarity (sorting by most similar and returning the top N)\n",
    "def top_cosine_similarity(data, movie_id, top_n=10):\n",
    "  index = movie_id \n",
    "  movie_row = data[index, :]\n",
    "  magnitude = np.sqrt(np.einsum('ij, ij -> i', data, data))\n",
    "  similarity = np.dot(movie_row, data.T) / (magnitude[index] * magnitude)\n",
    "  sort_indexes = np.argsort(-similarity)\n",
    "  return sort_indexes[:top_n]"
   ]
  },
  {
   "cell_type": "markdown",
   "id": "039bb106",
   "metadata": {
    "id": "039bb106"
   },
   "source": [
    "Defining a function to get similar movies for the given movie name"
   ]
  },
  {
   "cell_type": "code",
   "execution_count": 25,
   "id": "e766998e",
   "metadata": {
    "id": "e766998e"
   },
   "outputs": [],
   "source": [
    "#k-principal components to represent movies, movie_id to find recommendations, top_n print n results        \n",
    "def get_similar_movies(movie_name,top_n,k = 50):\n",
    "  # k = 50\n",
    "  # movie_id = 1\n",
    "  # top_n = 10\n",
    "  \n",
    "  sliced = V.T[:, :k] # representative data\n",
    "  movie_id = movies_dict[movie_name]\n",
    "  indexes = top_cosine_similarity(sliced, movie_id, top_n)\n",
    "  print(\" \")\n",
    "  print(\"Top\",top_n,\"movies which are very much similar to the Movie-\",movie_name, \"are: \")\n",
    "  print(\" \")\n",
    "  for i in indexes[1:]:\n",
    "    print(unique_movies[i])"
   ]
  },
  {
   "cell_type": "markdown",
   "id": "3ce80392",
   "metadata": {
    "id": "3ce80392"
   },
   "source": [
    "In SVD decomposition, Where A is a m x n utility matrix, U is a m x r orthogonal left singular matrix, which represents the relationship between users and latent factors, S is a r x r diagonal matrix, which describes the strength of each latent factor and V is a r x n diagonal right singular matrix, which indicates the similarity between items and latent factors. The latent factors here are the characteristics of the items, for example, the genre of the music. The SVD decreases the dimension of the utility matrix A by extracting its latent factors. It maps each user and each item into a r-dimensional latent space. This mapping facilitates a clear representation of relationships between users and items.\n",
    "\n",
    "Dynamically suggesting movie name from the existing movie corpus I have, based on the user input using try and except architecture.\n",
    "\n",
    "Defining a function which outputs movie names as suggestion when the user mis spells the movie name. User might have intended to type any of these movie names."
   ]
  },
  {
   "cell_type": "code",
   "execution_count": 26,
   "id": "4025dbb7",
   "metadata": {
    "id": "4025dbb7"
   },
   "outputs": [],
   "source": [
    "# function which takes input and returns suggestions for the user\n",
    "\n",
    "def get_possible_movies(movie):\n",
    "\n",
    "    temp = ''\n",
    "    possible_movies = case_insensitive_movies_list.copy()\n",
    "    for i in movie :\n",
    "      out = []\n",
    "      temp += i\n",
    "      for j in possible_movies:\n",
    "        if temp in j:\n",
    "          out.append(j)\n",
    "      if len(out) == 0:\n",
    "          return possible_movies\n",
    "      out.sort()\n",
    "      possible_movies = out.copy()\n",
    "\n",
    "    return possible_movies\n",
    "     "
   ]
  },
  {
   "cell_type": "markdown",
   "id": "f3bbb746",
   "metadata": {
    "id": "f3bbb746"
   },
   "source": [
    "This function provides user with movie name suggestions if movie name is mis-spelled or Recommends similar movies to the input movie if the movie name is valid."
   ]
  },
  {
   "cell_type": "code",
   "execution_count": 27,
   "id": "95b1c392",
   "metadata": {
    "id": "95b1c392"
   },
   "outputs": [],
   "source": [
    "class invalid(Exception):\n",
    "    pass\n",
    "\n",
    "def recommender():\n",
    "    \n",
    "    try:\n",
    "\n",
    "      movie_name = input(\"Enter the Movie name: \")\n",
    "      movie_name_lower = movie_name.lower()\n",
    "      if movie_name_lower not in case_insensitive_movies_list :\n",
    "        raise invalid\n",
    "      else :\n",
    "        # movies_list[case_insensitive_country_names.index(movie_name_lower)]\n",
    "        num_recom = int(input(\"Enter Number of movie recommendations needed: \"))\n",
    "        get_similar_movies(unique_movies[case_insensitive_movies_list.index(movie_name_lower)],num_recom)\n",
    "\n",
    "    except invalid:\n",
    "\n",
    "      possible_movies = get_possible_movies(movie_name_lower)\n",
    "\n",
    "      if len(possible_movies) == len(unique_movies) :\n",
    "        print(\"Movie name entered is does not exist in the list \")\n",
    "      else :\n",
    "        indices = [case_insensitive_movies_list.index(i) for i in possible_movies]\n",
    "        print(\"Entered Movie name is not matching with any movie from the dataset . Please check the below suggestions :\\n\",[unique_movies[i] for i in indices])\n",
    "        print(\"\")\n",
    "        recommender()"
   ]
  },
  {
   "cell_type": "code",
   "execution_count": 28,
   "id": "1bdf6eda",
   "metadata": {
    "colab": {
     "base_uri": "https://localhost:8080/"
    },
    "id": "1bdf6eda",
    "outputId": "699c84d2-a955-44ef-dcf9-5397b935830f"
   },
   "outputs": [
    {
     "name": "stdout",
     "output_type": "stream",
     "text": [
      "Enter the Movie name: val\n",
      "Entered Movie name is not matching with any movie from the dataset . Please check the below suggestions :\n",
      " ['2 Days in the Valley (1996)', 'Addams Family Values (1993)', 'Arrival, The (1996)', 'Love! Valour! Compassion! (1997)', 'Moonlight and Valentino (1995)']\n",
      "\n",
      "Enter the Movie name: Titannic\n",
      "Entered Movie name is not matching with any movie from the dataset . Please check the below suggestions :\n",
      " ['Titanic (1997)']\n",
      "\n",
      "Enter the Movie name: The Titanic\n",
      "Entered Movie name is not matching with any movie from the dataset . Please check the below suggestions :\n",
      " ['Land Before Time III: The Time of the Great Giving (1995) (V)']\n",
      "\n",
      "Enter the Movie name: Arrival, The (1996)\n",
      "Enter Number of movie recommendations needed: 10\n",
      " \n",
      "Top 10 movies which are very much similar to the Movie- Arrival, The (1996) are: \n",
      " \n",
      "Drunks (1995)\n",
      "Escape from New York (1981)\n",
      "Screamers (1995)\n",
      "Omen, The (1976)\n",
      "Juror, The (1996)\n",
      "Air Bud (1997)\n",
      "Glimmer Man, The (1996)\n",
      "Mary Reilly (1996)\n",
      "Rocket Man (1997)\n"
     ]
    },
    {
     "name": "stderr",
     "output_type": "stream",
     "text": [
      "<ipython-input-24-cfddc1d2fa49>:6: RuntimeWarning: invalid value encountered in true_divide\n",
      "  similarity = np.dot(movie_row, data.T) / (magnitude[index] * magnitude)\n"
     ]
    }
   ],
   "source": [
    "recommender()"
   ]
  },
  {
   "cell_type": "markdown",
   "id": "bca94c36",
   "metadata": {
    "id": "bca94c36"
   },
   "source": [
    "**Conclusion:**\n",
    "\n",
    "The above built recommender system can suggest movie names similar to the given movie name. The same architecture can be built to get similar users for the given user id and then suggesting movies from those user id's (this would be item-item collaborative filtering). This can be done just by extracting latent factors of U matrix (which corresponds to Users) instead V matrix (which corresponds to Movies) as I did. But a better recommender system can be built only if I could change the axis of normalization of utility matrix to userid from movies.\n",
    "Movie Recommendations using SVD giving a movie name as input.\n",
    "\n",
    "SVD reduces the dimensionality reduction and gets us important latent features which can almost approximate all values in the utility matrix (including null values). Already available values in the utility matrix can be used to evaluate the predictions and tune the parameters/weights in the latent features (if matrix factorization used) or help us to pick the number of latent features from the SVD decomposition. Once number of latent features to be picked are decided, we can populate the null values and use these predicted ratings of a user for movie to recommend the movie with highest predicted rating to that particular user.\n",
    "\n",
    "A function is defined to calculate the cosine similarity on the given dataframe and extracting requesting number of closely matched movie indices with the help of numpy einsum which valuates the Einstein summation convention on the operands. Dynamic movie name suggestor discussed above is also used as part of user interactive interface.\n",
    "\n",
    "Some limitations of matrix factorization include:\n",
    "\n",
    "1. The difficulty of using side features (that is, any features beyond the query ID/item ID). As a result, the model can only be queried with a user or item present in the training set.\n",
    "2.Relevance of recommendations. Popular items tend to be recommended for everyone, especially when using dot product as a similarity measure. It is better to capture specific user interests.\n",
    "3. The matrix factorization also had the cold start problem due to the fact that it had no feature vector or embedding for the new items.\n",
    "4. Matrix factorization works on the simple inner product of the User and item feature embeddings, it is often not enough to capture and represent the complex relations in the user and items."
   ]
  },
  {
   "cell_type": "markdown",
   "id": "0a7fa4fe",
   "metadata": {
    "id": "0a7fa4fe"
   },
   "source": [
    "# Recommennder system using DNN and softmax"
   ]
  },
  {
   "cell_type": "code",
   "execution_count": 42,
   "id": "67e90426",
   "metadata": {
    "id": "67e90426"
   },
   "outputs": [],
   "source": [
    "from sklearn.model_selection import train_test_split\n",
    "from sklearn.preprocessing import LabelEncoder\n",
    "\n",
    "from keras.models import Model\n",
    "from keras.layers import Input, Reshape, Dot\n",
    "from keras.layers import Embedding\n",
    "from keras.optimizers import Adam\n",
    "from keras.regularizers import l2\n",
    "from keras.layers import Concatenate, Dense, Dropout\n",
    "from keras.layers import Add, Activation, Lambda\n",
    "\n",
    "import tensorflow as tf\n",
    "import keras\n",
    "from pprint import pprint"
   ]
  },
  {
   "cell_type": "code",
   "execution_count": 30,
   "id": "45a958a9",
   "metadata": {
    "id": "45a958a9"
   },
   "outputs": [],
   "source": [
    "# Encoding users and movie titles to make sure that the sequence has no missing values when dealing with Deep Neural Networks.\n",
    "\n",
    "\n",
    "user_enc = LabelEncoder()\n",
    "refined_dataset['user'] = user_enc.fit_transform(refined_dataset['user id'].values)\n",
    "n_users = refined_dataset['user'].nunique()"
   ]
  },
  {
   "cell_type": "code",
   "execution_count": 31,
   "id": "0f1bcb6d",
   "metadata": {
    "id": "0f1bcb6d"
   },
   "outputs": [],
   "source": [
    "\n",
    "item_enc = LabelEncoder()\n",
    "refined_dataset['movie'] = item_enc.fit_transform(refined_dataset['movie title'].values)\n",
    "n_movies = refined_dataset['movie'].nunique()"
   ]
  },
  {
   "cell_type": "code",
   "execution_count": 32,
   "id": "5Eyp5ImnhCAQ",
   "metadata": {
    "colab": {
     "base_uri": "https://localhost:8080/"
    },
    "id": "5Eyp5ImnhCAQ",
    "outputId": "dfabc393-05a6-448a-b493-8c998fecfea2"
   },
   "outputs": [
    {
     "data": {
      "text/plain": [
       "(943, 1664, 1.0, 5.0)"
      ]
     },
     "execution_count": 32,
     "metadata": {},
     "output_type": "execute_result"
    }
   ],
   "source": [
    "refined_dataset['rating'] = refined_dataset['rating'].values.astype(np.float32)\n",
    "min_rating = min(refined_dataset['rating'])\n",
    "max_rating = max(refined_dataset['rating'])\n",
    "n_users, n_movies, min_rating, max_rating"
   ]
  },
  {
   "cell_type": "code",
   "execution_count": 33,
   "id": "gi_AOAJjhE2n",
   "metadata": {
    "colab": {
     "base_uri": "https://localhost:8080/",
     "height": 206
    },
    "id": "gi_AOAJjhE2n",
    "outputId": "6c84962e-5c38-4afb-c921-dffc967c8929"
   },
   "outputs": [
    {
     "data": {
      "text/html": [
       "\n",
       "  <div id=\"df-260489be-e96a-4585-aed3-bf142d93a449\">\n",
       "    <div class=\"colab-df-container\">\n",
       "      <div>\n",
       "<style scoped>\n",
       "    .dataframe tbody tr th:only-of-type {\n",
       "        vertical-align: middle;\n",
       "    }\n",
       "\n",
       "    .dataframe tbody tr th {\n",
       "        vertical-align: top;\n",
       "    }\n",
       "\n",
       "    .dataframe thead th {\n",
       "        text-align: right;\n",
       "    }\n",
       "</style>\n",
       "<table border=\"1\" class=\"dataframe\">\n",
       "  <thead>\n",
       "    <tr style=\"text-align: right;\">\n",
       "      <th></th>\n",
       "      <th>user id</th>\n",
       "      <th>movie title</th>\n",
       "      <th>rating</th>\n",
       "      <th>user</th>\n",
       "      <th>movie</th>\n",
       "    </tr>\n",
       "  </thead>\n",
       "  <tbody>\n",
       "    <tr>\n",
       "      <th>0</th>\n",
       "      <td>1</td>\n",
       "      <td>101 Dalmatians (1996)</td>\n",
       "      <td>2.0</td>\n",
       "      <td>0</td>\n",
       "      <td>2</td>\n",
       "    </tr>\n",
       "    <tr>\n",
       "      <th>1</th>\n",
       "      <td>1</td>\n",
       "      <td>12 Angry Men (1957)</td>\n",
       "      <td>5.0</td>\n",
       "      <td>0</td>\n",
       "      <td>3</td>\n",
       "    </tr>\n",
       "    <tr>\n",
       "      <th>2</th>\n",
       "      <td>1</td>\n",
       "      <td>20,000 Leagues Under the Sea (1954)</td>\n",
       "      <td>3.0</td>\n",
       "      <td>0</td>\n",
       "      <td>6</td>\n",
       "    </tr>\n",
       "    <tr>\n",
       "      <th>3</th>\n",
       "      <td>1</td>\n",
       "      <td>2001: A Space Odyssey (1968)</td>\n",
       "      <td>4.0</td>\n",
       "      <td>0</td>\n",
       "      <td>7</td>\n",
       "    </tr>\n",
       "    <tr>\n",
       "      <th>4</th>\n",
       "      <td>1</td>\n",
       "      <td>Abyss, The (1989)</td>\n",
       "      <td>3.0</td>\n",
       "      <td>0</td>\n",
       "      <td>16</td>\n",
       "    </tr>\n",
       "  </tbody>\n",
       "</table>\n",
       "</div>\n",
       "      <button class=\"colab-df-convert\" onclick=\"convertToInteractive('df-260489be-e96a-4585-aed3-bf142d93a449')\"\n",
       "              title=\"Convert this dataframe to an interactive table.\"\n",
       "              style=\"display:none;\">\n",
       "        \n",
       "  <svg xmlns=\"http://www.w3.org/2000/svg\" height=\"24px\"viewBox=\"0 0 24 24\"\n",
       "       width=\"24px\">\n",
       "    <path d=\"M0 0h24v24H0V0z\" fill=\"none\"/>\n",
       "    <path d=\"M18.56 5.44l.94 2.06.94-2.06 2.06-.94-2.06-.94-.94-2.06-.94 2.06-2.06.94zm-11 1L8.5 8.5l.94-2.06 2.06-.94-2.06-.94L8.5 2.5l-.94 2.06-2.06.94zm10 10l.94 2.06.94-2.06 2.06-.94-2.06-.94-.94-2.06-.94 2.06-2.06.94z\"/><path d=\"M17.41 7.96l-1.37-1.37c-.4-.4-.92-.59-1.43-.59-.52 0-1.04.2-1.43.59L10.3 9.45l-7.72 7.72c-.78.78-.78 2.05 0 2.83L4 21.41c.39.39.9.59 1.41.59.51 0 1.02-.2 1.41-.59l7.78-7.78 2.81-2.81c.8-.78.8-2.07 0-2.86zM5.41 20L4 18.59l7.72-7.72 1.47 1.35L5.41 20z\"/>\n",
       "  </svg>\n",
       "      </button>\n",
       "      \n",
       "  <style>\n",
       "    .colab-df-container {\n",
       "      display:flex;\n",
       "      flex-wrap:wrap;\n",
       "      gap: 12px;\n",
       "    }\n",
       "\n",
       "    .colab-df-convert {\n",
       "      background-color: #E8F0FE;\n",
       "      border: none;\n",
       "      border-radius: 50%;\n",
       "      cursor: pointer;\n",
       "      display: none;\n",
       "      fill: #1967D2;\n",
       "      height: 32px;\n",
       "      padding: 0 0 0 0;\n",
       "      width: 32px;\n",
       "    }\n",
       "\n",
       "    .colab-df-convert:hover {\n",
       "      background-color: #E2EBFA;\n",
       "      box-shadow: 0px 1px 2px rgba(60, 64, 67, 0.3), 0px 1px 3px 1px rgba(60, 64, 67, 0.15);\n",
       "      fill: #174EA6;\n",
       "    }\n",
       "\n",
       "    [theme=dark] .colab-df-convert {\n",
       "      background-color: #3B4455;\n",
       "      fill: #D2E3FC;\n",
       "    }\n",
       "\n",
       "    [theme=dark] .colab-df-convert:hover {\n",
       "      background-color: #434B5C;\n",
       "      box-shadow: 0px 1px 3px 1px rgba(0, 0, 0, 0.15);\n",
       "      filter: drop-shadow(0px 1px 2px rgba(0, 0, 0, 0.3));\n",
       "      fill: #FFFFFF;\n",
       "    }\n",
       "  </style>\n",
       "\n",
       "      <script>\n",
       "        const buttonEl =\n",
       "          document.querySelector('#df-260489be-e96a-4585-aed3-bf142d93a449 button.colab-df-convert');\n",
       "        buttonEl.style.display =\n",
       "          google.colab.kernel.accessAllowed ? 'block' : 'none';\n",
       "\n",
       "        async function convertToInteractive(key) {\n",
       "          const element = document.querySelector('#df-260489be-e96a-4585-aed3-bf142d93a449');\n",
       "          const dataTable =\n",
       "            await google.colab.kernel.invokeFunction('convertToInteractive',\n",
       "                                                     [key], {});\n",
       "          if (!dataTable) return;\n",
       "\n",
       "          const docLinkHtml = 'Like what you see? Visit the ' +\n",
       "            '<a target=\"_blank\" href=https://colab.research.google.com/notebooks/data_table.ipynb>data table notebook</a>'\n",
       "            + ' to learn more about interactive tables.';\n",
       "          element.innerHTML = '';\n",
       "          dataTable['output_type'] = 'display_data';\n",
       "          await google.colab.output.renderOutput(dataTable, element);\n",
       "          const docLink = document.createElement('div');\n",
       "          docLink.innerHTML = docLinkHtml;\n",
       "          element.appendChild(docLink);\n",
       "        }\n",
       "      </script>\n",
       "    </div>\n",
       "  </div>\n",
       "  "
      ],
      "text/plain": [
       "   user id                          movie title  rating  user  movie\n",
       "0        1                101 Dalmatians (1996)     2.0     0      2\n",
       "1        1                  12 Angry Men (1957)     5.0     0      3\n",
       "2        1  20,000 Leagues Under the Sea (1954)     3.0     0      6\n",
       "3        1         2001: A Space Odyssey (1968)     4.0     0      7\n",
       "4        1                    Abyss, The (1989)     3.0     0     16"
      ]
     },
     "execution_count": 33,
     "metadata": {},
     "output_type": "execute_result"
    }
   ],
   "source": [
    "refined_dataset.head()"
   ]
  },
  {
   "cell_type": "code",
   "execution_count": 34,
   "id": "WJjCR1E7hJxO",
   "metadata": {
    "colab": {
     "base_uri": "https://localhost:8080/"
    },
    "id": "WJjCR1E7hJxO",
    "outputId": "26bd8e52-b349-4b85-ac25-fd7cb93bd7fb"
   },
   "outputs": [
    {
     "data": {
      "text/plain": [
       "((89723, 2), (9970, 2), (89723,), (9970,))"
      ]
     },
     "execution_count": 34,
     "metadata": {},
     "output_type": "execute_result"
    }
   ],
   "source": [
    "# Splitting the data into training and testing\n",
    "\n",
    "\n",
    "X = refined_dataset[['user', 'movie']].values\n",
    "y = refined_dataset['rating'].values\n",
    "X_train, X_test, y_train, y_test = train_test_split(X, y, test_size=0.1, random_state=50)\n",
    "X_train.shape, X_test.shape, y_train.shape, y_test.shape"
   ]
  },
  {
   "cell_type": "code",
   "execution_count": 35,
   "id": "r_RbG5yRhStt",
   "metadata": {
    "id": "r_RbG5yRhStt"
   },
   "outputs": [],
   "source": [
    "# Defining number of factors which are to be considered by the Embedding layer\n",
    "\n",
    "n_factors = 150"
   ]
  },
  {
   "cell_type": "markdown",
   "id": "agKK9uWhhgDp",
   "metadata": {
    "id": "agKK9uWhhgDp"
   },
   "source": [
    "Columns in the input array are split into two separate arrays. As Keras considers them as two distinct inputs, each input needs to be fed in as its own array."
   ]
  },
  {
   "cell_type": "code",
   "execution_count": 36,
   "id": "rzSdhJArhg5t",
   "metadata": {
    "id": "rzSdhJArhg5t"
   },
   "outputs": [],
   "source": [
    "X_train_array = [X_train[:, 0], X_train[:, 1]]\n",
    "X_test_array = [X_test[:, 0], X_test[:, 1]]"
   ]
  },
  {
   "cell_type": "code",
   "execution_count": 37,
   "id": "yQDiFIZ_hqcy",
   "metadata": {
    "colab": {
     "base_uri": "https://localhost:8080/"
    },
    "id": "yQDiFIZ_hqcy",
    "outputId": "9f878512-c72c-46c7-b013-a62e1d725bf1"
   },
   "outputs": [
    {
     "data": {
      "text/plain": [
       "(array([[ 180, 1152],\n",
       "        [ 487,  389],\n",
       "        [ 177,  302],\n",
       "        ...,\n",
       "        [ 431, 1588],\n",
       "        [ 232,  399],\n",
       "        [ 138,  612]]),\n",
       " [array([180, 487, 177, ..., 431, 232, 138]),\n",
       "  array([1152,  389,  302, ..., 1588,  399,  612])],\n",
       " (89723,))"
      ]
     },
     "execution_count": 37,
     "metadata": {},
     "output_type": "execute_result"
    }
   ],
   "source": [
    "X_train, X_train_array, X_train_array[0].shape"
   ]
  },
  {
   "cell_type": "code",
   "execution_count": 38,
   "id": "mPBguUNmhuBX",
   "metadata": {
    "id": "mPBguUNmhuBX"
   },
   "outputs": [],
   "source": [
    "# Normalizing the labels\n",
    "\n",
    "y_train = (y_train - min_rating)/(max_rating - min_rating)\n",
    "y_test = (y_test - min_rating)/(max_rating - min_rating)"
   ]
  },
  {
   "cell_type": "code",
   "execution_count": 44,
   "id": "n-cGrNVwh6e7",
   "metadata": {
    "id": "n-cGrNVwh6e7"
   },
   "outputs": [],
   "source": [
    "# Building a Softmax Deep Neural Network\n",
    "\n",
    "## Initializing a input layer for users\n",
    "user = tf.keras.layers.Input(shape = (1,))\n",
    "\n",
    "## Embedding layer for n_factors of users\n",
    "u = keras.layers.Embedding(n_users, n_factors, embeddings_initializer = 'he_normal', embeddings_regularizer = tf.keras.regularizers.l2(1e-6))(user)\n",
    "u = tf.keras.layers.Reshape((n_factors,))(u)\n",
    "\n",
    "## Initializing a input layer for movies\n",
    "movie = tf.keras.layers.Input(shape = (1,))\n",
    "\n",
    "## Embedding layer for n_factors of movies\n",
    "m = keras.layers.Embedding(n_movies, n_factors, embeddings_initializer = 'he_normal', embeddings_regularizer=tf.keras.regularizers.l2(1e-6))(movie)\n",
    "m = tf.keras.layers.Reshape((n_factors,))(m)\n",
    "\n",
    "## stacking up both user and movie embeddings\n",
    "x = tf.keras.layers.Concatenate()([u,m])\n",
    "x = tf.keras.layers.Dropout(0.05)(x)\n",
    "\n",
    "## Adding a Dense layer to the architecture\n",
    "x = tf.keras.layers.Dense(32, kernel_initializer='he_normal')(x)\n",
    "x = tf.keras.layers.Activation(activation='relu')(x)\n",
    "x = tf.keras.layers.Dropout(0.05)(x)\n",
    "\n",
    "x = tf.keras.layers.Dense(16, kernel_initializer='he_normal')(x)\n",
    "x = tf.keras.layers.Activation(activation='relu')(x)\n",
    "x = tf.keras.layers.Dropout(0.05)(x)\n",
    "\n",
    "## Adding an Output layer with Sigmoid activation funtion which gives output between 0 and 1\n",
    "x = tf.keras.layers.Dense(9)(x)\n",
    "x = tf.keras.layers.Activation(activation='softmax')(x)\n",
    "\n",
    "## Adding a Lambda layer to convert the output to rating by scaling it with the help of available rating information\n",
    "# x = tf.keras.layers.Lambda(lambda x: x*(max_rating - min_rating) + min_rating)(x)\n",
    "\n",
    "## Defining the model\n",
    "model = tf.keras.models.Model(inputs=[user,movie], outputs=x)\n",
    "# optimizer = tf.keras.optimizers.Adam(lr=0.001)\n",
    "# optimizer = tf.keras.optimizers.RMSprop(learning_rate=0.005,\n",
    "    # rho=0.9, momentum=0.01, epsilon=1e-07)\n",
    "\n",
    "## Compiling the model\n",
    "# model.compile(loss='binary_crossentropy', optimizer = optimizer)\n",
    "# model.compile(loss='mean_squared_error', optimizer = optimizer,metrics=['accuracy'])\n",
    "model.compile(optimizer='sgd', loss=tf.keras.losses.SparseCategoricalCrossentropy(), metrics=['accuracy'])\n"
   ]
  },
  {
   "cell_type": "code",
   "execution_count": 45,
   "id": "G5qX0Y3XiApC",
   "metadata": {
    "colab": {
     "base_uri": "https://localhost:8080/"
    },
    "id": "G5qX0Y3XiApC",
    "outputId": "53c90c04-a4a3-47b1-b8ca-6919c6e80558"
   },
   "outputs": [
    {
     "name": "stdout",
     "output_type": "stream",
     "text": [
      "Model: \"model\"\n",
      "__________________________________________________________________________________________________\n",
      " Layer (type)                   Output Shape         Param #     Connected to                     \n",
      "==================================================================================================\n",
      " input_3 (InputLayer)           [(None, 1)]          0           []                               \n",
      "                                                                                                  \n",
      " input_4 (InputLayer)           [(None, 1)]          0           []                               \n",
      "                                                                                                  \n",
      " embedding (Embedding)          (None, 1, 150)       141450      ['input_3[0][0]']                \n",
      "                                                                                                  \n",
      " embedding_1 (Embedding)        (None, 1, 150)       249600      ['input_4[0][0]']                \n",
      "                                                                                                  \n",
      " reshape (Reshape)              (None, 150)          0           ['embedding[0][0]']              \n",
      "                                                                                                  \n",
      " reshape_1 (Reshape)            (None, 150)          0           ['embedding_1[0][0]']            \n",
      "                                                                                                  \n",
      " concatenate (Concatenate)      (None, 300)          0           ['reshape[0][0]',                \n",
      "                                                                  'reshape_1[0][0]']              \n",
      "                                                                                                  \n",
      " dropout (Dropout)              (None, 300)          0           ['concatenate[0][0]']            \n",
      "                                                                                                  \n",
      " dense (Dense)                  (None, 32)           9632        ['dropout[0][0]']                \n",
      "                                                                                                  \n",
      " activation (Activation)        (None, 32)           0           ['dense[0][0]']                  \n",
      "                                                                                                  \n",
      " dropout_1 (Dropout)            (None, 32)           0           ['activation[0][0]']             \n",
      "                                                                                                  \n",
      " dense_1 (Dense)                (None, 16)           528         ['dropout_1[0][0]']              \n",
      "                                                                                                  \n",
      " activation_1 (Activation)      (None, 16)           0           ['dense_1[0][0]']                \n",
      "                                                                                                  \n",
      " dropout_2 (Dropout)            (None, 16)           0           ['activation_1[0][0]']           \n",
      "                                                                                                  \n",
      " dense_2 (Dense)                (None, 9)            153         ['dropout_2[0][0]']              \n",
      "                                                                                                  \n",
      " activation_2 (Activation)      (None, 9)            0           ['dense_2[0][0]']                \n",
      "                                                                                                  \n",
      "==================================================================================================\n",
      "Total params: 401,363\n",
      "Trainable params: 401,363\n",
      "Non-trainable params: 0\n",
      "__________________________________________________________________________________________________\n"
     ]
    }
   ],
   "source": [
    "model.summary()"
   ]
  },
  {
   "cell_type": "code",
   "execution_count": 46,
   "id": "RbyavZJdita7",
   "metadata": {
    "colab": {
     "base_uri": "https://localhost:8080/"
    },
    "id": "RbyavZJdita7",
    "outputId": "e87c2314-47bd-4b7a-9d4a-f258909c6395"
   },
   "outputs": [
    {
     "name": "stdout",
     "output_type": "stream",
     "text": [
      "Epoch 1/70\n",
      "701/701 [==============================] - 7s 7ms/step - loss: 0.8734 - accuracy: 0.0612 - val_loss: 0.5311 - val_accuracy: 0.0617 - lr: 0.0100\n",
      "Epoch 2/70\n",
      "701/701 [==============================] - 5s 7ms/step - loss: 0.5380 - accuracy: 0.0609 - val_loss: 0.5148 - val_accuracy: 0.0617 - lr: 0.0100\n",
      "Epoch 3/70\n",
      "701/701 [==============================] - 5s 7ms/step - loss: 0.5278 - accuracy: 0.0609 - val_loss: 0.5121 - val_accuracy: 0.0617 - lr: 0.0100\n",
      "Epoch 4/70\n",
      "701/701 [==============================] - 5s 8ms/step - loss: 0.5249 - accuracy: 0.0609 - val_loss: 0.5110 - val_accuracy: 0.0617 - lr: 0.0100\n",
      "Epoch 5/70\n",
      "701/701 [==============================] - 6s 8ms/step - loss: 0.5232 - accuracy: 0.0609 - val_loss: 0.5105 - val_accuracy: 0.0617 - lr: 0.0100\n",
      "Epoch 6/70\n",
      "701/701 [==============================] - 4s 6ms/step - loss: 0.5218 - accuracy: 0.0609 - val_loss: 0.5101 - val_accuracy: 0.0617 - lr: 0.0100\n",
      "Epoch 7/70\n",
      "701/701 [==============================] - 5s 6ms/step - loss: 0.5212 - accuracy: 0.0609 - val_loss: 0.5097 - val_accuracy: 0.0617 - lr: 0.0100\n",
      "Epoch 8/70\n",
      "701/701 [==============================] - 6s 8ms/step - loss: 0.5206 - accuracy: 0.0609 - val_loss: 0.5094 - val_accuracy: 0.0617 - lr: 0.0100\n",
      "Epoch 9/70\n",
      "701/701 [==============================] - 5s 7ms/step - loss: 0.5199 - accuracy: 0.0609 - val_loss: 0.5091 - val_accuracy: 0.0617 - lr: 0.0100\n",
      "Epoch 10/70\n",
      "701/701 [==============================] - 6s 8ms/step - loss: 0.5197 - accuracy: 0.0609 - val_loss: 0.5088 - val_accuracy: 0.0617 - lr: 0.0100\n",
      "Epoch 11/70\n",
      "701/701 [==============================] - 5s 7ms/step - loss: 0.5191 - accuracy: 0.0609 - val_loss: 0.5084 - val_accuracy: 0.0617 - lr: 0.0100\n",
      "Epoch 12/70\n",
      "701/701 [==============================] - 5s 6ms/step - loss: 0.5186 - accuracy: 0.0609 - val_loss: 0.5090 - val_accuracy: 0.0617 - lr: 0.0100\n",
      "Epoch 13/70\n",
      "701/701 [==============================] - 5s 8ms/step - loss: 0.5182 - accuracy: 0.0609 - val_loss: 0.5077 - val_accuracy: 0.0617 - lr: 0.0100\n",
      "Epoch 14/70\n",
      "701/701 [==============================] - 4s 6ms/step - loss: 0.5173 - accuracy: 0.0609 - val_loss: 0.5070 - val_accuracy: 0.0617 - lr: 0.0100\n",
      "Epoch 15/70\n",
      "701/701 [==============================] - 5s 7ms/step - loss: 0.5171 - accuracy: 0.0609 - val_loss: 0.5064 - val_accuracy: 0.0617 - lr: 0.0100\n",
      "Epoch 16/70\n",
      "701/701 [==============================] - 5s 7ms/step - loss: 0.5161 - accuracy: 0.0609 - val_loss: 0.5056 - val_accuracy: 0.0617 - lr: 0.0100\n",
      "Epoch 17/70\n",
      "701/701 [==============================] - 5s 6ms/step - loss: 0.5151 - accuracy: 0.0609 - val_loss: 0.5044 - val_accuracy: 0.0617 - lr: 0.0100\n",
      "Epoch 18/70\n",
      "701/701 [==============================] - 6s 8ms/step - loss: 0.5138 - accuracy: 0.0609 - val_loss: 0.5040 - val_accuracy: 0.0617 - lr: 0.0100\n",
      "Epoch 19/70\n",
      "701/701 [==============================] - 4s 6ms/step - loss: 0.5123 - accuracy: 0.0609 - val_loss: 0.5025 - val_accuracy: 0.0617 - lr: 0.0100\n",
      "Epoch 20/70\n",
      "701/701 [==============================] - 4s 6ms/step - loss: 0.5103 - accuracy: 0.0609 - val_loss: 0.4989 - val_accuracy: 0.0617 - lr: 0.0100\n",
      "Epoch 21/70\n",
      "701/701 [==============================] - 5s 8ms/step - loss: 0.5076 - accuracy: 0.0609 - val_loss: 0.4960 - val_accuracy: 0.0617 - lr: 0.0100\n",
      "Epoch 22/70\n",
      "701/701 [==============================] - 4s 6ms/step - loss: 0.5043 - accuracy: 0.0610 - val_loss: 0.4927 - val_accuracy: 0.0617 - lr: 0.0100\n",
      "Epoch 23/70\n",
      "701/701 [==============================] - 5s 7ms/step - loss: 0.5003 - accuracy: 0.0611 - val_loss: 0.4866 - val_accuracy: 0.0617 - lr: 0.0100\n",
      "Epoch 24/70\n",
      "701/701 [==============================] - 5s 7ms/step - loss: 0.4946 - accuracy: 0.0621 - val_loss: 0.4805 - val_accuracy: 0.0618 - lr: 0.0100\n",
      "Epoch 25/70\n",
      "701/701 [==============================] - 4s 6ms/step - loss: 0.4880 - accuracy: 0.0649 - val_loss: 0.4734 - val_accuracy: 0.0654 - lr: 0.0100\n",
      "Epoch 26/70\n",
      "701/701 [==============================] - 6s 8ms/step - loss: 0.4806 - accuracy: 0.0706 - val_loss: 0.4663 - val_accuracy: 0.0692 - lr: 0.0100\n",
      "Epoch 27/70\n",
      "701/701 [==============================] - 8s 11ms/step - loss: 0.4742 - accuracy: 0.0761 - val_loss: 0.4599 - val_accuracy: 0.0755 - lr: 0.0100\n",
      "Epoch 28/70\n",
      "701/701 [==============================] - 7s 11ms/step - loss: 0.4688 - accuracy: 0.0817 - val_loss: 0.4543 - val_accuracy: 0.0803 - lr: 0.0100\n",
      "Epoch 29/70\n",
      "701/701 [==============================] - 5s 8ms/step - loss: 0.4632 - accuracy: 0.0874 - val_loss: 0.4494 - val_accuracy: 0.0846 - lr: 0.0100\n",
      "Epoch 30/70\n",
      "701/701 [==============================] - 9s 12ms/step - loss: 0.4576 - accuracy: 0.0915 - val_loss: 0.4449 - val_accuracy: 0.0866 - lr: 0.0100\n",
      "Epoch 31/70\n",
      "701/701 [==============================] - 9s 13ms/step - loss: 0.4541 - accuracy: 0.0957 - val_loss: 0.4416 - val_accuracy: 0.0872 - lr: 0.0100\n",
      "Epoch 32/70\n",
      "701/701 [==============================] - 7s 10ms/step - loss: 0.4497 - accuracy: 0.0989 - val_loss: 0.4383 - val_accuracy: 0.0922 - lr: 0.0100\n",
      "Epoch 33/70\n",
      "701/701 [==============================] - 4s 6ms/step - loss: 0.4462 - accuracy: 0.1018 - val_loss: 0.4358 - val_accuracy: 0.0927 - lr: 0.0100\n",
      "Epoch 34/70\n",
      "701/701 [==============================] - 8s 12ms/step - loss: 0.4434 - accuracy: 0.1039 - val_loss: 0.4334 - val_accuracy: 0.0962 - lr: 0.0100\n",
      "Epoch 35/70\n",
      "701/701 [==============================] - 4s 6ms/step - loss: 0.4404 - accuracy: 0.1062 - val_loss: 0.4315 - val_accuracy: 0.0985 - lr: 0.0100\n",
      "Epoch 36/70\n",
      "701/701 [==============================] - 6s 8ms/step - loss: 0.4388 - accuracy: 0.1071 - val_loss: 0.4300 - val_accuracy: 0.0980 - lr: 0.0100\n",
      "Epoch 37/70\n",
      "701/701 [==============================] - 6s 8ms/step - loss: 0.4367 - accuracy: 0.1093 - val_loss: 0.4286 - val_accuracy: 0.1012 - lr: 0.0100\n",
      "Epoch 38/70\n",
      "701/701 [==============================] - 5s 8ms/step - loss: 0.4346 - accuracy: 0.1104 - val_loss: 0.4274 - val_accuracy: 0.1088 - lr: 0.0100\n",
      "Epoch 39/70\n",
      "701/701 [==============================] - 4s 6ms/step - loss: 0.4312 - accuracy: 0.1121 - val_loss: 0.4258 - val_accuracy: 0.1084 - lr: 0.0100\n",
      "Epoch 40/70\n",
      "701/701 [==============================] - 5s 6ms/step - loss: 0.4308 - accuracy: 0.1133 - val_loss: 0.4251 - val_accuracy: 0.1032 - lr: 0.0100\n",
      "Epoch 41/70\n",
      "701/701 [==============================] - 5s 8ms/step - loss: 0.4286 - accuracy: 0.1141 - val_loss: 0.4246 - val_accuracy: 0.1132 - lr: 0.0100\n",
      "Epoch 42/70\n",
      "701/701 [==============================] - 4s 6ms/step - loss: 0.4276 - accuracy: 0.1154 - val_loss: 0.4236 - val_accuracy: 0.1132 - lr: 0.0100\n",
      "Epoch 43/70\n",
      "701/701 [==============================] - 5s 7ms/step - loss: 0.4261 - accuracy: 0.1155 - val_loss: 0.4225 - val_accuracy: 0.1114 - lr: 0.0100\n",
      "Epoch 44/70\n",
      "701/701 [==============================] - 5s 7ms/step - loss: 0.4257 - accuracy: 0.1162 - val_loss: 0.4220 - val_accuracy: 0.1072 - lr: 0.0100\n",
      "Epoch 45/70\n",
      "701/701 [==============================] - 4s 6ms/step - loss: 0.4245 - accuracy: 0.1165 - val_loss: 0.4226 - val_accuracy: 0.1189 - lr: 0.0100\n",
      "Epoch 46/70\n",
      "701/701 [==============================] - 6s 8ms/step - loss: 0.4232 - accuracy: 0.1172 - val_loss: 0.4207 - val_accuracy: 0.1125 - lr: 0.0100\n",
      "Epoch 47/70\n",
      "701/701 [==============================] - 4s 6ms/step - loss: 0.4232 - accuracy: 0.1173 - val_loss: 0.4204 - val_accuracy: 0.1147 - lr: 0.0100\n",
      "Epoch 48/70\n",
      "701/701 [==============================] - 5s 6ms/step - loss: 0.4216 - accuracy: 0.1184 - val_loss: 0.4200 - val_accuracy: 0.1139 - lr: 0.0100\n",
      "Epoch 49/70\n",
      "701/701 [==============================] - 5s 8ms/step - loss: 0.4206 - accuracy: 0.1190 - val_loss: 0.4197 - val_accuracy: 0.1145 - lr: 0.0100\n",
      "Epoch 50/70\n",
      "701/701 [==============================] - 4s 6ms/step - loss: 0.4203 - accuracy: 0.1199 - val_loss: 0.4198 - val_accuracy: 0.1177 - lr: 0.0100\n",
      "Epoch 51/70\n",
      "701/701 [==============================] - 7s 10ms/step - loss: 0.4187 - accuracy: 0.1203 - val_loss: 0.4189 - val_accuracy: 0.1140 - lr: 0.0100\n",
      "Epoch 52/70\n",
      "701/701 [==============================] - 7s 11ms/step - loss: 0.4178 - accuracy: 0.1211 - val_loss: 0.4190 - val_accuracy: 0.1115 - lr: 0.0100\n",
      "Epoch 53/70\n",
      "701/701 [==============================] - 8s 12ms/step - loss: 0.4170 - accuracy: 0.1216 - val_loss: 0.4195 - val_accuracy: 0.1233 - lr: 0.0100\n",
      "Epoch 54/70\n",
      "701/701 [==============================] - 4s 6ms/step - loss: 0.4167 - accuracy: 0.1215 - val_loss: 0.4183 - val_accuracy: 0.1138 - lr: 0.0100\n",
      "Epoch 55/70\n",
      "701/701 [==============================] - 7s 10ms/step - loss: 0.4165 - accuracy: 0.1216 - val_loss: 0.4179 - val_accuracy: 0.1160 - lr: 0.0100\n",
      "Epoch 56/70\n",
      "701/701 [==============================] - 5s 7ms/step - loss: 0.4154 - accuracy: 0.1219 - val_loss: 0.4176 - val_accuracy: 0.1172 - lr: 0.0100\n",
      "Epoch 57/70\n",
      "701/701 [==============================] - 4s 6ms/step - loss: 0.4159 - accuracy: 0.1212 - val_loss: 0.4174 - val_accuracy: 0.1168 - lr: 0.0100\n",
      "Epoch 58/70\n",
      "701/701 [==============================] - 7s 11ms/step - loss: 0.4147 - accuracy: 0.1222 - val_loss: 0.4173 - val_accuracy: 0.1130 - lr: 0.0100\n",
      "Epoch 59/70\n",
      "701/701 [==============================] - 5s 7ms/step - loss: 0.4140 - accuracy: 0.1233 - val_loss: 0.4177 - val_accuracy: 0.1237 - lr: 0.0100\n",
      "Epoch 60/70\n",
      "701/701 [==============================] - 9s 12ms/step - loss: 0.4131 - accuracy: 0.1236 - val_loss: 0.4172 - val_accuracy: 0.1216 - lr: 0.0100\n",
      "Epoch 61/70\n",
      "701/701 [==============================] - 6s 8ms/step - loss: 0.4130 - accuracy: 0.1233 - val_loss: 0.4175 - val_accuracy: 0.1140 - lr: 0.0100\n",
      "Epoch 62/70\n",
      "701/701 [==============================] - 5s 7ms/step - loss: 0.4128 - accuracy: 0.1243 - val_loss: 0.4169 - val_accuracy: 0.1211 - lr: 0.0100\n",
      "Epoch 63/70\n",
      "701/701 [==============================] - 7s 10ms/step - loss: 0.4120 - accuracy: 0.1242 - val_loss: 0.4166 - val_accuracy: 0.1164 - lr: 0.0100\n",
      "Epoch 64/70\n",
      "701/701 [==============================] - 7s 10ms/step - loss: 0.4111 - accuracy: 0.1240 - val_loss: 0.4173 - val_accuracy: 0.1263 - lr: 0.0100\n",
      "Epoch 65/70\n",
      "701/701 [==============================] - 6s 8ms/step - loss: 0.4118 - accuracy: 0.1238 - val_loss: 0.4162 - val_accuracy: 0.1166 - lr: 0.0100\n",
      "Epoch 66/70\n",
      "701/701 [==============================] - 7s 9ms/step - loss: 0.4109 - accuracy: 0.1228 - val_loss: 0.4162 - val_accuracy: 0.1209 - lr: 0.0100\n",
      "Epoch 67/70\n",
      "701/701 [==============================] - 4s 6ms/step - loss: 0.4105 - accuracy: 0.1237 - val_loss: 0.4164 - val_accuracy: 0.1121 - lr: 0.0100\n",
      "Epoch 68/70\n",
      "698/701 [============================>.] - ETA: 0s - loss: 0.4096 - accuracy: 0.1243\n",
      "Epoch 68: ReduceLROnPlateau reducing learning rate to 0.007499999832361937.\n",
      "701/701 [==============================] - 6s 8ms/step - loss: 0.4095 - accuracy: 0.1243 - val_loss: 0.4163 - val_accuracy: 0.1127 - lr: 0.0100\n",
      "Epoch 69/70\n",
      "701/701 [==============================] - 5s 7ms/step - loss: 0.4087 - accuracy: 0.1242 - val_loss: 0.4164 - val_accuracy: 0.1129 - lr: 0.0075\n",
      "Epoch 70/70\n",
      "701/701 [==============================] - 4s 6ms/step - loss: 0.4079 - accuracy: 0.1255 - val_loss: 0.4161 - val_accuracy: 0.1136 - lr: 0.0075\n"
     ]
    }
   ],
   "source": [
    "\n",
    "reduce_lr = tf.keras.callbacks.ReduceLROnPlateau(monitor='val_loss', factor=0.75, patience=3, min_lr=0.000001, verbose=1)\n",
    "\n",
    "history = model.fit(x = X_train_array, y = y_train, batch_size=128, epochs=70, verbose=1, validation_data=(X_test_array, y_test)\n",
    ",shuffle=True,callbacks=[reduce_lr])"
   ]
  },
  {
   "cell_type": "code",
   "execution_count": 47,
   "id": "z0oguWjRiymN",
   "metadata": {
    "colab": {
     "base_uri": "https://localhost:8080/",
     "height": 472
    },
    "id": "z0oguWjRiymN",
    "outputId": "16527c4f-ddb5-4dae-bab5-e66a2c99f40a"
   },
   "outputs": [
    {
     "data": {
      "image/png": "[encoded data removed]",
      "text/plain": [
       "<Figure size 640x480 with 1 Axes>"
      ]
     },
     "metadata": {},
     "output_type": "display_data"
    }
   ],
   "source": [
    "\n",
    "plt.plot(history.history[\"loss\"][5:])\n",
    "plt.plot(history.history[\"val_loss\"][5:])\n",
    "plt.title(\"model loss\")\n",
    "plt.ylabel(\"loss\")\n",
    "plt.xlabel(\"epoch\")\n",
    "plt.legend([\"train\", \"test\"], loc=\"upper left\")\n",
    "plt.show()"
   ]
  },
  {
   "cell_type": "markdown",
   "id": "GE3ApFtQjXiw",
   "metadata": {
    "id": "GE3ApFtQjXiw"
   },
   "source": [
    "Getting movies for given User"
   ]
  },
  {
   "cell_type": "code",
   "execution_count": 48,
   "id": "3wpwSZagjSMw",
   "metadata": {
    "colab": {
     "base_uri": "https://localhost:8080/",
     "height": 206
    },
    "id": "3wpwSZagjSMw",
    "outputId": "da7ddf46-d935-408e-aea7-0bb6b1ee77cb"
   },
   "outputs": [
    {
     "data": {
      "text/html": [
       "\n",
       "  <div id=\"df-5f03a494-7532-42c7-9afe-dbddc8345882\">\n",
       "    <div class=\"colab-df-container\">\n",
       "      <div>\n",
       "<style scoped>\n",
       "    .dataframe tbody tr th:only-of-type {\n",
       "        vertical-align: middle;\n",
       "    }\n",
       "\n",
       "    .dataframe tbody tr th {\n",
       "        vertical-align: top;\n",
       "    }\n",
       "\n",
       "    .dataframe thead th {\n",
       "        text-align: right;\n",
       "    }\n",
       "</style>\n",
       "<table border=\"1\" class=\"dataframe\">\n",
       "  <thead>\n",
       "    <tr style=\"text-align: right;\">\n",
       "      <th></th>\n",
       "      <th>user id</th>\n",
       "      <th>movie title</th>\n",
       "      <th>rating</th>\n",
       "      <th>user</th>\n",
       "      <th>movie</th>\n",
       "    </tr>\n",
       "  </thead>\n",
       "  <tbody>\n",
       "    <tr>\n",
       "      <th>0</th>\n",
       "      <td>1</td>\n",
       "      <td>101 Dalmatians (1996)</td>\n",
       "      <td>2.0</td>\n",
       "      <td>0</td>\n",
       "      <td>2</td>\n",
       "    </tr>\n",
       "    <tr>\n",
       "      <th>1</th>\n",
       "      <td>1</td>\n",
       "      <td>12 Angry Men (1957)</td>\n",
       "      <td>5.0</td>\n",
       "      <td>0</td>\n",
       "      <td>3</td>\n",
       "    </tr>\n",
       "    <tr>\n",
       "      <th>2</th>\n",
       "      <td>1</td>\n",
       "      <td>20,000 Leagues Under the Sea (1954)</td>\n",
       "      <td>3.0</td>\n",
       "      <td>0</td>\n",
       "      <td>6</td>\n",
       "    </tr>\n",
       "    <tr>\n",
       "      <th>3</th>\n",
       "      <td>1</td>\n",
       "      <td>2001: A Space Odyssey (1968)</td>\n",
       "      <td>4.0</td>\n",
       "      <td>0</td>\n",
       "      <td>7</td>\n",
       "    </tr>\n",
       "    <tr>\n",
       "      <th>4</th>\n",
       "      <td>1</td>\n",
       "      <td>Abyss, The (1989)</td>\n",
       "      <td>3.0</td>\n",
       "      <td>0</td>\n",
       "      <td>16</td>\n",
       "    </tr>\n",
       "  </tbody>\n",
       "</table>\n",
       "</div>\n",
       "      <button class=\"colab-df-convert\" onclick=\"convertToInteractive('df-5f03a494-7532-42c7-9afe-dbddc8345882')\"\n",
       "              title=\"Convert this dataframe to an interactive table.\"\n",
       "              style=\"display:none;\">\n",
       "        \n",
       "  <svg xmlns=\"http://www.w3.org/2000/svg\" height=\"24px\"viewBox=\"0 0 24 24\"\n",
       "       width=\"24px\">\n",
       "    <path d=\"M0 0h24v24H0V0z\" fill=\"none\"/>\n",
       "    <path d=\"M18.56 5.44l.94 2.06.94-2.06 2.06-.94-2.06-.94-.94-2.06-.94 2.06-2.06.94zm-11 1L8.5 8.5l.94-2.06 2.06-.94-2.06-.94L8.5 2.5l-.94 2.06-2.06.94zm10 10l.94 2.06.94-2.06 2.06-.94-2.06-.94-.94-2.06-.94 2.06-2.06.94z\"/><path d=\"M17.41 7.96l-1.37-1.37c-.4-.4-.92-.59-1.43-.59-.52 0-1.04.2-1.43.59L10.3 9.45l-7.72 7.72c-.78.78-.78 2.05 0 2.83L4 21.41c.39.39.9.59 1.41.59.51 0 1.02-.2 1.41-.59l7.78-7.78 2.81-2.81c.8-.78.8-2.07 0-2.86zM5.41 20L4 18.59l7.72-7.72 1.47 1.35L5.41 20z\"/>\n",
       "  </svg>\n",
       "      </button>\n",
       "      \n",
       "  <style>\n",
       "    .colab-df-container {\n",
       "      display:flex;\n",
       "      flex-wrap:wrap;\n",
       "      gap: 12px;\n",
       "    }\n",
       "\n",
       "    .colab-df-convert {\n",
       "      background-color: #E8F0FE;\n",
       "      border: none;\n",
       "      border-radius: 50%;\n",
       "      cursor: pointer;\n",
       "      display: none;\n",
       "      fill: #1967D2;\n",
       "      height: 32px;\n",
       "      padding: 0 0 0 0;\n",
       "      width: 32px;\n",
       "    }\n",
       "\n",
       "    .colab-df-convert:hover {\n",
       "      background-color: #E2EBFA;\n",
       "      box-shadow: 0px 1px 2px rgba(60, 64, 67, 0.3), 0px 1px 3px 1px rgba(60, 64, 67, 0.15);\n",
       "      fill: #174EA6;\n",
       "    }\n",
       "\n",
       "    [theme=dark] .colab-df-convert {\n",
       "      background-color: #3B4455;\n",
       "      fill: #D2E3FC;\n",
       "    }\n",
       "\n",
       "    [theme=dark] .colab-df-convert:hover {\n",
       "      background-color: #434B5C;\n",
       "      box-shadow: 0px 1px 3px 1px rgba(0, 0, 0, 0.15);\n",
       "      filter: drop-shadow(0px 1px 2px rgba(0, 0, 0, 0.3));\n",
       "      fill: #FFFFFF;\n",
       "    }\n",
       "  </style>\n",
       "\n",
       "      <script>\n",
       "        const buttonEl =\n",
       "          document.querySelector('#df-5f03a494-7532-42c7-9afe-dbddc8345882 button.colab-df-convert');\n",
       "        buttonEl.style.display =\n",
       "          google.colab.kernel.accessAllowed ? 'block' : 'none';\n",
       "\n",
       "        async function convertToInteractive(key) {\n",
       "          const element = document.querySelector('#df-5f03a494-7532-42c7-9afe-dbddc8345882');\n",
       "          const dataTable =\n",
       "            await google.colab.kernel.invokeFunction('convertToInteractive',\n",
       "                                                     [key], {});\n",
       "          if (!dataTable) return;\n",
       "\n",
       "          const docLinkHtml = 'Like what you see? Visit the ' +\n",
       "            '<a target=\"_blank\" href=https://colab.research.google.com/notebooks/data_table.ipynb>data table notebook</a>'\n",
       "            + ' to learn more about interactive tables.';\n",
       "          element.innerHTML = '';\n",
       "          dataTable['output_type'] = 'display_data';\n",
       "          await google.colab.output.renderOutput(dataTable, element);\n",
       "          const docLink = document.createElement('div');\n",
       "          docLink.innerHTML = docLinkHtml;\n",
       "          element.appendChild(docLink);\n",
       "        }\n",
       "      </script>\n",
       "    </div>\n",
       "  </div>\n",
       "  "
      ],
      "text/plain": [
       "   user id                          movie title  rating  user  movie\n",
       "0        1                101 Dalmatians (1996)     2.0     0      2\n",
       "1        1                  12 Angry Men (1957)     5.0     0      3\n",
       "2        1  20,000 Leagues Under the Sea (1954)     3.0     0      6\n",
       "3        1         2001: A Space Odyssey (1968)     4.0     0      7\n",
       "4        1                    Abyss, The (1989)     3.0     0     16"
      ]
     },
     "execution_count": 48,
     "metadata": {},
     "output_type": "execute_result"
    }
   ],
   "source": [
    "refined_dataset.head()"
   ]
  },
  {
   "cell_type": "markdown",
   "id": "TuGZpNuLjfA2",
   "metadata": {
    "id": "TuGZpNuLjfA2"
   },
   "source": [
    "How this DNN model works is, it takes two inputs, one of the input has user id's and the other has corresponding movie id's. Here DNN model tries to predict the ratings of the user - movie combination. So, I can input a specific user id (broadcasting it with the size of other input) and unseen movie id of the user and expect the model to give the ratings of the movies which would have been the ratings given by the user. Here, the ratings are already normalized and as I need the movies which interest the user more, ratings are not brought back to 0-5 scale."
   ]
  },
  {
   "cell_type": "code",
   "execution_count": 49,
   "id": "2mPTNoSWjb9O",
   "metadata": {
    "colab": {
     "base_uri": "https://localhost:8080/"
    },
    "id": "2mPTNoSWjb9O",
    "outputId": "24da7a68-e877-4818-c3e2-932b21ae6fa9"
   },
   "outputs": [
    {
     "data": {
      "text/plain": [
       "[array([180, 487, 177, ..., 431, 232, 138]),\n",
       " array([1152,  389,  302, ..., 1588,  399,  612])]"
      ]
     },
     "execution_count": 49,
     "metadata": {},
     "output_type": "execute_result"
    }
   ],
   "source": [
    "X_train_array"
   ]
  },
  {
   "cell_type": "markdown",
   "id": "KhLTvGJRj1Wg",
   "metadata": {
    "id": "KhLTvGJRj1Wg"
   },
   "source": [
    "Above is the model input shape"
   ]
  },
  {
   "cell_type": "code",
   "execution_count": 50,
   "id": "jWjLxA2fjjUT",
   "metadata": {
    "colab": {
     "base_uri": "https://localhost:8080/"
    },
    "id": "jWjLxA2fjjUT",
    "outputId": "164d3623-ac85-4a60-a293-fb6beac629de"
   },
   "outputs": [
    {
     "name": "stdout",
     "output_type": "stream",
     "text": [
      "[7, 55, 87, 113, 313, 337, 389, 390, 399, 411, 432, 460, 498, 528, 580, 604, 612, 643, 666, 783, 996, 1005, 1032, 1102, 1132, 1157, 1190, 1208, 1251, 1260, 1284, 1302, 1342, 1523, 1558, 1615]\n"
     ]
    }
   ],
   "source": [
    "user_id = [777]\n",
    "encoded_user_id = user_enc.transform(user_id)\n",
    "\n",
    "seen_movies = list(refined_dataset[refined_dataset['user id'] == user_id[0]]['movie'])\n",
    "print(seen_movies)"
   ]
  },
  {
   "cell_type": "markdown",
   "id": "0X-Hcb-Nj60w",
   "metadata": {
    "id": "0X-Hcb-Nj60w"
   },
   "source": [
    "Id's of movies which are already seen by the user are extracted."
   ]
  },
  {
   "cell_type": "code",
   "execution_count": 51,
   "id": "XLtqRUU_j4Pa",
   "metadata": {
    "colab": {
     "base_uri": "https://localhost:8080/"
    },
    "id": "XLtqRUU_j4Pa",
    "outputId": "2c022293-44cc-44d3-b4fa-932721a0d921"
   },
   "outputs": [
    {
     "data": {
      "text/plain": [
       "(1664, 0, 1663)"
      ]
     },
     "execution_count": 51,
     "metadata": {},
     "output_type": "execute_result"
    }
   ],
   "source": [
    "len(refined_dataset['movie'].unique()), min(refined_dataset['movie']), max(refined_dataset['movie'])"
   ]
  },
  {
   "cell_type": "markdown",
   "id": "QREogVrSkDD-",
   "metadata": {
    "id": "QREogVrSkDD-"
   },
   "source": [
    "I can understand that the labels are from 0 to 1663. So the movie id's which are not seen by the user can be pciked just by excluding the 'seen_movies' list from the first 1663 natural numbers."
   ]
  },
  {
   "cell_type": "code",
   "execution_count": 52,
   "id": "lVpys5CTkDnt",
   "metadata": {
    "colab": {
     "base_uri": "https://localhost:8080/"
    },
    "id": "lVpys5CTkDnt",
    "outputId": "aaf51ced-4d85-4450-d9a1-279c6e94ab82"
   },
   "outputs": [
    {
     "name": "stdout",
     "output_type": "stream",
     "text": [
      "[0, 1, 2, 3, 4, 5, 6, 8, 9, 10, 11, 12, 13, 14, 15, 16, 17, 18, 19, 20, 21, 22, 23, 24, 25, 26, 27, 28, 29, 30, 31, 32, 33, 34, 35, 36, 37, 38, 39, 40, 41, 42, 43, 44, 45, 46, 47, 48, 49, 50, 51, 52, 53, 54, 56, 57, 58, 59, 60, 61, 62, 63, 64, 65, 66, 67, 68, 69, 70, 71, 72, 73, 74, 75, 76, 77, 78, 79, 80, 81, 82, 83, 84, 85, 86, 88, 89, 90, 91, 92, 93, 94, 95, 96, 97, 98, 99, 100, 101, 102, 103, 104, 105, 106, 107, 108, 109, 110, 111, 112, 114, 115, 116, 117, 118, 119, 120, 121, 122, 123, 124, 125, 126, 127, 128, 129, 130, 131, 132, 133, 134, 135, 136, 137, 138, 139, 140, 141, 142, 143, 144, 145, 146, 147, 148, 149, 150, 151, 152, 153, 154, 155, 156, 157, 158, 159, 160, 161, 162, 163, 164, 165, 166, 167, 168, 169, 170, 171, 172, 173, 174, 175, 176, 177, 178, 179, 180, 181, 182, 183, 184, 185, 186, 187, 188, 189, 190, 191, 192, 193, 194, 195, 196, 197, 198, 199, 200, 201, 202, 203, 204, 205, 206, 207, 208, 209, 210, 211, 212, 213, 214, 215, 216, 217, 218, 219, 220, 221, 222, 223, 224, 225, 226, 227, 228, 229, 230, 231, 232, 233, 234, 235, 236, 237, 238, 239, 240, 241, 242, 243, 244, 245, 246, 247, 248, 249, 250, 251, 252, 253, 254, 255, 256, 257, 258, 259, 260, 261, 262, 263, 264, 265, 266, 267, 268, 269, 270, 271, 272, 273, 274, 275, 276, 277, 278, 279, 280, 281, 282, 283, 284, 285, 286, 287, 288, 289, 290, 291, 292, 293, 294, 295, 296, 297, 298, 299, 300, 301, 302, 303, 304, 305, 306, 307, 308, 309, 310, 311, 312, 314, 315, 316, 317, 318, 319, 320, 321, 322, 323, 324, 325, 326, 327, 328, 329, 330, 331, 332, 333, 334, 335, 336, 338, 339, 340, 341, 342, 343, 344, 345, 346, 347, 348, 349, 350, 351, 352, 353, 354, 355, 356, 357, 358, 359, 360, 361, 362, 363, 364, 365, 366, 367, 368, 369, 370, 371, 372, 373, 374, 375, 376, 377, 378, 379, 380, 381, 382, 383, 384, 385, 386, 387, 388, 391, 392, 393, 394, 395, 396, 397, 398, 400, 401, 402, 403, 404, 405, 406, 407, 408, 409, 410, 412, 413, 414, 415, 416, 417, 418, 419, 420, 421, 422, 423, 424, 425, 426, 427, 428, 429, 430, 431, 433, 434, 435, 436, 437, 438, 439, 440, 441, 442, 443, 444, 445, 446, 447, 448, 449, 450, 451, 452, 453, 454, 455, 456, 457, 458, 459, 461, 462, 463, 464, 465, 466, 467, 468, 469, 470, 471, 472, 473, 474, 475, 476, 477, 478, 479, 480, 481, 482, 483, 484, 485, 486, 487, 488, 489, 490, 491, 492, 493, 494, 495, 496, 497, 499, 500, 501, 502, 503, 504, 505, 506, 507, 508, 509, 510, 511, 512, 513, 514, 515, 516, 517, 518, 519, 520, 521, 522, 523, 524, 525, 526, 527, 529, 530, 531, 532, 533, 534, 535, 536, 537, 538, 539, 540, 541, 542, 543, 544, 545, 546, 547, 548, 549, 550, 551, 552, 553, 554, 555, 556, 557, 558, 559, 560, 561, 562, 563, 564, 565, 566, 567, 568, 569, 570, 571, 572, 573, 574, 575, 576, 577, 578, 579, 581, 582, 583, 584, 585, 586, 587, 588, 589, 590, 591, 592, 593, 594, 595, 596, 597, 598, 599, 600, 601, 602, 603, 605, 606, 607, 608, 609, 610, 611, 613, 614, 615, 616, 617, 618, 619, 620, 621, 622, 623, 624, 625, 626, 627, 628, 629, 630, 631, 632, 633, 634, 635, 636, 637, 638, 639, 640, 641, 642, 644, 645, 646, 647, 648, 649, 650, 651, 652, 653, 654, 655, 656, 657, 658, 659, 660, 661, 662, 663, 664, 665, 667, 668, 669, 670, 671, 672, 673, 674, 675, 676, 677, 678, 679, 680, 681, 682, 683, 684, 685, 686, 687, 688, 689, 690, 691, 692, 693, 694, 695, 696, 697, 698, 699, 700, 701, 702, 703, 704, 705, 706, 707, 708, 709, 710, 711, 712, 713, 714, 715, 716, 717, 718, 719, 720, 721, 722, 723, 724, 725, 726, 727, 728, 729, 730, 731, 732, 733, 734, 735, 736, 737, 738, 739, 740, 741, 742, 743, 744, 745, 746, 747, 748, 749, 750, 751, 752, 753, 754, 755, 756, 757, 758, 759, 760, 761, 762, 763, 764, 765, 766, 767, 768, 769, 770, 771, 772, 773, 774, 775, 776, 777, 778, 779, 780, 781, 782, 784, 785, 786, 787, 788, 789, 790, 791, 792, 793, 794, 795, 796, 797, 798, 799, 800, 801, 802, 803, 804, 805, 806, 807, 808, 809, 810, 811, 812, 813, 814, 815, 816, 817, 818, 819, 820, 821, 822, 823, 824, 825, 826, 827, 828, 829, 830, 831, 832, 833, 834, 835, 836, 837, 838, 839, 840, 841, 842, 843, 844, 845, 846, 847, 848, 849, 850, 851, 852, 853, 854, 855, 856, 857, 858, 859, 860, 861, 862, 863, 864, 865, 866, 867, 868, 869, 870, 871, 872, 873, 874, 875, 876, 877, 878, 879, 880, 881, 882, 883, 884, 885, 886, 887, 888, 889, 890, 891, 892, 893, 894, 895, 896, 897, 898, 899, 900, 901, 902, 903, 904, 905, 906, 907, 908, 909, 910, 911, 912, 913, 914, 915, 916, 917, 918, 919, 920, 921, 922, 923, 924, 925, 926, 927, 928, 929, 930, 931, 932, 933, 934, 935, 936, 937, 938, 939, 940, 941, 942, 943, 944, 945, 946, 947, 948, 949, 950, 951, 952, 953, 954, 955, 956, 957, 958, 959, 960, 961, 962, 963, 964, 965, 966, 967, 968, 969, 970, 971, 972, 973, 974, 975, 976, 977, 978, 979, 980, 981, 982, 983, 984, 985, 986, 987, 988, 989, 990, 991, 992, 993, 994, 995, 997, 998, 999, 1000, 1001, 1002, 1003, 1004, 1006, 1007, 1008, 1009, 1010, 1011, 1012, 1013, 1014, 1015, 1016, 1017, 1018, 1019, 1020, 1021, 1022, 1023, 1024, 1025, 1026, 1027, 1028, 1029, 1030, 1031, 1033, 1034, 1035, 1036, 1037, 1038, 1039, 1040, 1041, 1042, 1043, 1044, 1045, 1046, 1047, 1048, 1049, 1050, 1051, 1052, 1053, 1054, 1055, 1056, 1057, 1058, 1059, 1060, 1061, 1062, 1063, 1064, 1065, 1066, 1067, 1068, 1069, 1070, 1071, 1072, 1073, 1074, 1075, 1076, 1077, 1078, 1079, 1080, 1081, 1082, 1083, 1084, 1085, 1086, 1087, 1088, 1089, 1090, 1091, 1092, 1093, 1094, 1095, 1096, 1097, 1098, 1099, 1100, 1101, 1103, 1104, 1105, 1106, 1107, 1108, 1109, 1110, 1111, 1112, 1113, 1114, 1115, 1116, 1117, 1118, 1119, 1120, 1121, 1122, 1123, 1124, 1125, 1126, 1127, 1128, 1129, 1130, 1131, 1133, 1134, 1135, 1136, 1137, 1138, 1139, 1140, 1141, 1142, 1143, 1144, 1145, 1146, 1147, 1148, 1149, 1150, 1151, 1152, 1153, 1154, 1155, 1156, 1158, 1159, 1160, 1161, 1162, 1163, 1164, 1165, 1166, 1167, 1168, 1169, 1170, 1171, 1172, 1173, 1174, 1175, 1176, 1177, 1178, 1179, 1180, 1181, 1182, 1183, 1184, 1185, 1186, 1187, 1188, 1189, 1191, 1192, 1193, 1194, 1195, 1196, 1197, 1198, 1199, 1200, 1201, 1202, 1203, 1204, 1205, 1206, 1207, 1209, 1210, 1211, 1212, 1213, 1214, 1215, 1216, 1217, 1218, 1219, 1220, 1221, 1222, 1223, 1224, 1225, 1226, 1227, 1228, 1229, 1230, 1231, 1232, 1233, 1234, 1235, 1236, 1237, 1238, 1239, 1240, 1241, 1242, 1243, 1244, 1245, 1246, 1247, 1248, 1249, 1250, 1252, 1253, 1254, 1255, 1256, 1257, 1258, 1259, 1261, 1262, 1263, 1264, 1265, 1266, 1267, 1268, 1269, 1270, 1271, 1272, 1273, 1274, 1275, 1276, 1277, 1278, 1279, 1280, 1281, 1282, 1283, 1285, 1286, 1287, 1288, 1289, 1290, 1291, 1292, 1293, 1294, 1295, 1296, 1297, 1298, 1299, 1300, 1301, 1303, 1304, 1305, 1306, 1307, 1308, 1309, 1310, 1311, 1312, 1313, 1314, 1315, 1316, 1317, 1318, 1319, 1320, 1321, 1322, 1323, 1324, 1325, 1326, 1327, 1328, 1329, 1330, 1331, 1332, 1333, 1334, 1335, 1336, 1337, 1338, 1339, 1340, 1341, 1343, 1344, 1345, 1346, 1347, 1348, 1349, 1350, 1351, 1352, 1353, 1354, 1355, 1356, 1357, 1358, 1359, 1360, 1361, 1362, 1363, 1364, 1365, 1366, 1367, 1368, 1369, 1370, 1371, 1372, 1373, 1374, 1375, 1376, 1377, 1378, 1379, 1380, 1381, 1382, 1383, 1384, 1385, 1386, 1387, 1388, 1389, 1390, 1391, 1392, 1393, 1394, 1395, 1396, 1397, 1398, 1399, 1400, 1401, 1402, 1403, 1404, 1405, 1406, 1407, 1408, 1409, 1410, 1411, 1412, 1413, 1414, 1415, 1416, 1417, 1418, 1419, 1420, 1421, 1422, 1423, 1424, 1425, 1426, 1427, 1428, 1429, 1430, 1431, 1432, 1433, 1434, 1435, 1436, 1437, 1438, 1439, 1440, 1441, 1442, 1443, 1444, 1445, 1446, 1447, 1448, 1449, 1450, 1451, 1452, 1453, 1454, 1455, 1456, 1457, 1458, 1459, 1460, 1461, 1462, 1463, 1464, 1465, 1466, 1467, 1468, 1469, 1470, 1471, 1472, 1473, 1474, 1475, 1476, 1477, 1478, 1479, 1480, 1481, 1482, 1483, 1484, 1485, 1486, 1487, 1488, 1489, 1490, 1491, 1492, 1493, 1494, 1495, 1496, 1497, 1498, 1499, 1500, 1501, 1502, 1503, 1504, 1505, 1506, 1507, 1508, 1509, 1510, 1511, 1512, 1513, 1514, 1515, 1516, 1517, 1518, 1519, 1520, 1521, 1522, 1524, 1525, 1526, 1527, 1528, 1529, 1530, 1531, 1532, 1533, 1534, 1535, 1536, 1537, 1538, 1539, 1540, 1541, 1542, 1543, 1544, 1545, 1546, 1547, 1548, 1549, 1550, 1551, 1552, 1553, 1554, 1555, 1556, 1557, 1559, 1560, 1561, 1562, 1563, 1564, 1565, 1566, 1567, 1568, 1569, 1570, 1571, 1572, 1573, 1574, 1575, 1576, 1577, 1578, 1579, 1580, 1581, 1582, 1583, 1584, 1585, 1586, 1587, 1588, 1589, 1590, 1591, 1592, 1593, 1594, 1595, 1596, 1597, 1598, 1599, 1600, 1601, 1602, 1603, 1604, 1605, 1606, 1607, 1608, 1609, 1610, 1611, 1612, 1613, 1614, 1616, 1617, 1618, 1619, 1620, 1621, 1622, 1623, 1624, 1625, 1626, 1627, 1628, 1629, 1630, 1631, 1632, 1633, 1634, 1635, 1636, 1637, 1638, 1639, 1640, 1641, 1642, 1643, 1644, 1645, 1646, 1647, 1648, 1649, 1650, 1651, 1652, 1653, 1654, 1655, 1656, 1657, 1658, 1659, 1660, 1661, 1662, 1663]\n"
     ]
    }
   ],
   "source": [
    "unseen_movies = [i for i in range(min(refined_dataset['movie']), max(refined_dataset['movie'])+1) if i not in seen_movies]\n",
    "print(unseen_movies)"
   ]
  },
  {
   "cell_type": "markdown",
   "id": "b8Kd1NHRkKud",
   "metadata": {
    "id": "b8Kd1NHRkKud"
   },
   "source": [
    "Movies which are not seen by the user."
   ]
  },
  {
   "cell_type": "code",
   "execution_count": 53,
   "id": "E-19s8lbkGrH",
   "metadata": {
    "colab": {
     "base_uri": "https://localhost:8080/"
    },
    "id": "E-19s8lbkGrH",
    "outputId": "2854dbde-5760-4804-c5d6-acf7da089cc6"
   },
   "outputs": [
    {
     "data": {
      "text/plain": [
       "1664"
      ]
     },
     "execution_count": 53,
     "metadata": {},
     "output_type": "execute_result"
    }
   ],
   "source": [
    "len(unseen_movies) + len(seen_movies)"
   ]
  },
  {
   "cell_type": "code",
   "execution_count": 54,
   "id": "56VSJmNdkOgA",
   "metadata": {
    "colab": {
     "base_uri": "https://localhost:8080/"
    },
    "id": "56VSJmNdkOgA",
    "outputId": "07fc6467-012a-43b1-bca9-955f06a5675a"
   },
   "outputs": [
    {
     "data": {
      "text/plain": [
       "(2, 1628)"
      ]
     },
     "execution_count": 54,
     "metadata": {},
     "output_type": "execute_result"
    }
   ],
   "source": [
    "model_input = [np.asarray(list(encoded_user_id)*len(unseen_movies)), np.asarray(unseen_movies)]\n",
    "len(model_input), len(model_input[0])"
   ]
  },
  {
   "cell_type": "markdown",
   "id": "uKAX5kPrkYjf",
   "metadata": {
    "id": "uKAX5kPrkYjf"
   },
   "source": [
    "DNN model is used to predict the ratings of the unseen movies."
   ]
  },
  {
   "cell_type": "code",
   "execution_count": 55,
   "id": "E7rkWI2PkVqd",
   "metadata": {
    "colab": {
     "base_uri": "https://localhost:8080/"
    },
    "id": "E7rkWI2PkVqd",
    "outputId": "c65ff7e3-6a84-46c5-c8c5-c0d96637eb63"
   },
   "outputs": [
    {
     "name": "stdout",
     "output_type": "stream",
     "text": [
      "51/51 [==============================] - 0s 2ms/step\n"
     ]
    }
   ],
   "source": [
    "predicted_ratings = model.predict(model_input)"
   ]
  },
  {
   "cell_type": "code",
   "execution_count": 56,
   "id": "ZU8minyTka8c",
   "metadata": {
    "colab": {
     "base_uri": "https://localhost:8080/"
    },
    "id": "ZU8minyTka8c",
    "outputId": "85a3433b-0708-43c0-955f-43b14e8a601f"
   },
   "outputs": [
    {
     "name": "stdout",
     "output_type": "stream",
     "text": [
      "(1628, 9)\n"
     ]
    }
   ],
   "source": [
    "print(predicted_ratings.shape)"
   ]
  },
  {
   "cell_type": "code",
   "execution_count": 57,
   "id": "G_wll4XXkkG1",
   "metadata": {
    "colab": {
     "base_uri": "https://localhost:8080/"
    },
    "id": "G_wll4XXkkG1",
    "outputId": "ce38f5f0-9af5-4239-8718-f6216d6f4f6b"
   },
   "outputs": [
    {
     "name": "stdout",
     "output_type": "stream",
     "text": [
      "[[9.0682757e-01 9.3145303e-02 4.9925102e-06 ... 1.4549429e-06\n",
      "  4.3765976e-06 2.8593474e-06]\n",
      " [7.4659735e-01 2.5336373e-01 7.7097111e-06 ... 1.8760451e-06\n",
      "  6.1795204e-06 3.7587679e-06]\n",
      " [9.3344837e-01 6.6530518e-02 3.7570173e-06 ... 1.1644381e-06\n",
      "  3.3878759e-06 2.2763352e-06]\n",
      " ...\n",
      " [8.0388695e-01 1.9607225e-01 8.0142700e-06 ... 2.1662531e-06\n",
      "  6.2504128e-06 4.1957605e-06]\n",
      " [7.9706568e-01 2.0289704e-01 7.2148382e-06 ... 1.8600056e-06\n",
      "  5.7733509e-06 3.7543666e-06]\n",
      " [7.2400749e-01 2.7593699e-01 1.1035368e-05 ... 2.7153371e-06\n",
      "  8.7702492e-06 5.2778832e-06]]\n"
     ]
    }
   ],
   "source": [
    "print(predicted_ratings)"
   ]
  },
  {
   "cell_type": "markdown",
   "id": "mLJS9DY-kpm_",
   "metadata": {
    "id": "mLJS9DY-kpm_"
   },
   "source": [
    "Output is of shape (1628, 9). I got probability of each possible rating from 1 to 5. I can extract specific rating which user would have given to a movie but it is not useful for these recommendations now."
   ]
  },
  {
   "cell_type": "code",
   "execution_count": 58,
   "id": "dGTUntl7kl1y",
   "metadata": {
    "colab": {
     "base_uri": "https://localhost:8080/"
    },
    "id": "dGTUntl7kl1y",
    "outputId": "d83997c1-1166-449a-81a2-8195f25affc6"
   },
   "outputs": [
    {
     "data": {
      "text/plain": [
       "array([0.90682757, 0.74659735, 0.9334484 , ..., 0.80388695, 0.7970657 ,\n",
       "       0.7240075 ], dtype=float32)"
      ]
     },
     "execution_count": 58,
     "metadata": {},
     "output_type": "execute_result"
    }
   ],
   "source": [
    "predicted_ratings = np.max(predicted_ratings, axis=1)\n",
    "predicted_ratings"
   ]
  },
  {
   "cell_type": "code",
   "execution_count": 59,
   "id": "KCQroDpaksit",
   "metadata": {
    "colab": {
     "base_uri": "https://localhost:8080/"
    },
    "id": "KCQroDpaksit",
    "outputId": "b8b91b39-ba8e-4c85-bdbd-770661b95eca"
   },
   "outputs": [
    {
     "data": {
      "text/plain": [
       "(1628,)"
      ]
     },
     "execution_count": 59,
     "metadata": {},
     "output_type": "execute_result"
    }
   ],
   "source": [
    "predicted_ratings.shape"
   ]
  },
  {
   "cell_type": "markdown",
   "id": "wg3HSG1KkxPw",
   "metadata": {
    "id": "wg3HSG1KkxPw"
   },
   "source": [
    "Index of ratings sorted by descending order."
   ]
  },
  {
   "cell_type": "code",
   "execution_count": 60,
   "id": "Zz7AIipgkupY",
   "metadata": {
    "colab": {
     "base_uri": "https://localhost:8080/"
    },
    "id": "Zz7AIipgkupY",
    "outputId": "2affc13d-ba4c-4315-9122-8dc386c2c458"
   },
   "outputs": [
    {
     "name": "stdout",
     "output_type": "stream",
     "text": [
      "[ 231 1445  135 ... 1509  208 1487]\n"
     ]
    }
   ],
   "source": [
    "sorted_index = np.argsort(predicted_ratings)[::-1]\n",
    "print(sorted_index)"
   ]
  },
  {
   "cell_type": "markdown",
   "id": "DQ7qOtZAk2Tu",
   "metadata": {
    "id": "DQ7qOtZAk2Tu"
   },
   "source": [
    "Movie names have been extracted from the available indices I got."
   ]
  },
  {
   "cell_type": "code",
   "execution_count": 61,
   "id": "t5LpdboQkzbH",
   "metadata": {
    "colab": {
     "base_uri": "https://localhost:8080/"
    },
    "id": "t5LpdboQkzbH",
    "outputId": "db6ae2a3-1c30-438a-9529-4072f76d8793"
   },
   "outputs": [
    {
     "data": {
      "text/plain": [
       "array(['Bride of Frankenstein (1935)', 'Sword in the Stone, The (1963)',\n",
       "       'Baton Rouge (1988)', ...,\n",
       "       'To Wong Foo, Thanks for Everything! Julie Newmar (1995)',\n",
       "       'Boomerang (1992)', 'Three Lives and Only One Death (1996)'],\n",
       "      dtype=object)"
      ]
     },
     "execution_count": 61,
     "metadata": {},
     "output_type": "execute_result"
    }
   ],
   "source": [
    "recommended_movies = item_enc.inverse_transform(sorted_index)\n",
    "recommended_movies"
   ]
  },
  {
   "cell_type": "markdown",
   "id": "6VrAWisKk8A0",
   "metadata": {
    "id": "6VrAWisKk8A0"
   },
   "source": [
    "Movies recommended with the help of Softmax Deep Neural Networks"
   ]
  },
  {
   "cell_type": "code",
   "execution_count": 62,
   "id": "txkk4Ytuk4bS",
   "metadata": {
    "colab": {
     "base_uri": "https://localhost:8080/"
    },
    "id": "txkk4Ytuk4bS",
    "outputId": "96d27feb-0f45-4e7b-f2c6-a692c01da48b"
   },
   "outputs": [
    {
     "name": "stdout",
     "output_type": "stream",
     "text": [
      "['Bride of Frankenstein (1935)',\n",
      " 'Sword in the Stone, The (1963)',\n",
      " 'Baton Rouge (1988)',\n",
      " 'Basic Instinct (1992)',\n",
      " 'In the Line of Duty 2 (1987)',\n",
      " 'Meet Wally Sparks (1997)',\n",
      " 'Good Will Hunting (1997)',\n",
      " 'Jaws 3-D (1983)',\n",
      " 'Striking Distance (1993)',\n",
      " 'Two or Three Things I Know About Her (1966)',\n",
      " 'Transformers: The Movie, The (1986)',\n",
      " 'Saint, The (1997)',\n",
      " 'Red Firecracker, Green Firecracker (1994)',\n",
      " 'Duck Soup (1933)',\n",
      " 'Cemetery Man (Dellamorte Dellamore) (1994)',\n",
      " 'Phat Beach (1996)',\n",
      " \"Dante's Peak (1997)\",\n",
      " 'Jaws 2 (1978)',\n",
      " 'Diva (1981)',\n",
      " 'When We Were Kings (1996)']\n"
     ]
    }
   ],
   "source": [
    "from pprint import pprint\n",
    "pprint(list(recommended_movies[:20]))"
   ]
  },
  {
   "cell_type": "code",
   "execution_count": null,
   "id": "7DkJH4Sak-eH",
   "metadata": {
    "id": "7DkJH4Sak-eH"
   },
   "outputs": [],
   "source": []
  },
  {
   "cell_type": "markdown",
   "id": "p2nCZ0WZlB0-",
   "metadata": {
    "id": "p2nCZ0WZlB0-"
   },
   "source": [
    "Summing up the entire code into a recommender system function:"
   ]
  },
  {
   "cell_type": "code",
   "execution_count": 63,
   "id": "vwHTMTkMlCpT",
   "metadata": {
    "id": "vwHTMTkMlCpT"
   },
   "outputs": [],
   "source": [
    "def recommender_system(user_id, model, n_movies):\n",
    "\n",
    "  print(\"\")\n",
    "  print(\"Movie seen by the User:\")\n",
    "  pprint(list(refined_dataset[refined_dataset['user id'] == user_id]['movie title']))\n",
    "  print(\"\")\n",
    "\n",
    "  encoded_user_id = user_enc.transform([user_id])\n",
    "\n",
    "  seen_movies = list(refined_dataset[refined_dataset['user id'] == user_id]['movie'])\n",
    "  unseen_movies = [i for i in range(min(refined_dataset['movie']), max(refined_dataset['movie'])+1) if i not in seen_movies]\n",
    "  model_input = [np.asarray(list(encoded_user_id)*len(unseen_movies)), np.asarray(unseen_movies)]\n",
    "  predicted_ratings = model.predict(model_input)\n",
    "  predicted_ratings = np.max(predicted_ratings, axis=1)\n",
    "  sorted_index = np.argsort(predicted_ratings)[::-1]\n",
    "  recommended_movies = item_enc.inverse_transform(sorted_index)\n",
    "  print(\"---------------------------------------------------------------------------------\")\n",
    "  print(\"Top \"+str(n_movies)+\" Movie recommendations for the User \"+str(user_id)+ \" are:\")\n",
    "  pprint(list(recommended_movies[:n_movies]))"
   ]
  },
  {
   "cell_type": "code",
   "execution_count": 64,
   "id": "saqaMzPalGA_",
   "metadata": {
    "colab": {
     "base_uri": "https://localhost:8080/"
    },
    "id": "saqaMzPalGA_",
    "outputId": "26e99947-0a73-4c7e-97d6-adc498baa75c"
   },
   "outputs": [
    {
     "name": "stdout",
     "output_type": "stream",
     "text": [
      "Enter user id\n",
      "307\n",
      "Enter number of movies to be recommended:\n",
      "10\n",
      "\n",
      "Movie seen by the User:\n",
      "['12 Angry Men (1957)',\n",
      " '2001: A Space Odyssey (1968)',\n",
      " 'Abyss, The (1989)',\n",
      " 'Alien (1979)',\n",
      " 'Apollo 13 (1995)',\n",
      " 'Back to the Future (1985)',\n",
      " 'Barbarella (1968)',\n",
      " 'Batman (1989)',\n",
      " 'Beauty and the Beast (1991)',\n",
      " 'Blade Runner (1982)',\n",
      " 'Blues Brothers, The (1980)',\n",
      " 'Boot, Das (1981)',\n",
      " 'Brady Bunch Movie, The (1995)',\n",
      " 'Braveheart (1995)',\n",
      " 'Brazil (1985)',\n",
      " 'Casablanca (1942)',\n",
      " 'Close Shave, A (1995)',\n",
      " 'Contact (1997)',\n",
      " 'Crying Game, The (1992)',\n",
      " 'Dead Poets Society (1989)',\n",
      " 'Dial M for Murder (1954)',\n",
      " 'Dr. Strangelove or: How I Learned to Stop Worrying and Love the Bomb (1963)',\n",
      " 'Dragonheart (1996)',\n",
      " 'E.T. the Extra-Terrestrial (1982)',\n",
      " 'Empire Strikes Back, The (1980)',\n",
      " 'English Patient, The (1996)',\n",
      " 'Englishman Who Went Up a Hill, But Came Down a Mountain, The (1995)',\n",
      " 'Escape from L.A. (1996)',\n",
      " 'Fargo (1996)',\n",
      " 'Fast, Cheap & Out of Control (1997)',\n",
      " 'Field of Dreams (1989)',\n",
      " 'Fish Called Wanda, A (1988)',\n",
      " 'Four Weddings and a Funeral (1994)',\n",
      " 'Fried Green Tomatoes (1991)',\n",
      " 'Full Monty, The (1997)',\n",
      " 'Gandhi (1982)',\n",
      " 'Ghost (1990)',\n",
      " 'Graduate, The (1967)',\n",
      " 'Grand Day Out, A (1992)',\n",
      " 'Grumpier Old Men (1995)',\n",
      " 'Harold and Maude (1971)',\n",
      " 'Heathers (1989)',\n",
      " 'Heavy Metal (1981)',\n",
      " 'Highlander (1986)',\n",
      " 'Home Alone (1990)',\n",
      " 'How to Make an American Quilt (1995)',\n",
      " 'Hudsucker Proxy, The (1994)',\n",
      " 'Hunt for Red October, The (1990)',\n",
      " 'Independence Day (ID4) (1996)',\n",
      " 'Indiana Jones and the Last Crusade (1989)',\n",
      " 'Jurassic Park (1993)',\n",
      " 'Koyaanisqatsi (1983)',\n",
      " 'Lawnmower Man, The (1992)',\n",
      " 'Lawrence of Arabia (1962)',\n",
      " 'Like Water For Chocolate (Como agua para chocolate) (1992)',\n",
      " 'Lion King, The (1994)',\n",
      " 'Mary Poppins (1964)',\n",
      " 'Mask, The (1994)',\n",
      " \"McHale's Navy (1997)\",\n",
      " 'Men in Black (1997)',\n",
      " \"Microcosmos: Le peuple de l'herbe (1996)\",\n",
      " 'Monty Python and the Holy Grail (1974)',\n",
      " \"Monty Python's Life of Brian (1979)\",\n",
      " 'Mrs. Doubtfire (1993)',\n",
      " 'Much Ado About Nothing (1993)',\n",
      " 'Muppet Treasure Island (1996)',\n",
      " 'My Left Foot (1989)',\n",
      " 'My Life as a Dog (Mitt liv som hund) (1985)',\n",
      " 'Mystery Science Theater 3000: The Movie (1996)',\n",
      " 'Nightmare Before Christmas, The (1993)',\n",
      " 'Pink Floyd - The Wall (1982)',\n",
      " 'Pretty Woman (1990)',\n",
      " 'Princess Bride, The (1987)',\n",
      " 'Psycho (1960)',\n",
      " 'Pulp Fiction (1994)',\n",
      " 'Raiders of the Lost Ark (1981)',\n",
      " 'Real Genius (1985)',\n",
      " 'Return of the Jedi (1983)',\n",
      " 'Return of the Pink Panther, The (1974)',\n",
      " 'Right Stuff, The (1983)',\n",
      " 'Road to Wellville, The (1994)',\n",
      " 'Robin Hood: Men in Tights (1993)',\n",
      " 'Rumble in the Bronx (1995)',\n",
      " 'Secret of Roan Inish, The (1994)',\n",
      " 'Sex, Lies, and Videotape (1989)',\n",
      " 'Shadowlands (1993)',\n",
      " 'Shawshank Redemption, The (1994)',\n",
      " 'Shining, The (1980)',\n",
      " 'Sneakers (1992)',\n",
      " 'Snow White and the Seven Dwarfs (1937)',\n",
      " 'Sound of Music, The (1965)',\n",
      " 'Stand by Me (1986)',\n",
      " 'Star Trek III: The Search for Spock (1984)',\n",
      " 'Star Trek IV: The Voyage Home (1986)',\n",
      " 'Star Trek V: The Final Frontier (1989)',\n",
      " 'Star Trek VI: The Undiscovered Country (1991)',\n",
      " 'Star Trek: First Contact (1996)',\n",
      " 'Star Trek: Generations (1994)',\n",
      " 'Star Trek: The Motion Picture (1979)',\n",
      " 'Star Trek: The Wrath of Khan (1982)',\n",
      " 'Star Wars (1977)',\n",
      " 'Stargate (1994)',\n",
      " 'Tank Girl (1995)',\n",
      " 'Terminator, The (1984)',\n",
      " 'This Is Spinal Tap (1984)',\n",
      " 'Titanic (1997)',\n",
      " 'To Kill a Mockingbird (1962)',\n",
      " 'Top Gun (1986)',\n",
      " 'Toy Story (1995)',\n",
      " 'Wallace & Gromit: The Best of Aardman Animation (1996)',\n",
      " 'Wizard of Oz, The (1939)',\n",
      " 'Wrong Trousers, The (1993)']\n",
      "\n",
      "49/49 [==============================] - 0s 2ms/step\n",
      "---------------------------------------------------------------------------------\n",
      "Top 10 Movie recommendations for the User 307 are:\n",
      "['Boys, Les (1997)',\n",
      " 'Indian Summer (1996)',\n",
      " 'Barb Wire (1996)',\n",
      " 'Batman & Robin (1997)',\n",
      " 'Speed 2: Cruise Control (1997)',\n",
      " 'Once Were Warriors (1994)',\n",
      " \"Margaret's Museum (1995)\",\n",
      " 'MatchMaker, The (1997)',\n",
      " 'Ghost in the Shell (Kokaku kidotai) (1995)',\n",
      " 'Houseguest (1994)']\n"
     ]
    }
   ],
   "source": [
    "print(\"Enter user id\")\n",
    "user_id= int(input())\n",
    "\n",
    "print(\"Enter number of movies to be recommended:\")\n",
    "n_movies = int(input())\n",
    "recommender_system(user_id,model,n_movies)"
   ]
  },
  {
   "cell_type": "markdown",
   "id": "whQxITJnmCw2",
   "metadata": {
    "id": "whQxITJnmCw2"
   },
   "source": [
    "**Conclusion**"
   ]
  },
  {
   "cell_type": "markdown",
   "id": "Q0Dh3xEomKBl",
   "metadata": {
    "id": "Q0Dh3xEomKBl"
   },
   "source": [
    "The above mentioned limitations of matrix factorization can be addressed with the help of Deep Neural Network (DNN) models. Due to flexibility of the input layer of network, DNNs can easily incorporate query features and item features which can help capture the specific interests of a user and improve the relevance of recommendations.\n",
    "\n",
    "There are different types of Deep Neural Networks applications like DNN with Softmax layer, DNN with Autoencoder architecture or may it be Recommender System with Wide & Deep Neural Networks that can be applied to Recommender Systems for better movies to recommend.\n",
    "\n",
    "For this project, Softmax Deep Neural Networks are used to recommend movies. Users and Movies are one-hot encoded and fed into the Deep Neural Network as different distinct inputs and ratings are given as output.\n",
    "\n",
    "Deep Neural Network model was built by extracting the latent features of Users and movies with the help of Embedding layers and then Dense layers with dropouts were stacked in the end and finally a Dense layer with 9 neurons (one for each possible rating from 1 to 5) with a Softmax activation function was added.\n",
    "\n",
    "Hyperparmeters of the model were tuning, many loss functions and optimizers were tried with minimum validation loss as metric to built the model and get the weights.\n",
    "\n",
    "Finally, 'SGD' for optimizer and Sparse Categorical Cross entropy for loss function were picked.\n",
    "\n",
    "Movie Recommendations:\n",
    "\n",
    "User id is taken as input from the User. Then the movie ids which were not already seen by extracted from the available dataframe.\n",
    "\n",
    "How this DNN model works is, it takes two inputs, one of the input has user id's and the other has corresponding movie id's. Here DNN model tries to predict the ratings of the user - movie combination. So, I can input a specific user id (broadcasting it with the size of other input) and unseen movie id of the user and expect the model to give the ratings of the movies which would have been the ratings given by the user. Here, the ratings are already normalized and as I need the movies which interest the user more, ratings are not brought back to 0-5 scale.\n",
    "\n",
    "DNN model is used to predict the ratings of the unseen movies.\n",
    "\n",
    "I got probability of each possible rating from 1 to 5. I can extract specific rating which user would have given to a movie but it is not useful for these recommendations now.\n",
    "\n",
    "These predicted pseudo-ratings of the user for the unseen movies are sorted with highest ratings in the first and these labels are inverse transformed to get desired number of Movie names.\n",
    "\n"
   ]
  },
  {
   "cell_type": "markdown",
   "id": "a2db5a22",
   "metadata": {
    "id": "unXSKl88mM1X"
   },
   "source": [
    "**References**"
   ]
  },
  {
   "cell_type": "markdown",
   "id": "d590bac4",
   "metadata": {},
   "source": [
    "https://www.kaggle.com/code/sachinsarkar/movielens-movie-recommendation-system"
   ]
  },
  {
   "cell_type": "markdown",
   "id": "c6016697",
   "metadata": {},
   "source": [
    "https://grouplens.org/datasets/movielens/"
   ]
  },
  {
   "cell_type": "markdown",
   "id": "de4c84f9",
   "metadata": {},
   "source": [
    "https://towardsdatascience.com/movie-recommendation-system-based-on-movielens-ef0df580cd0e"
   ]
  },
  {
   "cell_type": "markdown",
   "id": "af9581e4",
   "metadata": {},
   "source": [
    "https://medium.com/swlh/recommendation-system-for-movies-movielens-grouplens-171d30be334e"
   ]
  },
  {
   "cell_type": "code",
   "execution_count": null,
   "id": "c6278fc3",
   "metadata": {},
   "outputs": [],
   "source": []
  }
 ],
 "metadata": {
  "colab": {
   "provenance": []
  },
  "kernelspec": {
   "display_name": "Python 3 (ipykernel)",
   "language": "python",
   "name": "python3"
  },
  "language_info": {
   "codemirror_mode": {
    "name": "ipython",
    "version": 3
   },
   "file_extension": ".py",
   "mimetype": "text/x-python",
   "name": "python",
   "nbconvert_exporter": "python",
   "pygments_lexer": "ipython3",
   "version": "3.10.11"
  }
 },
 "nbformat": 4,
 "nbformat_minor": 5
}
